{
 "cells": [
  {
   "cell_type": "markdown",
   "id": "metallic-updating",
   "metadata": {},
   "source": [
    "# The `os` module\n",
    "Python's os module allows you to interact with the operating system. It provides functions that work with Unix and Windows systems. Some of the operations it enables:\n",
    "- get info about the operating system\n",
    "- manage processes\n",
    "- operate on I/O streams using file descriptors"
   ]
  },
  {
   "cell_type": "markdown",
   "id": "skilled-fundamental",
   "metadata": {},
   "source": [
    "## Getting info about the OS\n",
    "Python can easily get info about the operating system using a function called `uname` which returns an object with the following attributes:\n",
    "- `sysname` - stores the name of the os\n",
    "- `nodename` - stores the machine name on the network\n",
    "- `release` - stores the operating system release\n",
    "- `version` - stores the operating system version\n",
    "- `machine` - stores the hardware identified\n",
    "\n",
    "__NOTE__: if you're using a windows system you would use the uname function from the `platform` module rather than the `os` module."
   ]
  },
  {
   "cell_type": "code",
   "execution_count": 9,
   "id": "smaller-holocaust",
   "metadata": {},
   "outputs": [
    {
     "name": "stdout",
     "output_type": "stream",
     "text": [
      "Your operating system is manjaro (Linux).\n"
     ]
    }
   ],
   "source": [
    "import os\n",
    "os_info = os.uname()\n",
    "\n",
    "print(f\"Your operating system is {os_info.nodename} ({os_info.sysname}).\")"
   ]
  },
  {
   "cell_type": "markdown",
   "id": "verbal-dinner",
   "metadata": {},
   "source": [
    "You can quickly distinguish between operating systems using the `name` attribute which shows the following:\n",
    "- __posix__ for a Unix os.\n",
    "- __nt__ for Windows.\n",
    "- __java__ if your code is written in Jython."
   ]
  },
  {
   "cell_type": "code",
   "execution_count": 10,
   "id": "amazing-klein",
   "metadata": {},
   "outputs": [
    {
     "name": "stdout",
     "output_type": "stream",
     "text": [
      "posix\n"
     ]
    }
   ],
   "source": [
    "import os\n",
    "\n",
    "print(os.name)"
   ]
  },
  {
   "cell_type": "markdown",
   "id": "dress-joining",
   "metadata": {},
   "source": [
    "## Creating directories with Python\n",
    "The os module provides a function called `mkdir` which, as with the `mkdir` command on Unix & Windows, allows you to create a directory. It requires a path that can be relative or absolute. If a directory by that name already exists a `FileExistsError` will be raised.\n",
    "\n",
    "Functions used in the below example are:\n",
    "- `mkdir()`: used to create a directory\n",
    "- `listdir()`: used to list the contents of the current directory"
   ]
  },
  {
   "cell_type": "code",
   "execution_count": 17,
   "id": "laughing-asbestos",
   "metadata": {},
   "outputs": [
    {
     "name": "stdout",
     "output_type": "stream",
     "text": [
      "python3_working-with-files_part-2.ipynb, python3_pythons-objective-exceptions.ipynb, .screenlayout, .zshrc, python3_instance-variables.ipynb, python3_inheritance.ipynb, riker.txt, Templates, python3-modules.ipynb, Downloads, python3_creating-a-hierarchy-of-classes.ipynb, .bashrc, go, .npm, python3_strings-continued.ipynb, python3_closures.ipynb, .zhistory, .ipython, .gtkrc-2.0, Desktop, python3_working-with-files_part-1.ipynb, file.bin, slimblade.sh, python3_character-encoding.ipynb, .Xclients, .ipynb_checkpoints, .xinitrc, \n",
      "\n",
      "***TEST_DIRECTORY****\n",
      "\n",
      ".urxvt, python3_procedural-vs-objective-stack.ipynb, python3_generators.ipynb, temp, Documents, .nv, text.txt, .pki, .gitkraken, python3_working-with-files_part-3.ipynb, .bash_logout, .cache, Untitled.ipynb, Untitled2.ipynb, .config, .gitconfig, Videos, python3_os-module.ipynb, .nvidia-settings-rc, .mozilla, Public, .jupyter, newfile.txt, Untitled3.ipynb, .dir_colors, python3_classes-and-objects-extra.ipynb, python3_lambda-functions.ipynb, python3_multi-inheritance-and-method-resolution-order.ipynb, Pictures, .var, python3_exceptions.ipynb, .gnupg, python3_oop_class-hierarchies-and-object-instantiation.ipynb, .i3, .dmenurc, Untitled1.ipynb, python3_list-comprehensions.ipynb, .zcompdump, newtext.txt, .local, new_riker.txt, python3_class-variables.ipynb, Music, .bash_profile, .idlerc, file.txt, Untitled4.ipynb, .ssh, "
     ]
    }
   ],
   "source": [
    "import os\n",
    "\n",
    "os.mkdir(\"TEST_DIRECTORY\")\n",
    "for i in os.listdir(): # get a list of the contents of the current directory\n",
    "    if i == \"TEST_DIRECTORY\": # a for loop to format it so we can see the directory we just created, if it's there\n",
    "        print(f\"\\n\\n***{i}****\\n\")\n",
    "    else:\n",
    "        print(i,end=\", \")"
   ]
  },
  {
   "cell_type": "markdown",
   "id": "decreased-differential",
   "metadata": {},
   "source": [
    "### Recursive directory creation\n",
    "The mkdir function can be used to create a single directory at once but what if you know you want to create multiple nested directories? For that, we have the `makedirs` function which will create all directories in the path provided.\n",
    "\n",
    "Functions used in the following example:\n",
    "- `makedirs()`: used to create multiple, nested directories\n",
    "- `chdir()`: change into the specified directory\n",
    "- `getcwd()`: used to get the current working directory (equivalent to the unix `pwd` print working directory)"
   ]
  },
  {
   "cell_type": "code",
   "execution_count": 11,
   "id": "paperback-deposit",
   "metadata": {},
   "outputs": [
    {
     "name": "stdout",
     "output_type": "stream",
     "text": [
      "/home/neal-i3/TEST_LEVEL3/TEST_LEVEL2/TEST_LEVEL1\n",
      "/home/neal-i3/TEST_LEVEL3\n"
     ]
    }
   ],
   "source": [
    "import os\n",
    "\n",
    "os.makedirs(\"TEST_LEVEL3/TEST_LEVEL2/TEST_LEVEL1\") # create 3 directories Lvl3>Lvl2>Lvl1\n",
    "os.chdir(\"TEST_LEVEL3/TEST_LEVEL2/TEST_LEVEL1\") # change into the innermost directory (Lvl1)\n",
    "print(os.getcwd()) # print the current working directory showing all 3 levels\n",
    "os.chdir(\"../../..\")"
   ]
  },
  {
   "cell_type": "markdown",
   "id": "secure-spray",
   "metadata": {},
   "source": [
    "## Removing directories\n",
    "The os module includes a couple of functions for deleting direcories:\n",
    "- `rmdir()`: will delete a single, empty directory\n",
    "- `removedirs()` will delete a series of empty, nested directories\n",
    "\n",
    "If any of the directories passed to either function is empty (or doesn't exist) an exception will be raised."
   ]
  },
  {
   "cell_type": "code",
   "execution_count": 12,
   "id": "cordless-rebecca",
   "metadata": {},
   "outputs": [
    {
     "name": "stdout",
     "output_type": "stream",
     "text": [
      "/home/neal-i3/TEST_LEVEL3/ANOTHER_TEST/AT_LVL2\n"
     ]
    }
   ],
   "source": [
    "import os\n",
    "\n",
    "os.makedirs(\"ANOTHER_TEST/AT_LVL2\")\n",
    "os.chdir(\"ANOTHER_TEST/AT_LVL2\")\n",
    "print(os.getcwd())\n",
    "os.chdir(\"../../\")\n",
    "os.removedirs(\"ANOTHER_TEST/AT_LVL2\")\n",
    "print(os.listdir())"
   ]
  },
  {
   "cell_type": "markdown",
   "id": "quiet-turtle",
   "metadata": {},
   "source": [
    "## The `system()` function\n",
    "The `system()` function allows you to run normal system commands through Python. For example, rather than using `os.mkdir(\"test_directory\")` you could use `os.system(\"mkdir test_directory\")`. If run on Windows the function will return the value returned by the shell, on Unix it will return the exit status of the process i.e. on a Unix system if the command was successful you would receive `0` as the exist status."
   ]
  },
  {
   "cell_type": "code",
   "execution_count": 1,
   "id": "synthetic-capability",
   "metadata": {},
   "outputs": [
    {
     "name": "stdout",
     "output_type": "stream",
     "text": [
      "0\n",
      "/home/neal-i3/yet_another_test\n",
      "0\n"
     ]
    }
   ],
   "source": [
    "import os\n",
    "\n",
    "returned_val = os.system(\"mkdir yet_another_test\")\n",
    "print(returned_val)\n",
    "os.chdir(\"yet_another_test\")\n",
    "print(os.getcwd())\n",
    "os.chdir(\"../\")\n",
    "returned_val = os.system(\"rmdir yet_another_test\")\n",
    "print(returned_val)"
   ]
  },
  {
   "cell_type": "markdown",
   "id": "published-copying",
   "metadata": {},
   "source": [
    "# Lets create a search function\n",
    "Lets use the knowledge we've covered here to create a function that takes a path and a search word and searches all directories in the path for that word."
   ]
  },
  {
   "cell_type": "code",
   "execution_count": 90,
   "id": "medieval-fiber",
   "metadata": {},
   "outputs": [
    {
     "name": "stdout",
     "output_type": "stream",
     "text": [
      "Target 1: /home/neal-i3/tree/python\n",
      "Target 2: /home/neal-i3/tree/cpp/other_courses/python\n",
      "Target 3: /home/neal-i3/tree/c/other_courses/python\n",
      "Found 3 pythons\n"
     ]
    }
   ],
   "source": [
    "import os\n",
    "\n",
    "# create some folders to use\n",
    "os.mkdir(\"./tree\")\n",
    "os.chdir(\"tree\")\n",
    "os.makedirs(\"c/other_courses/cpp\")\n",
    "os.makedirs(\"c/other_courses/python\")\n",
    "os.makedirs(\"cpp/other_courses/c\")\n",
    "os.makedirs(\"cpp/other_courses/python\")\n",
    "os.makedirs(\"python/other_courses/c\")\n",
    "os.makedirs(\"python/other_courses/cpp\")\n",
    "os.chdir(\"../\")\n",
    "\n",
    "\n",
    "def searcher(search_path, search_target):\n",
    "    target_count = 0\n",
    "    os.chdir(search_path) # enter the provided directory\n",
    "    contents = os.listdir() # obtain a list of the contents\n",
    "    if search_target in contents: # if our target is in the contents change into it\n",
    "        os.chdir(search_target)\n",
    "        target_count += 1 # increment our target count\n",
    "        print(f\"Target {target_count}: {os.getcwd()}\") # print the path \n",
    "        os.chdir(\"../\") # navigate back out to parent directory and continue\n",
    "\n",
    "    for d in contents: # loop through the rest of the contents\n",
    "        if os.path.isdir(d): # if the item is a directory change into it\n",
    "            os.chdir(d)\n",
    "            inner_dir = os.listdir() # obtain a list of the contents\n",
    "            if search_target in inner_dir: # if our target is in the contents change into it\n",
    "                os.chdir(search_target)\n",
    "                target_count += 1 # increment\n",
    "                print(f\"Target {target_count}: {os.getcwd()}\") # print path\n",
    "                os.chdir(\"../..\") # navigate back out\n",
    "            for i in inner_dir: # loop through this inner directory\n",
    "                if os.path.isdir(i): # if the current loop is a directory change into it\n",
    "                    os.chdir(i)\n",
    "                    ininind = os.listdir()\n",
    "                    if search_target in ininind: # if our target is present change into it\n",
    "                        os.chdir(search_target)\n",
    "                        target_count += 1 # increment\n",
    "                        print(f\"Target {target_count}: {os.getcwd()}\") # print path\n",
    "                        os.chdir(\"../\") # navigate back out\n",
    "                    os.chdir(\"../..\")\n",
    "    os.chdir('/home/neal-i3')\n",
    "    print(f\"Found {target_count} {search_target}s\")\n",
    "\n",
    "\n",
    "searcher(\"./tree\",\"python\")"
   ]
  },
  {
   "cell_type": "code",
   "execution_count": null,
   "id": "thermal-department",
   "metadata": {},
   "outputs": [],
   "source": []
  }
 ],
 "metadata": {
  "kernelspec": {
   "display_name": "Python 3",
   "language": "python",
   "name": "python3"
  },
  "language_info": {
   "codemirror_mode": {
    "name": "ipython",
    "version": 3
   },
   "file_extension": ".py",
   "mimetype": "text/x-python",
   "name": "python",
   "nbconvert_exporter": "python",
   "pygments_lexer": "ipython3",
   "version": "3.9.4"
  }
 },
 "nbformat": 4,
 "nbformat_minor": 5
}
