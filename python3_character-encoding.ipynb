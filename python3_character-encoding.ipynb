{
 "cells": [
  {
   "cell_type": "markdown",
   "metadata": {},
   "source": [
    "# Strings and Characters\n",
    "While not strictly a Python topic it's worth covering some basics about how data is recognised by computers."
   ]
  },
  {
   "cell_type": "markdown",
   "metadata": {},
   "source": [
    "## ASCII (American Standard Code for Information Interchange)\n",
    "ASCII is one of the most widely used/recognised character encodings. It includes 256 different characters and each character takes up 8 bits. The first 128 characters are the standard Latin alphabet. Some examples of ASCII below:\n",
    "\n",
    "\n",
    "|Char|Code|\n",
    "|---|---|\n",
    "|(space)|32|\n",
    "|!|33|\n",
    "|\"|34|\n",
    "|#|35|\n",
    "|$|36|\n",
    "|A|65|\n",
    "|Z|90|\n",
    "|a|97|\n",
    "|z|122|"
   ]
  },
  {
   "cell_type": "markdown",
   "metadata": {},
   "source": [
    "## I18N (Internationalization)\n",
    "A `code point` is a number which makes a character. In the ASCII examples above the 32 code point represents a space. The Latin alphabet occupies the first 128 code points of ASCII and the remaining 128 code points are used differently for different languages using a `code page`. A code page is a \"standard\" for using the remaining 128 code points from ASCII for different languages. For example one code page will assign those 128 code points for Cyrillic, another will assign those code points to Slavic etc."
   ]
  },
  {
   "cell_type": "markdown",
   "metadata": {},
   "source": [
    "## Unicode\n",
    "Unicode assigns unique characters to more than a million code points. The first 128 Unicode code points are identical to ASCII and the first 256 Unicode code points are identical to `ISO/IEC 8859-1` (a code page for Western European languages)."
   ]
  },
  {
   "cell_type": "markdown",
   "metadata": {},
   "source": [
    "### UCS-4 (Universal Character Set 4)\n",
    "UCS-4 is an implementation of Unicode which uses 32 bits (four bytes) to store each character."
   ]
  },
  {
   "cell_type": "markdown",
   "metadata": {},
   "source": [
    "### UTF-8 (Unicode Transformation Format-8)\n",
    "UTF-8 is an implementation of Unicode that only uses as many bits for each code point as needed. For example:\n",
    " - All Latin characters occupy 8 bits\n",
    " - non-Latin characters occupy 16 bits\n",
    " - CJK (China, Japan, Korea) ideographs occupy 24 bits"
   ]
  },
  {
   "cell_type": "markdown",
   "metadata": {},
   "source": [
    "## Additional info:\n",
    " - A `BOM` (byte order mark) is special combination of bits anouncing the encoding used by a files content.\n",
    " - Python 3 fully supports Unicode and UTF-8, meaning you can use Unicode/UTF-8 characters to name variables etc"
   ]
  },
  {
   "cell_type": "code",
   "execution_count": null,
   "metadata": {},
   "outputs": [],
   "source": []
  }
 ],
 "metadata": {
  "kernelspec": {
   "display_name": "Python 3",
   "language": "python",
   "name": "python3"
  },
  "language_info": {
   "codemirror_mode": {
    "name": "ipython",
    "version": 3
   },
   "file_extension": ".py",
   "mimetype": "text/x-python",
   "name": "python",
   "nbconvert_exporter": "python",
   "pygments_lexer": "ipython3",
   "version": "3.9.2"
  }
 },
 "nbformat": 4,
 "nbformat_minor": 4
}
