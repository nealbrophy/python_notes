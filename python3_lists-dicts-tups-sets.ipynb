{
 "cells": [
  {
   "cell_type": "markdown",
   "metadata": {},
   "source": [
    "# Lists, Dictionaries, and Tuples\n",
    "|type|code|features\n",
    "|:--|:--|:--|\n",
    "|dict|`{...}`|unordered, unsortable, retrieve items by key\n",
    "|list|`[...]`|ordered, sortable, retrieve items by index\n",
    "|tup|`(...)`|ordered, sortable, retrieve items by index, immutable\n",
    "|set|`{...}`|unordered, unsortable, unique"
   ]
  },
  {
   "cell_type": "markdown",
   "metadata": {},
   "source": [
    "## <div align=\"center\">Lists</div>"
   ]
  },
  {
   "cell_type": "code",
   "execution_count": 2,
   "metadata": {},
   "outputs": [
    {
     "name": "stdout",
     "output_type": "stream",
     "text": [
      "[1, 2, 3, 'alphabet', 'curious cat', 32.433]\n",
      "alphabet\n",
      "[3, 'alphabet', 'curious cat']\n"
     ]
    }
   ],
   "source": [
    "my_list = [1, 2, 3, \"alphabet\", \"curious cat\", 32.433]\n",
    "print(my_list)\n",
    "print(my_list[3])\n",
    "print(my_list[2:5])"
   ]
  },
  {
   "cell_type": "code",
   "execution_count": 4,
   "metadata": {},
   "outputs": [
    {
     "name": "stdout",
     "output_type": "stream",
     "text": [
      "['use', 'the', '.pop', 'method', 'to', 'remove', 'the', 'last', 'item']\n",
      "item\n",
      "['use', 'the', '.pop', 'method', 'to', 'remove', 'the', 'last']\n"
     ]
    }
   ],
   "source": [
    "another_list = [\"use\", \"the\", \".pop\", \"method\", \"to\", \"remove\", \"the\", \"last\", \"item\"]\n",
    "print(another_list)\n",
    "print(another_list.pop())\n",
    "print(another_list)"
   ]
  },
  {
   "cell_type": "markdown",
   "metadata": {},
   "source": [
    "## <div align=\"center\">Dictionaries</div>"
   ]
  },
  {
   "cell_type": "code",
   "execution_count": 18,
   "metadata": {},
   "outputs": [
    {
     "name": "stdout",
     "output_type": "stream",
     "text": [
      "Nintendo\n",
      "['Switch', 'Gamecube', 'Gameboy', '3DS']\n",
      "Xbox Series\n",
      "I like Switch and Playstation 4 but I prefer the Xbox Series X user interface.\n"
     ]
    }
   ],
   "source": [
    "my_dict = {\"Switch\": \"Nintendo\", \"Xbox\": \"Microsoft\", \"Playstation\": \"Sony\"}\n",
    "print(my_dict[\"Switch\"])\n",
    "another_dict = {\n",
    "    \"Nintendo\": [\"Switch\", \"Gamecube\", \"Gameboy\", \"3DS\"],\n",
    "    \"Microsoft\": [\"Xbox\", \"Xbox360\", \"Xbox One\", \"Xbox Series\"],\n",
    "    \"Sony\": [\"Playstation\", \"Playstation 2\", \"Playstation 3\", \"Playstation 4\", \"Vita\"]\n",
    "}\n",
    "print(another_dict[\"Nintendo\"])\n",
    "print(another_dict[\"Microsoft\"][3])\n",
    "print(f'I like {another_dict[\"Nintendo\"][0]} and {another_dict[\"Sony\"][-2]} but I prefer the {another_dict[\"Microsoft\"][-1]+\" X\"} user interface.')"
   ]
  },
  {
   "cell_type": "markdown",
   "metadata": {},
   "source": [
    "## <div align=\"center\">Tuples</div>"
   ]
  },
  {
   "cell_type": "code",
   "execution_count": 24,
   "metadata": {},
   "outputs": [
    {
     "name": "stdout",
     "output_type": "stream",
     "text": [
      "(1, 2, 'Hello World', 43.564, 'Hello World')\n"
     ]
    }
   ],
   "source": [
    "my_tup = (1, 2, \"Hello World\", 43.564, \"Hello World\")\n",
    "print(my_tup)"
   ]
  },
  {
   "cell_type": "code",
   "execution_count": 19,
   "metadata": {},
   "outputs": [
    {
     "ename": "TypeError",
     "evalue": "'tuple' object does not support item assignment",
     "output_type": "error",
     "traceback": [
      "\u001b[0;31m---------------------------------------------------------------------------\u001b[0m",
      "\u001b[0;31mTypeError\u001b[0m                                 Traceback (most recent call last)",
      "\u001b[0;32m<ipython-input-19-cbc8e1680b12>\u001b[0m in \u001b[0;36m<module>\u001b[0;34m\u001b[0m\n\u001b[0;32m----> 1\u001b[0;31m \u001b[0mmy_tup\u001b[0m\u001b[0;34m[\u001b[0m\u001b[0;36m1\u001b[0m\u001b[0;34m]\u001b[0m \u001b[0;34m=\u001b[0m \u001b[0;36m4\u001b[0m \u001b[0;31m# Will throw a TypeError as tuples are immutable\u001b[0m\u001b[0;34m\u001b[0m\u001b[0;34m\u001b[0m\u001b[0m\n\u001b[0m",
      "\u001b[0;31mTypeError\u001b[0m: 'tuple' object does not support item assignment"
     ]
    }
   ],
   "source": [
    "my_tup[1] = 4 # Will throw a TypeError as tuples are immutable"
   ]
  },
  {
   "cell_type": "code",
   "execution_count": 26,
   "metadata": {},
   "outputs": [
    {
     "name": "stdout",
     "output_type": "stream",
     "text": [
      "2\n",
      "2\n"
     ]
    }
   ],
   "source": [
    "print(my_tup.count(\"Hello World\")) # count method for tuples returns no. of occurences\n",
    "print(my_tup.index(\"Hello World\")) # index method for tuples return index of first occurence"
   ]
  },
  {
   "cell_type": "markdown",
   "metadata": {},
   "source": [
    "## <div align=\"center\">Sets</div>"
   ]
  },
  {
   "cell_type": "code",
   "execution_count": 35,
   "metadata": {},
   "outputs": [
    {
     "name": "stdout",
     "output_type": "stream",
     "text": [
      "{1, 2, 3, 4}\n",
      "{1, 2, 3, 4, 5}\n",
      "{1, 2, 3, 4, 5}\n"
     ]
    }
   ],
   "source": [
    "my_set = {1, 2, 3, 4}\n",
    "print(my_set)\n",
    "my_set.add(5)\n",
    "print(my_set)\n",
    "my_set.add(5)\n",
    "print(my_set)"
   ]
  },
  {
   "cell_type": "code",
   "execution_count": null,
   "metadata": {},
   "outputs": [],
   "source": []
  }
 ],
 "metadata": {
  "kernelspec": {
   "display_name": "Python 3",
   "language": "python",
   "name": "python3"
  },
  "language_info": {
   "codemirror_mode": {
    "name": "ipython",
    "version": 3
   },
   "file_extension": ".py",
   "mimetype": "text/x-python",
   "name": "python",
   "nbconvert_exporter": "python",
   "pygments_lexer": "ipython3",
   "version": "3.8.5"
  }
 },
 "nbformat": 4,
 "nbformat_minor": 4
}
