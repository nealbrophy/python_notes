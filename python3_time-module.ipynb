{
 "cells": [
  {
   "cell_type": "markdown",
   "id": "05140d2b",
   "metadata": {},
   "source": [
    "# The `time` module\n",
    "Python's `time` module is similar to the `datetime` module except it provides time-related functions. "
   ]
  },
  {
   "cell_type": "markdown",
   "id": "d5d567e2",
   "metadata": {},
   "source": [
    "## The `sleep()` function\n",
    "The `sleep` function suspends program execution for the given number of seconds (it accepts int or float numbers only)."
   ]
  },
  {
   "cell_type": "code",
   "execution_count": 3,
   "id": "7f431e23",
   "metadata": {},
   "outputs": [
    {
     "name": "stdout",
     "output_type": "stream",
     "text": [
      "I'm gonna take a 5 second break from coding.\n",
      "Ok, I'm back.\n"
     ]
    }
   ],
   "source": [
    "import time\n",
    "\n",
    "class Developer:\n",
    "    def power_nap(self, seconds):\n",
    "        print(f\"I'm gonna take a {seconds} second break from coding.\")\n",
    "        time.sleep(seconds)\n",
    "        print(\"Ok, I'm back.\")\n",
    "        \n",
    "jimbo = Developer()\n",
    "jimbo.power_nap(5)"
   ]
  },
  {
   "cell_type": "markdown",
   "id": "acb570dd",
   "metadata": {},
   "source": [
    "## The `ctime()` function\n",
    "The `ctime()` function converts a time (expressed as the number of seconds passed since Jan 1st 1970, aka the *Unix epoch*) to a string. If you don't pass any arguments the function will return the current time."
   ]
  },
  {
   "cell_type": "code",
   "execution_count": 7,
   "id": "1cfdb4e9",
   "metadata": {},
   "outputs": [
    {
     "data": {
      "text/plain": [
       "'Mon May 10 16:00:10 2021'"
      ]
     },
     "execution_count": 7,
     "metadata": {},
     "output_type": "execute_result"
    }
   ],
   "source": [
    "import time\n",
    "\n",
    "stamp = time.time()\n",
    "time.ctime(stamp)"
   ]
  },
  {
   "cell_type": "markdown",
   "id": "683be5e9",
   "metadata": {},
   "source": [
    "## The `struct_time` class and  `gmtime()` & `localtime()` functions\n",
    "Some of the functions in the `time` module require knowledge of the *struct_time* class, lets take a look at that class:\n",
    "\n",
    "`time.struct_time:\n",
    "    tm_year # specifies the year\n",
    "    tm_mon # specifies the month (1 to 12)\n",
    "    tm_mday # specifies the day of the month (1 to 31)\n",
    "    tm_hour # specifies the hour (0 to 23)\n",
    "    tm_min # specifies the minute (0 to 59)\n",
    "    tm_sec # specifies the second (0 to 59)\n",
    "    tm_wday # specifies the weekday (0 to 6)\n",
    "    tm_yday # specifies the year day (1 to 366);\n",
    "    tm_isdst # specifies whether daylight saving time applies (1=yes, 0=no)\n",
    "    tm_zone # specifies the timezone name (value in an abbreviated format)\n",
    "    tm_gmtoff # specifies the offset east of UTC (value in seconds)`\n",
    "    \n",
    "The `struct_time` class also allows access to values using indexes i.e. index `0` returns the value in `tm_year`, `1` the value in `tm_mon` etc. The exceptions are `tm_zone` and `tm_gmtoff` which cannot be accessed using indexes."
   ]
  },
  {
   "cell_type": "code",
   "execution_count": 9,
   "id": "75444e75",
   "metadata": {},
   "outputs": [
    {
     "name": "stdout",
     "output_type": "stream",
     "text": [
      "time.struct_time(tm_year=2021, tm_mon=5, tm_mday=10, tm_hour=15, tm_min=10, tm_sec=32, tm_wday=0, tm_yday=130, tm_isdst=0)\n",
      "time.struct_time(tm_year=2021, tm_mon=5, tm_mday=10, tm_hour=16, tm_min=10, tm_sec=32, tm_wday=0, tm_yday=130, tm_isdst=0)\n"
     ]
    }
   ],
   "source": [
    "import time\n",
    "\n",
    "tstamp = time.time()\n",
    "print(time.gmtime(tstamp))\n",
    "print(time.localtime(tstamp))"
   ]
  },
  {
   "cell_type": "markdown",
   "id": "3ae1169a",
   "metadata": {},
   "source": [
    "## The `asctime()` and `mktime()` functions\n",
    "The `time` module has finctions that expect a *struct_time* object or a tuple that stores values according to the indexes presented when discussing the *struct_time* class.\n",
    "\n",
    "- `asctime()` converts a struct_time object (or tuple) to a string.\n",
    "- `mktime()` converts a struct_time object (or tuple) to a the number of seconds since the Unix epoch."
   ]
  },
  {
   "cell_type": "code",
   "execution_count": 10,
   "id": "e52f2e09",
   "metadata": {},
   "outputs": [
    {
     "name": "stdout",
     "output_type": "stream",
     "text": [
      "Mon May 10 15:15:56 2021\n",
      "1572875580.0\n"
     ]
    }
   ],
   "source": [
    "import time\n",
    "\n",
    "timestamp = time.time()\n",
    "st = time.gmtime(timestamp)\n",
    "\n",
    "print(time.asctime(st))\n",
    "print(time.mktime((2019,11,4,14,53,0,0,308,0)))"
   ]
  },
  {
   "cell_type": "markdown",
   "id": "399bdc1f",
   "metadata": {},
   "source": [
    "## The `strftime()` function\n",
    "The `strftime` function in the `time` module differs slightly from the function of the same name available in the `datetime` module in that, in addition to the format argument it can also take (optionally) a tuple or struct_time object. If you don't pass either, formatting will be done using the current local time."
   ]
  },
  {
   "cell_type": "code",
   "execution_count": 11,
   "id": "739ca581",
   "metadata": {},
   "outputs": [
    {
     "name": "stdout",
     "output_type": "stream",
     "text": [
      "2021/05/10 16:44:37\n",
      "2021/05/10 17:44:37\n"
     ]
    }
   ],
   "source": [
    "import time\n",
    "\n",
    "timestamp = time.time()\n",
    "st = time.gmtime(timestamp)\n",
    "\n",
    "print(time.strftime(\"%Y/%m/%d %H:%M:%S\", st))\n",
    "print(time.strftime(\"%Y/%m/%d %H:%M:%S\"))"
   ]
  },
  {
   "cell_type": "code",
   "execution_count": null,
   "id": "2c1bfea9",
   "metadata": {},
   "outputs": [],
   "source": []
  }
 ],
 "metadata": {
  "kernelspec": {
   "display_name": "Python 3",
   "language": "python",
   "name": "python3"
  },
  "language_info": {
   "codemirror_mode": {
    "name": "ipython",
    "version": 3
   },
   "file_extension": ".py",
   "mimetype": "text/x-python",
   "name": "python",
   "nbconvert_exporter": "python",
   "pygments_lexer": "ipython3",
   "version": "3.9.4"
  }
 },
 "nbformat": 4,
 "nbformat_minor": 5
}
