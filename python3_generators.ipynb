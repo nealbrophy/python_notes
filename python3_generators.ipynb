{
 "cells": [
  {
   "cell_type": "markdown",
   "id": "cheap-edinburgh",
   "metadata": {},
   "source": [
    "# Generators\n",
    "A Python generator is a piece of code able to produce a series of values and control the iteration process. They are often referred to as \"iterators\". An iterator/generatro that you've already encountered is the `range()` function. \n",
    "\n",
    "So what's the difference between a generator and a function? A function returns one well defined value and is invokted only once. A generator returns a series of values and in general is (implicitly) invoked more than once. For example, the `range()` function..."
   ]
  },
  {
   "cell_type": "code",
   "execution_count": 1,
   "id": "therapeutic-mambo",
   "metadata": {},
   "outputs": [
    {
     "name": "stdout",
     "output_type": "stream",
     "text": [
      "0\n",
      "1\n",
      "2\n",
      "3\n",
      "4\n"
     ]
    }
   ],
   "source": [
    "for i in range(5):\n",
    "    print(i)"
   ]
  },
  {
   "cell_type": "markdown",
   "id": "forbidden-prefix",
   "metadata": {},
   "source": [
    "It may look like it's invoked only once but it actually is invoked 6 times providing 5 values and finally signalling that the series is complete."
   ]
  },
  {
   "cell_type": "markdown",
   "id": "distinguished-memorial",
   "metadata": {},
   "source": [
    "## The iterator protocol\n",
    "The __iterator protocol__ is a way in which an object should behave to conform to the rules imposed by the context of the `for` and `in` statements. An object conforming to the iterator protocol os called an __iterator__.\n",
    "\n",
    "An iterator must provide two methods:\n",
    "- `__iter__()` which should return the object itself and which is invoked once (this is needed for Python to successfully start the iteration)\n",
    "- `__next__()` which is intended to return the next value (first, second, third etc) of the desired series. It will be invoked by the `for`/`in` statements in order to pass the next iteration; if there are no more values to provide the method should raise the `StopIteration` exception.\n",
    "\n",
    "Lets look at an example of an iterator (based on an iterator example from [edube.org](https://edube.org))."
   ]
  },
  {
   "cell_type": "code",
   "execution_count": 4,
   "id": "brief-asbestos",
   "metadata": {},
   "outputs": [
    {
     "name": "stdout",
     "output_type": "stream",
     "text": [
      "Initialize iterator...\n",
      "Give Python access to the iterator...\n",
      "Provide next iteration: \n",
      "1\n",
      "Provide next iteration: \n",
      "1\n",
      "Provide next iteration: \n",
      "2\n",
      "Provide next iteration: \n",
      "3\n",
      "Provide next iteration: \n",
      "5\n",
      "Provide next iteration: \n",
      "8\n",
      "Provide next iteration: \n",
      "13\n",
      "Provide next iteration: \n",
      "21\n",
      "Provide next iteration: \n",
      "34\n",
      "Provide next iteration: \n",
      "55\n",
      "Provide next iteration: \n"
     ]
    }
   ],
   "source": [
    "class Fib:\n",
    "    def __init__(self, nn):\n",
    "        print(\"Initialize iterator...\")\n",
    "        self.__n = nn\n",
    "        self.__i = 0\n",
    "        self.__p1 = self.__p2 = 1\n",
    "        \n",
    "    def __iter__(self):\n",
    "        print(\"Give Python access to the iterator...\")\n",
    "        return self\n",
    "    \n",
    "    def __next__(self):\n",
    "        print(\"Provide next iteration: \")\n",
    "        self.__i += 1\n",
    "        if self.__i > self.__n:\n",
    "            raise StopIteration\n",
    "        if self.__i in [1, 2]:\n",
    "            return 1\n",
    "        ret = self.__p1 + self.__p2\n",
    "        self.__p1, self.__p2 = self.__p2, ret\n",
    "        return ret\n",
    "    \n",
    "for i in Fib(10):\n",
    "    print(i)"
   ]
  },
  {
   "cell_type": "markdown",
   "id": "molecular-broadcast",
   "metadata": {},
   "source": [
    "## Making an object iterable\n",
    "You can build an iterator into a class such that an# object instantiated from the class becomes iterable."
   ]
  },
  {
   "cell_type": "code",
   "execution_count": 6,
   "id": "eight-principal",
   "metadata": {},
   "outputs": [
    {
     "name": "stdout",
     "output_type": "stream",
     "text": [
      "Initialize iterator...\n",
      "Give Python access to IterableClass iter...\n",
      "Provide next iteration: \n",
      "1\n",
      "Provide next iteration: \n",
      "1\n",
      "Provide next iteration: \n",
      "2\n",
      "Provide next iteration: \n",
      "3\n",
      "Provide next iteration: \n",
      "5\n",
      "Provide next iteration: \n",
      "8\n",
      "Provide next iteration: \n",
      "13\n",
      "Provide next iteration: \n",
      "21\n",
      "Provide next iteration: \n",
      "34\n",
      "Provide next iteration: \n",
      "55\n",
      "Provide next iteration: \n"
     ]
    }
   ],
   "source": [
    "class IterableClass:\n",
    "    def __init__(self,n):\n",
    "        self.__iter = Fib(n) # add an iterator as property within this class's init method\n",
    "        \n",
    "    def __iter__(self):\n",
    "        print(\"Give Python access to IterableClass iter...\")\n",
    "        return self.__iter\n",
    "    \n",
    "iter_obj = IterableClass(10)\n",
    "\n",
    "for i in iter_obj:\n",
    "    print(i)"
   ]
  },
  {
   "cell_type": "markdown",
   "id": "automatic-configuration",
   "metadata": {},
   "source": [
    "## The `yield` statement\n",
    "One downside of the iterator protocol is the need to keep track of each iteration between `__iter__` invocations. In the above example we needed to store each iteration for use in determining the next. Thankfully Python provides a much more convenient and elegant way of defining iteratos: the `yield` keyword.\n",
    "\n",
    "`yield` is like `return`'s brainier sibling. Whereas `return` provides you with something once and stops, `yield` provides you with something and also keeps track of what it gave you for use in the next iteration."
   ]
  },
  {
   "cell_type": "code",
   "execution_count": 14,
   "id": "embedded-clothing",
   "metadata": {},
   "outputs": [
    {
     "name": "stdout",
     "output_type": "stream",
     "text": [
      "0\n"
     ]
    },
    {
     "ename": "TypeError",
     "evalue": "'int' object is not iterable",
     "output_type": "error",
     "traceback": [
      "\u001b[0;31m---------------------------------------------------------------------------\u001b[0m",
      "\u001b[0;31mTypeError\u001b[0m                                 Traceback (most recent call last)",
      "\u001b[0;32m<ipython-input-14-864d5e332f3d>\u001b[0m in \u001b[0;36m<module>\u001b[0;34m\u001b[0m\n\u001b[1;32m      5\u001b[0m \u001b[0mprint\u001b[0m\u001b[0;34m(\u001b[0m\u001b[0mret_func\u001b[0m\u001b[0;34m(\u001b[0m\u001b[0;36m10\u001b[0m\u001b[0;34m)\u001b[0m\u001b[0;34m)\u001b[0m \u001b[0;31m# will print a single number\u001b[0m\u001b[0;34m\u001b[0m\u001b[0;34m\u001b[0m\u001b[0m\n\u001b[1;32m      6\u001b[0m \u001b[0;34m\u001b[0m\u001b[0m\n\u001b[0;32m----> 7\u001b[0;31m \u001b[0;32mfor\u001b[0m \u001b[0mi\u001b[0m \u001b[0;32min\u001b[0m \u001b[0mret_func\u001b[0m\u001b[0;34m(\u001b[0m\u001b[0;36m10\u001b[0m\u001b[0;34m)\u001b[0m\u001b[0;34m:\u001b[0m\u001b[0;34m\u001b[0m\u001b[0;34m\u001b[0m\u001b[0m\n\u001b[0m\u001b[1;32m      8\u001b[0m     \u001b[0mprint\u001b[0m\u001b[0;34m(\u001b[0m\u001b[0mi\u001b[0m\u001b[0;34m)\u001b[0m \u001b[0;31m# will throw an error because the return keyword only provides the one value and isn't iterable\u001b[0m\u001b[0;34m\u001b[0m\u001b[0;34m\u001b[0m\u001b[0m\n",
      "\u001b[0;31mTypeError\u001b[0m: 'int' object is not iterable"
     ]
    }
   ],
   "source": [
    "def ret_func(n):\n",
    "    for i in range(n):\n",
    "        return i \n",
    "\n",
    "print(ret_func(10)) # will print a single number\n",
    "    \n",
    "for i in ret_func(10):\n",
    "    print(i) # will throw an error because the return keyword only provides the one value and isn't iterable"
   ]
  },
  {
   "cell_type": "code",
   "execution_count": 15,
   "id": "defensive-microwave",
   "metadata": {},
   "outputs": [
    {
     "name": "stdout",
     "output_type": "stream",
     "text": [
      "<generator object yie_func at 0x7fbb145695f0>\n",
      "0\n",
      "1\n",
      "2\n",
      "3\n",
      "4\n",
      "5\n",
      "6\n",
      "7\n",
      "8\n",
      "9\n"
     ]
    }
   ],
   "source": [
    "def yie_func(n):\n",
    "    for i in range(n):\n",
    "        yield i\n",
    "\n",
    "print(yie_func(10)) # prints an object identifier as the function gives you an iterator not a single result\n",
    "\n",
    "for i in yie_func(10): # the result of the above is a generator so need to iterate through it to get the contents\n",
    "    print(i)"
   ]
  },
  {
   "cell_type": "markdown",
   "id": "specialized-brighton",
   "metadata": {},
   "source": [
    "So, what would the above fibonacci sequence generator look like if implemented using the `yield` keyword?"
   ]
  },
  {
   "cell_type": "code",
   "execution_count": 17,
   "id": "junior-classics",
   "metadata": {},
   "outputs": [
    {
     "name": "stdout",
     "output_type": "stream",
     "text": [
      "1\n",
      "1\n",
      "2\n",
      "3\n",
      "5\n",
      "8\n",
      "13\n",
      "21\n",
      "34\n",
      "55\n"
     ]
    }
   ],
   "source": [
    "def fibo(n):\n",
    "    p = pp = 1\n",
    "    for i in range(n):\n",
    "        if i in [0, 1]:\n",
    "            yield 1\n",
    "        else:\n",
    "            n = p + pp\n",
    "            pp, p = p, n\n",
    "            yield n\n",
    "            \n",
    "fibos = fibo(10)\n",
    "\n",
    "for i in fibos:\n",
    "    print(i)"
   ]
  },
  {
   "cell_type": "code",
   "execution_count": null,
   "id": "french-transcription",
   "metadata": {},
   "outputs": [],
   "source": []
  }
 ],
 "metadata": {
  "kernelspec": {
   "display_name": "Python 3",
   "language": "python",
   "name": "python3"
  },
  "language_info": {
   "codemirror_mode": {
    "name": "ipython",
    "version": 3
   },
   "file_extension": ".py",
   "mimetype": "text/x-python",
   "name": "python",
   "nbconvert_exporter": "python",
   "pygments_lexer": "ipython3",
   "version": "3.9.4"
  }
 },
 "nbformat": 4,
 "nbformat_minor": 5
}
