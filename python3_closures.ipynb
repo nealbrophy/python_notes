{
 "cells": [
  {
   "cell_type": "markdown",
   "id": "mighty-macro",
   "metadata": {},
   "source": [
    "# Closures\n",
    "A __closure is a nested function which still has access to values in the enclosing scope even if they are no longer present in memory__. This is a bit of an abstract one so lets break it down."
   ]
  },
  {
   "cell_type": "code",
   "execution_count": 15,
   "id": "champion-friendly",
   "metadata": {},
   "outputs": [
    {
     "name": "stdout",
     "output_type": "stream",
     "text": [
      "Message\n"
     ]
    }
   ],
   "source": [
    "def enclosing_function(message):\n",
    "    # this is the enclosing function\n",
    "    def nested_function():\n",
    "        # this is the nested function\n",
    "        print(message)\n",
    "        \n",
    "    return nested_function # returning the nested function, makes this a \"closure\"\n",
    "\n",
    "func_var = enclosing_function(\"Message\") # assign the function call to a variable\n",
    "\n",
    "func_var() # even though the function has already been executed above when assigning it\n",
    "           # we can still rerun it by calling the variable as if it were a function"
   ]
  },
  {
   "cell_type": "code",
   "execution_count": 16,
   "id": "improving-management",
   "metadata": {},
   "outputs": [
    {
     "name": "stdout",
     "output_type": "stream",
     "text": [
      "Message\n"
     ]
    }
   ],
   "source": [
    "del enclosing_function # we can even delete the original function\n",
    "\n",
    "func_var() # and the preserved function call will still work"
   ]
  },
  {
   "cell_type": "markdown",
   "id": "homeless-paintball",
   "metadata": {},
   "source": [
    "## What criteria defines a `closure`?\n",
    "In order to be considered a closure the following must be met:\n",
    "- Have a nested function (i.e. a function within a function)\n",
    "- The nested function must refer to a value defined in the enclosing function.\n",
    "- The enclosing function must `return` the nested function (not return it's result or directly call it)"
   ]
  },
  {
   "cell_type": "markdown",
   "id": "agricultural-palestinian",
   "metadata": {},
   "source": [
    "## When is it appropriate to use closures?\n",
    "Closures can avoid the use of global variables/values and provide some form of \"data hiding\". When there are few methods to be implemented in a class, closures can provide an alternative, more elegant solution. However, if the number of attributes & methods gets larger it's better to implement a class.\n",
    "\n",
    "Lets create a very simple closure which we can then use, similar to a class, to define some other objects which will inherit behaviour from the closure."
   ]
  },
  {
   "cell_type": "code",
   "execution_count": 21,
   "id": "sporting-picture",
   "metadata": {},
   "outputs": [
    {
     "name": "stdout",
     "output_type": "stream",
     "text": [
      "Thud thud thud\n",
      "Thud thud thud\n",
      "Strum strum strum\n",
      "Shoop Shoop Shoop\n"
     ]
    }
   ],
   "source": [
    "def rhythm_instruments(instrument):\n",
    "    def rhythm_sound():\n",
    "        if instrument == \"bass\" or instrument == \"drums\":\n",
    "            print(\"Thud thud thud\")\n",
    "        elif instrument == \"guitar\":\n",
    "            print(\"Strum strum strum\")\n",
    "        elif instrument == \"vocal\":\n",
    "            print(\"Shoop Shoop Shoop\")\n",
    "    return rhythm_sound # this is the closure\n",
    "\n",
    "bass = rhythm_instruments(\"bass\")\n",
    "drums = rhythm_instruments(\"drums\")\n",
    "guitar = rhythm_instruments(\"guitar\")\n",
    "backing_vocal = rhythm_instruments(\"vocal\")\n",
    "\n",
    "bass()\n",
    "drums()\n",
    "guitar()\n",
    "backing_vocal()"
   ]
  },
  {
   "cell_type": "code",
   "execution_count": null,
   "id": "composed-airport",
   "metadata": {},
   "outputs": [],
   "source": []
  }
 ],
 "metadata": {
  "kernelspec": {
   "display_name": "Python 3",
   "language": "python",
   "name": "python3"
  },
  "language_info": {
   "codemirror_mode": {
    "name": "ipython",
    "version": 3
   },
   "file_extension": ".py",
   "mimetype": "text/x-python",
   "name": "python",
   "nbconvert_exporter": "python",
   "pygments_lexer": "ipython3",
   "version": "3.9.4"
  }
 },
 "nbformat": 4,
 "nbformat_minor": 5
}
