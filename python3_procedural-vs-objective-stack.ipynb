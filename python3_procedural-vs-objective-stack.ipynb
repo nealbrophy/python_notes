{
 "cells": [
  {
   "cell_type": "markdown",
   "id": "meaningful-trader",
   "metadata": {},
   "source": [
    "# stack / LIFO\n",
    "A stack in data structure terms is like a stack of coins; if you want to add a coin you have to put it on the top of the stack and if you want to remove a coin you need to remove it from the top. LIFO is an acronym standing for Last In First Out, which is a handy description for a stack.\n",
    "\n",
    "A stack is an object with two elementary operations, conventionally named _push_ (when a new element is placed on top) and _pop_ (when an element is removed from the top).\n",
    "\n",
    "The `queue` structure is a stack/LIFO inverse where the first element added is the first element removed (i.e. FIFO - first in first out)."
   ]
  },
  {
   "cell_type": "markdown",
   "id": "loved-cuisine",
   "metadata": {},
   "source": [
    "## A procedural stack\n",
    "Lets implement a stack using procedural programming."
   ]
  },
  {
   "cell_type": "code",
   "execution_count": 2,
   "id": "associate-departure",
   "metadata": {},
   "outputs": [
    {
     "name": "stdout",
     "output_type": "stream",
     "text": [
      "[1, 2, 3]\n",
      "3\n",
      "[1, 2]\n"
     ]
    }
   ],
   "source": [
    "proc_stack = [] # a standard Python list is perfect start\n",
    "\n",
    "def push(val): # create a function to allow adding items to the stack\n",
    "    proc_stack.append(val)\n",
    "    \n",
    "def pop(): # create a function to allow removing items from the stack\n",
    "    val = proc_stack[-1]\n",
    "    del proc_stack[-1]\n",
    "    return val\n",
    "\n",
    "push(1)\n",
    "push(2)\n",
    "push(3)\n",
    "print(proc_stack)\n",
    "\n",
    "print(pop())\n",
    "print(proc_stack)"
   ]
  },
  {
   "cell_type": "markdown",
   "id": "hindu-arctic",
   "metadata": {},
   "source": [
    "## An OOP stack\n",
    "Lets implement the same stack using object oriented programming.\n",
    "\n",
    "First, we'll define a class which can be used to instantiate stacks. \n",
    "\n",
    "We need to add a constructor function named `__init__` which is executed implicitly every time an object is instantiated using this class. The constructor requires at least one parameter (usually named `self` by convention) which represents the object being created (so that that the init function knows what object to add properties etc to)."
   ]
  },
  {
   "cell_type": "code",
   "execution_count": 7,
   "id": "proper-scout",
   "metadata": {},
   "outputs": [
    {
     "name": "stdout",
     "output_type": "stream",
     "text": [
      "0\n"
     ]
    }
   ],
   "source": [
    "class ObjStack: # define a class to be used for instantiating stacks\n",
    "    def __init__(self): # this is called the constructor and is implicitly executed when an object is instantiated\n",
    "        self.stack_list = [] # adds an empty list property to any instantiated stack object\n",
    "        \n",
    "        \n",
    "my_stack = ObjStack()\n",
    "print(len(my_stack.stack_list))"
   ]
  },
  {
   "cell_type": "markdown",
   "id": "laughing-aurora",
   "metadata": {},
   "source": [
    "If you want the stack_list to be hidden from the outside world you can add a double underscore `__` to the start of the name. This makes the property \"private\" meaning it cannot be accessed except from within the class."
   ]
  },
  {
   "cell_type": "code",
   "execution_count": 6,
   "id": "unnecessary-tower",
   "metadata": {},
   "outputs": [
    {
     "ename": "AttributeError",
     "evalue": "'PrivateStack' object has no attribute '__stack_list'",
     "output_type": "error",
     "traceback": [
      "\u001b[0;31m---------------------------------------------------------------------------\u001b[0m",
      "\u001b[0;31mAttributeError\u001b[0m                            Traceback (most recent call last)",
      "\u001b[0;32m<ipython-input-6-adb6c82bf1d8>\u001b[0m in \u001b[0;36m<module>\u001b[0;34m\u001b[0m\n\u001b[1;32m      4\u001b[0m \u001b[0;34m\u001b[0m\u001b[0m\n\u001b[1;32m      5\u001b[0m \u001b[0mmy_new_stack\u001b[0m \u001b[0;34m=\u001b[0m \u001b[0mPrivateStack\u001b[0m\u001b[0;34m(\u001b[0m\u001b[0;34m)\u001b[0m\u001b[0;34m\u001b[0m\u001b[0;34m\u001b[0m\u001b[0m\n\u001b[0;32m----> 6\u001b[0;31m \u001b[0mprint\u001b[0m\u001b[0;34m(\u001b[0m\u001b[0mlen\u001b[0m\u001b[0;34m(\u001b[0m\u001b[0mmy_new_stack\u001b[0m\u001b[0;34m.\u001b[0m\u001b[0m__stack_list\u001b[0m\u001b[0;34m)\u001b[0m\u001b[0;34m)\u001b[0m\u001b[0;34m\u001b[0m\u001b[0;34m\u001b[0m\u001b[0m\n\u001b[0m",
      "\u001b[0;31mAttributeError\u001b[0m: 'PrivateStack' object has no attribute '__stack_list'"
     ]
    }
   ],
   "source": [
    "class PrivateStack:\n",
    "    def __init__(self):\n",
    "        self.__stack_list = []\n",
    "        \n",
    "        \n",
    "my_new_stack = PrivateStack()\n",
    "print(len(my_new_stack.__stack_list))"
   ]
  },
  {
   "cell_type": "code",
   "execution_count": 8,
   "id": "controlling-november",
   "metadata": {},
   "outputs": [
    {
     "name": "stdout",
     "output_type": "stream",
     "text": [
      "3\n"
     ]
    }
   ],
   "source": [
    "class PrivateStack:\n",
    "    def __init__(self):\n",
    "        self.__stack_list = []\n",
    "        \n",
    "    def push(self, val): # all class methods must include the self parameter\n",
    "        self.__stack_list.append(val)\n",
    "        \n",
    "    def pop(self):\n",
    "        val = self.__stack_list[-1]\n",
    "        del self.__stack_list[-1]\n",
    "        return val\n",
    "    \n",
    "stack_object = PrivateStack()\n",
    "\n",
    "stack_object.push(1)\n",
    "stack_object.push(2)\n",
    "stack_object.push(3)\n",
    "\n",
    "print(stack_object.pop())\n",
    "\n"
   ]
  },
  {
   "cell_type": "markdown",
   "id": "short-graphics",
   "metadata": {},
   "source": [
    "## Creating a class FROM a class\n",
    "Let's say we want to create another class which adds additional functionality to our PrivateStack class. We can do this by creating a new class which is based on our existing class.\n",
    "\n",
    "To ensure that our new class will get all the properties from its parent we need to invoke the parent/superclass' init function from within our new class' init function.\n",
    "\n",
    "We can also add some additional functionality to the push & pop functions our new class has inherited. We do this by defining the functions again but only adding the new features we want, then we simply invoke the parent's version of the function. This is called `overriding`.\n",
    "\n"
   ]
  },
  {
   "cell_type": "code",
   "execution_count": 9,
   "id": "decreased-office",
   "metadata": {},
   "outputs": [],
   "source": [
    "class ImprovedStack(PrivateStack):\n",
    "    def __init__(self):\n",
    "        PrivateStack.__init__(self) # to ensure our new class gets all the properties from its parent we need to explicitly invoke the parent's constructor\n",
    "        self.__sum = 0\n",
    "        \n",
    "    def push(self, val):\n",
    "        self.__sum += val # adding some new functionality to the existing push function\n",
    "        PrivateStack.push(self, val) # rather than rewriting the superclass' function we're invoking it within the subclass' version\n",
    "    \n",
    "    def pop(self):\n",
    "        val = PrivateStack.pop(self)\n",
    "        self.__sum -= val\n",
    "        return val\n",
    "        \n",
    "    def get_sum(self): # in order to access the private __sum variable we need a getter, a function which will obtain the value for us\n",
    "        return self.__sum"
   ]
  },
  {
   "cell_type": "code",
   "execution_count": null,
   "id": "rational-inventory",
   "metadata": {},
   "outputs": [],
   "source": []
  }
 ],
 "metadata": {
  "kernelspec": {
   "display_name": "Python 3",
   "language": "python",
   "name": "python3"
  },
  "language_info": {
   "codemirror_mode": {
    "name": "ipython",
    "version": 3
   },
   "file_extension": ".py",
   "mimetype": "text/x-python",
   "name": "python",
   "nbconvert_exporter": "python",
   "pygments_lexer": "ipython3",
   "version": "3.9.3"
  }
 },
 "nbformat": 4,
 "nbformat_minor": 5
}
