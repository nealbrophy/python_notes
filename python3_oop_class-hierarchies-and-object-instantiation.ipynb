{
 "cells": [
  {
   "cell_type": "markdown",
   "id": "improved-today",
   "metadata": {},
   "source": [
    "# Class hierarchies\n",
    "Think of `Class`, in the object oriented programming way of thinking, as like a category. For example, if we create a _vehicles_ class denoting \"moving transportation piloted by humans\" we can define more specific `subclasses` under that `superclass` such as:\n",
    " - Vehicles\n",
    "  - Land Vehicles\n",
    "    - Wheeled Vehicles\n",
    "      - Car\n",
    "    - Tracked Vehicles\n",
    "      - Tank\n",
    "  - Air Vehicles\n",
    "    - Airplane\n",
    "    - Fighter Jet\n",
    "  - Water Vehicles\n",
    "    - Freighter\n",
    "    - Scooner\n",
    "    - Yacht"
   ]
  },
  {
   "cell_type": "markdown",
   "id": "floating-things",
   "metadata": {},
   "source": [
    "Another example could be animals:\n",
    " - Animals\n",
    "   - Mammals\n",
    "     - Wild\n",
    "     - Domesticated\n",
    "   - Reptiles\n",
    "   - Birds\n",
    "   - Fish\n",
    "   - Amphibians"
   ]
  },
  {
   "cell_type": "markdown",
   "id": "quiet-glasgow",
   "metadata": {},
   "source": [
    "# Objects\n",
    "If classes are like categories, then what constitutes a category? Well, one way of thinking about is that it's a set or grouping. So, a class is like a set of objects. Therefore an object is an entity belonging to a class.\n",
    "\n",
    "An object is an incarnation of the requirements, traits, and qualities that define a specific class."
   ]
  },
  {
   "cell_type": "markdown",
   "id": "public-bradford",
   "metadata": {},
   "source": [
    "# Inheritance\n",
    "One of the fundamental concepts of object programming is `inheritance`. Any object bound to a specific class hierarchy inherits all the traits, requirements, and qualities defined inside any of the `superclasses`. The specific class that created the object may also define NEW traits, requirements, and qualities which will in turn be inherited by any `subclasses` of that class.\n",
    "\n",
    "- Vehicles\n",
    "        Trait: movement\n",
    "        Feature: ability to carry 1 or more people\n",
    " - Land Vehicles\n",
    "         Trait: movement\n",
    "         Feature: ability to carry 1 or more people\n",
    "         Requirement: travels on land\n",
    "   - Car\n",
    "          Trait: movement\n",
    "          Feature 1: ability to carry 1 or more people\n",
    "          Feature 2: has windows\n",
    "          Requirement 1: travels on land\n",
    "          Requirement 2: has 4 wheels"
   ]
  },
  {
   "cell_type": "markdown",
   "id": "personalized-rapid",
   "metadata": {},
   "source": [
    "Object programming conventions assume that every existing object may be equipped with three groups of attributes:\n",
    "- an object has a *name* that uniquely identifies it within its home namespace (although there may be some anonymous objects also)\n",
    "- an object has a *set of individual properties* which make it original, unique, or outstanding (however, it is possible to have objects with no properties at all)\n",
    "- an object has a *set of abilities to perform specific activities* able to change the object itself, or some other objects.\n",
    "\n",
    "Example 1: \"Max is a large cat who sleeps all day\"\n",
    "    Object name: Max\n",
    "    Home class: Cat\n",
    "    Property: Size(large)\n",
    "    Activity: Sleeps(all day)\n",
    "    \n",
    "Example 2: \"A pink Cadillac went quickly\"\n",
    "    Object name: Cadillac\n",
    "    Home class: Wheeled vehicles\n",
    "    Property: Colour(pink)\n",
    "    Activity: Go (quickly)"
   ]
  },
  {
   "cell_type": "markdown",
   "id": "synthetic-basic",
   "metadata": {},
   "source": [
    "# Creating a class\n",
    "To create/define a class you use the `class` keyword and a colon (convention is to use Captial Casing for class names)."
   ]
  },
  {
   "cell_type": "code",
   "execution_count": 1,
   "id": "marine-physics",
   "metadata": {},
   "outputs": [],
   "source": [
    "class MyNewClass:\n",
    "    pass"
   ]
  },
  {
   "cell_type": "markdown",
   "id": "immediate-juice",
   "metadata": {},
   "source": [
    "# Creating an object\n",
    "To create an object from a class you use an appropriate name of your choosing, the assignment operator `=`, and parentheses after the class name. This is called `instantiation` as the object you create is an `instance` of the class used to create it."
   ]
  },
  {
   "cell_type": "code",
   "execution_count": 2,
   "id": "representative-italic",
   "metadata": {},
   "outputs": [],
   "source": [
    "my_new_object = MyNewClass()"
   ]
  },
  {
   "cell_type": "code",
   "execution_count": null,
   "id": "married-solution",
   "metadata": {},
   "outputs": [],
   "source": []
  }
 ],
 "metadata": {
  "kernelspec": {
   "display_name": "Python 3",
   "language": "python",
   "name": "python3"
  },
  "language_info": {
   "codemirror_mode": {
    "name": "ipython",
    "version": 3
   },
   "file_extension": ".py",
   "mimetype": "text/x-python",
   "name": "python",
   "nbconvert_exporter": "python",
   "pygments_lexer": "ipython3",
   "version": "3.9.3"
  }
 },
 "nbformat": 4,
 "nbformat_minor": 5
}
