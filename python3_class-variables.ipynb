{
 "cells": [
  {
   "cell_type": "markdown",
   "id": "contrary-adobe",
   "metadata": {},
   "source": [
    "# Class variables\n",
    "A class variable is a property which exists within a specific class only and is stored outside of any object instance. Thus a class variable can exist even if no objects have been created (whereas instance variables can only exist once an object has been initialized).\n",
    "\n",
    "Class variables are created by assignment before the `__init__` function.\n",
    "\n"
   ]
  },
  {
   "cell_type": "code",
   "execution_count": 4,
   "id": "accessible-webster",
   "metadata": {},
   "outputs": [
    {
     "name": "stdout",
     "output_type": "stream",
     "text": [
      "{'_NewExample__first': 1} 3\n",
      "{'_NewExample__first': 3} 3\n",
      "{'_NewExample__first': 5} 3\n"
     ]
    }
   ],
   "source": [
    "class NewExample:\n",
    "    counter = 0 # class variable is created outside of the init function\n",
    "    def __init__(self, val=1):\n",
    "        self.__first = val\n",
    "        NewExample.counter += 1 # class variable is incremented within the init function\n",
    "        \n",
    "new_obj_1 = NewExample()\n",
    "new_obj_2 = NewExample(3)\n",
    "new_obj_3 = NewExample(5)\n",
    "\n",
    "print(new_obj_1.__dict__, new_obj_1.counter)\n",
    "print(new_obj_2.__dict__, new_obj_2.counter)\n",
    "print(new_obj_3.__dict__, new_obj_3.counter)"
   ]
  },
  {
   "cell_type": "markdown",
   "id": "satisfactory-north",
   "metadata": {},
   "source": [
    "Since we incremented the class variable `counter` by 1 within the init function, it counts how many objects were instantiated. From the `print` output you can see that the class variable is accessible from each object even though its not listed in the objects `__dict__` and that the value is the same across all objects."
   ]
  },
  {
   "cell_type": "markdown",
   "id": "allied-distance",
   "metadata": {},
   "source": [
    "## Mangling\n",
    "Mangling is the same in class variables as instance variables (i.e. any of your private properties can be access using the mangled version of its name)."
   ]
  },
  {
   "cell_type": "markdown",
   "id": "caroline-webmaster",
   "metadata": {},
   "source": [
    "## hasattr\n",
    "The `hasattr` function allows you to check if a given class or object has a given attribute. Its form is `hasattr(class/object, attribute)` and will return `True` if the attribute is present and `False` if not."
   ]
  },
  {
   "cell_type": "code",
   "execution_count": 6,
   "id": "enhanced-headset",
   "metadata": {},
   "outputs": [
    {
     "name": "stdout",
     "output_type": "stream",
     "text": [
      "False\n",
      "True\n"
     ]
    }
   ],
   "source": [
    "class AnotherClass:\n",
    "    def __init__(self):\n",
    "        self.greeting = \"Hello\"\n",
    "\n",
    "another_object = AnotherClass()\n",
    "\n",
    "another_object.farewell = \"Goodbye\"\n",
    "\n",
    "print(hasattr(AnotherClass,\"farewell\"))\n",
    "print(hasattr(another_object,\"farewell\"))"
   ]
  },
  {
   "cell_type": "code",
   "execution_count": null,
   "id": "transsexual-administration",
   "metadata": {},
   "outputs": [],
   "source": []
  }
 ],
 "metadata": {
  "kernelspec": {
   "display_name": "Python 3",
   "language": "python",
   "name": "python3"
  },
  "language_info": {
   "codemirror_mode": {
    "name": "ipython",
    "version": 3
   },
   "file_extension": ".py",
   "mimetype": "text/x-python",
   "name": "python",
   "nbconvert_exporter": "python",
   "pygments_lexer": "ipython3",
   "version": "3.9.3"
  }
 },
 "nbformat": 4,
 "nbformat_minor": 5
}
