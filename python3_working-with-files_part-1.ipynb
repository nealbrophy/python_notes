{
 "cells": [
  {
   "cell_type": "markdown",
   "id": "exciting-plumbing",
   "metadata": {},
   "source": [
    "# Working with files in Python\n",
    "Programs written in Python (and many other languages) do not communicate directly with the files but through abstract entities referred to as *streams* or *handles*. In order to interact with a stream you must first open, hence the act of connecting to a file in Python is called *opening the file* and uses the keyword `open`. Conversely the act of disconnecting a stream is called *closing the file* and uses the keyword `close`."
   ]
  },
  {
   "cell_type": "markdown",
   "id": "tested-thong",
   "metadata": {},
   "source": [
    "## File streams\n",
    "Opening a file also requires telling Python what __mode__ you want to open the file in. If the file is successfully opened you will be able to perform only those operations permitted by the chosen mode.\n",
    "\n",
    "In the most general terms, the main operations you will be performing on any stream are:\n",
    "- __read__ from the stream\n",
    "- __write__ to the stream\n",
    "\n",
    "The three main modes you will use to perform the above operations are:\n",
    "- __read mode__: a stream opened in this mode allows read operations only. Trying to write to the stream will throw an exception (specifically the `UnsupportedOperation` exception).\n",
    "- __write mode__: a stream opened in this mode allows write operations only. Attempting to read from the stream will cause the same exception as noted above.\n",
    "- __update mode__: this mode allows *both* read and write operations."
   ]
  },
  {
   "cell_type": "markdown",
   "id": "conscious-symphony",
   "metadata": {},
   "source": [
    "## A note on \"current file position\"\n",
    "One quirk of how Python manipulates streams is that the stream behaves like a tape-recorder (think old audio cassettes or VHS videotapes); the act of reading from or writing to the stream moves the \"tape\" along such that you are in a different location than when you started. This is referred to as the __current file position__. So, if you've read the first 3 lines from a file, your current file position is now after those read lines. Meaning that if you want to reread those lines you'll need to \"rewind\" the \"tape\" and set your current file position back to the start."
   ]
  },
  {
   "cell_type": "markdown",
   "id": "annual-signature",
   "metadata": {},
   "source": [
    "## File handles\n",
    "When you open a file Python creates an object to represent the file and erases the object when you close the file. Between opening and closing you can use this object to specify what operations you want performed on the stream. The operations you're able to perform are determined by the mode you specified when opening the stream.\n",
    "\n",
    "In the same way that Python needs to know what operating mode you want to use, it also wants to know what type of file we're working with (i.e. is it text? is it binary?). By default (if you don't specify otherwise) Python will open the file in __text mode__ (denoted by `t`). If you specifically want to work with a binary file you would use the letter `b` when opening the file."
   ]
  },
  {
   "cell_type": "markdown",
   "id": "accompanied-count",
   "metadata": {},
   "source": [
    "## Modes in detail\n",
    "\n",
    "### operations\n",
    "`r`: __read mode__\n",
    "- File must exist and be readable others an exception will be raised.\n",
    "- Only read operations can be performed.\n",
    "\n",
    "`w`: __write mode__\n",
    "- If file doesn't exist it will be created. If file exists it will be overwritten. If creation is n't possible for some reason, an exception will be raised.\n",
    "- Only write operations can be performed.\n",
    "\n",
    "`a`: __append mode__\n",
    "- If file doesn't exist it will be created. If file exists the stream will start at the end of the existing file (previous contents remain unchanged).\n",
    "- Both read and write operations can be performed.\n",
    "\n",
    "`r+`: __read and update mode__\n",
    "- File must exist and be writeable otherise an exception will be raised.\n",
    "- Both read and write operations can be performed.\n",
    "\n",
    "`w+`: __write and update mode__\n",
    "- If file doesn't exist it will be created. \n",
    "- Both read and write operations can be performed.\n",
    "\n",
    "### data type\n",
    "`t`: __text mode__\n",
    "- Default mode if `t` or `b` aren't specified\n",
    "\n",
    "`b`: __binary mode__\n",
    "\n",
    "Text mode|Binary mode|Description\n",
    ":--|:--|:--\n",
    "`rt`|`rb`|`read`\n",
    "`wt`|`wb`|`write`\n",
    "`at`|`ab`|`append`\n",
    "`r+t`|`r+b`|`read and update`\n",
    "`w+t`|`w+b`|`write and update`"
   ]
  },
  {
   "cell_type": "markdown",
   "id": "outer-storm",
   "metadata": {},
   "source": [
    "## Opening a stream\n",
    "Opening a stream can be done in a couple of ways, each using the `open` function.\n",
    "\n",
    "One way is to assigne the object created during opening to a variable:\n",
    "<br>`stream = open(filename, mode='r', encoding='None')`"
   ]
  },
  {
   "cell_type": "markdown",
   "id": "comfortable-trick",
   "metadata": {},
   "source": [
    "## Pre-opened streams\n",
    "There are three exceptions to the rule that operating on any stream requires that the `open()` function be invoked first. In particular if you import the `sys` module, because within that module three streams have already been opened.\n",
    "\n",
    "- `sys.stdin`\n",
    "    - stdin is short for \"standard input\"\n",
    "    - normally associated with the keyboard, pre-open for reading and regarded as the primary data source for running programs\n",
    "    - the well known `input()` function reads data from `stdin` by default\n",
    "   \n",
    "   \n",
    "- `sys.stdout`\n",
    "    - stdout is short for \"standard output\"\n",
    "    - normally associated with the screen, pre-open for writing and regarded as the primary target for outputting data.\n",
    "    - the `print()` function outputs data to the stdout stream.\n",
    "   \n",
    "   \n",
    "- `sys.stderr`\n",
    "    - stderr is short for \"standard error output\"\n",
    "    - normally associated with the screen, pre-open for writing and regarded as the primary place where a running program should send information on the errors encountered during its work.\n",
    " "
   ]
  },
  {
   "cell_type": "code",
   "execution_count": null,
   "id": "exclusive-alarm",
   "metadata": {},
   "outputs": [],
   "source": []
  }
 ],
 "metadata": {
  "kernelspec": {
   "display_name": "Python 3",
   "language": "python",
   "name": "python3"
  },
  "language_info": {
   "codemirror_mode": {
    "name": "ipython",
    "version": 3
   },
   "file_extension": ".py",
   "mimetype": "text/x-python",
   "name": "python",
   "nbconvert_exporter": "python",
   "pygments_lexer": "ipython3",
   "version": "3.9.4"
  }
 },
 "nbformat": 4,
 "nbformat_minor": 5
}
