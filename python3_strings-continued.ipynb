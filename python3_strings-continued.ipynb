{
 "cells": [
  {
   "cell_type": "markdown",
   "metadata": {},
   "source": [
    "# Strings continued\n",
    "Strings are immutable."
   ]
  },
  {
   "cell_type": "code",
   "execution_count": 1,
   "metadata": {},
   "outputs": [
    {
     "ename": "TypeError",
     "evalue": "'str' object does not support item deletion",
     "output_type": "error",
     "traceback": [
      "\u001b[0;31m---------------------------------------------------------------------------\u001b[0m",
      "\u001b[0;31mTypeError\u001b[0m                                 Traceback (most recent call last)",
      "\u001b[0;32m<ipython-input-1-96202a03f3ce>\u001b[0m in \u001b[0;36m<module>\u001b[0;34m\u001b[0m\n\u001b[1;32m      1\u001b[0m \u001b[0mmy_string\u001b[0m \u001b[0;34m=\u001b[0m \u001b[0;34m'hijklmnopabcdefg'\u001b[0m\u001b[0;34m\u001b[0m\u001b[0;34m\u001b[0m\u001b[0m\n\u001b[0;32m----> 2\u001b[0;31m \u001b[0;32mdel\u001b[0m \u001b[0mmy_string\u001b[0m\u001b[0;34m[\u001b[0m\u001b[0;34m-\u001b[0m\u001b[0;36m1\u001b[0m\u001b[0;34m:\u001b[0m\u001b[0;34m-\u001b[0m\u001b[0;36m5\u001b[0m\u001b[0;34m]\u001b[0m\u001b[0;34m\u001b[0m\u001b[0;34m\u001b[0m\u001b[0m\n\u001b[0m",
      "\u001b[0;31mTypeError\u001b[0m: 'str' object does not support item deletion"
     ]
    }
   ],
   "source": [
    "my_string = 'hijklmnopabcdefg'\n",
    "del my_string[-1:-5] # will raise a TypeError"
   ]
  },
  {
   "cell_type": "markdown",
   "metadata": {},
   "source": [
    "but you can still do most things, you just need to work around the rules of immutibility."
   ]
  },
  {
   "cell_type": "code",
   "execution_count": 8,
   "metadata": {},
   "outputs": [
    {
     "name": "stdout",
     "output_type": "stream",
     "text": [
      "abcdefghijklmnopqrstuvw\n"
     ]
    }
   ],
   "source": [
    "my_string = 'hijklmnopabcdefg'\n",
    "my_new_string = my_string[9:]+my_string[:9]\n",
    "my_new_string += 'qrstuvw'\n",
    "print(my_new_string)"
   ]
  },
  {
   "cell_type": "markdown",
   "metadata": {},
   "source": [
    "## Operations on strings"
   ]
  },
  {
   "cell_type": "markdown",
   "metadata": {},
   "source": [
    "### min()\n",
    "`min()` is a function which will find the minimum (the character with the lowest `code point` value) in a string."
   ]
  },
  {
   "cell_type": "code",
   "execution_count": 11,
   "metadata": {},
   "outputs": [
    {
     "name": "stdout",
     "output_type": "stream",
     "text": [
      "A\n",
      "97\n",
      "65\n"
     ]
    }
   ],
   "source": [
    "print(min('aA'))\n",
    "print(ord('a'))\n",
    "print(ord('A'))"
   ]
  },
  {
   "cell_type": "markdown",
   "metadata": {},
   "source": [
    "### max()\n",
    "`max()` is a function which will find the maximum (the character with the highest code point value) in a string."
   ]
  },
  {
   "cell_type": "code",
   "execution_count": 13,
   "metadata": {},
   "outputs": [
    {
     "name": "stdout",
     "output_type": "stream",
     "text": [
      "~\n",
      "35\n",
      "126\n"
     ]
    }
   ],
   "source": [
    "print(max('#~'))\n",
    "print(ord('#'))\n",
    "print(ord('~'))"
   ]
  },
  {
   "cell_type": "markdown",
   "metadata": {},
   "source": [
    "### index()\n",
    "The `index()` method will search a string for the given character and return it's index value of the first occurence."
   ]
  },
  {
   "cell_type": "code",
   "execution_count": 15,
   "metadata": {},
   "outputs": [
    {
     "name": "stdout",
     "output_type": "stream",
     "text": [
      "45\n",
      "8\n"
     ]
    }
   ],
   "source": [
    "print('I am the very model of a modern major general.'.index('.'))\n",
    "print('Soylent Green is people!'.index('G'))"
   ]
  },
  {
   "cell_type": "markdown",
   "metadata": {},
   "source": [
    "### list()\n",
    "The `list()` function will convert a string into a list, treating each character as a separate list item."
   ]
  },
  {
   "cell_type": "code",
   "execution_count": 16,
   "metadata": {},
   "outputs": [
    {
     "name": "stdout",
     "output_type": "stream",
     "text": [
      "['O', 'p', 'e', 'n', ' ', 't', 'h', 'e', ' ', 'p', 'o', 'd', ' ', 'b', 'a', 'y', ' ', 'd', 'o', 'o', 'r', 's', ',', ' ', 'H', 'A', 'L']\n"
     ]
    }
   ],
   "source": [
    "hal_list = list('Open the pod bay doors, HAL')\n",
    "print(hal_list)"
   ]
  },
  {
   "cell_type": "markdown",
   "metadata": {},
   "source": [
    "### count()\n",
    "The `count()` method will count the number of occurences of a given character."
   ]
  },
  {
   "cell_type": "code",
   "execution_count": 17,
   "metadata": {},
   "outputs": [
    {
     "name": "stdout",
     "output_type": "stream",
     "text": [
      "2\n"
     ]
    }
   ],
   "source": [
    "print(\"Bow to your Sensei...BOW TO YOUR SENSEI!\".count('B'))"
   ]
  },
  {
   "cell_type": "markdown",
   "metadata": {},
   "source": [
    "## String Methods\n",
    "Some common string methods"
   ]
  },
  {
   "cell_type": "markdown",
   "metadata": {},
   "source": [
    "### capitalize()"
   ]
  },
  {
   "cell_type": "code",
   "execution_count": 21,
   "metadata": {},
   "outputs": [
    {
     "name": "stdout",
     "output_type": "stream",
     "text": [
      "What's wrong with today today?\n"
     ]
    }
   ],
   "source": [
    "print(\"what's wrong with TODAY today?\".capitalize())"
   ]
  },
  {
   "cell_type": "markdown",
   "metadata": {},
   "source": [
    "### center()\n",
    "The center() method has two variants. The single parameter version will try to center the text inside a field of the specified width. The two-parameter version will do the same but instead of whitespace as padding it will use the supplied character."
   ]
  },
  {
   "cell_type": "code",
   "execution_count": 23,
   "metadata": {},
   "outputs": [
    {
     "name": "stdout",
     "output_type": "stream",
     "text": [
      "       monday       \n",
      "!!!!!!!friday!!!!!!!\n"
     ]
    }
   ],
   "source": [
    "# single parameter version\n",
    "print(\"monday\".center(20))\n",
    "\n",
    "# two parameter version\n",
    "print(\"friday\".center(20,\"!\"))"
   ]
  },
  {
   "cell_type": "markdown",
   "metadata": {},
   "source": [
    "### endswith()\n",
    "The `endswith()` method will return a boolean depending on whether or not a string ends with the given character."
   ]
  },
  {
   "cell_type": "code",
   "execution_count": 24,
   "metadata": {},
   "outputs": [
    {
     "name": "stdout",
     "output_type": "stream",
     "text": [
      "False\n"
     ]
    }
   ],
   "source": [
    "print(\"I know Kung Fu?\".endswith(\"!\"))"
   ]
  },
  {
   "cell_type": "markdown",
   "metadata": {},
   "source": [
    "### find()\n",
    "The `find()` method works similarly to the `index()` except will return `-1` if the given substring isn't found (instead of raising an error) and it only works with strings. You can provide a second argument if you want to search the string beyond a specified index or three arguments if you want to search a specific section e.g. `my_string.find(char,startindex,endindex)`"
   ]
  },
  {
   "cell_type": "code",
   "execution_count": 28,
   "metadata": {},
   "outputs": [
    {
     "name": "stdout",
     "output_type": "stream",
     "text": [
      "34\n",
      "39\n",
      "4\n",
      "10\n"
     ]
    }
   ],
   "source": [
    "print(\"Nothing that has meaning is easy. Easy doesn't enter into grown-up life.\".find(\"E\"))\n",
    "print(\"I wanna change my clothes, my hair, my face.\".find(\"f\"))\n",
    "print(\"The rat man will forgive you....this time.\".find(\"r\",2))\n",
    "print(\"I'll flip you. Flip you for real.\".find(\"y\",5,18))"
   ]
  },
  {
   "cell_type": "markdown",
   "metadata": {},
   "source": [
    "### isalnum()\n",
    "The `isalnum()` returns a boolean depending on whether or not the string contains only alphanumeric characters e.g. 'abcd123'."
   ]
  },
  {
   "cell_type": "code",
   "execution_count": 32,
   "metadata": {
    "scrolled": true
   },
   "outputs": [
    {
     "name": "stdout",
     "output_type": "stream",
     "text": [
      "False\n",
      "True\n"
     ]
    }
   ],
   "source": [
    "print(\"I'm blue abadee abadie do-abadee abadie\".isalnum()) # whitespace and punctuation are not alphanumerical chars\n",
    "print(\"Imblueabadeeabadiedoabadeeabadie\".isalnum())"
   ]
  },
  {
   "cell_type": "markdown",
   "metadata": {},
   "source": [
    "### isalpha() and isdigit()\n",
    "As you might expect `isapha()` returns a boolean based on whether the string contains only letters. `isdigit()` does the same but for numbers."
   ]
  },
  {
   "cell_type": "code",
   "execution_count": 34,
   "metadata": {},
   "outputs": [
    {
     "name": "stdout",
     "output_type": "stream",
     "text": [
      "False\n",
      "True\n"
     ]
    }
   ],
   "source": [
    "print(\"abcde1234\".isalpha())\n",
    "print(\"324506\".isdigit())"
   ]
  },
  {
   "cell_type": "markdown",
   "metadata": {},
   "source": [
    "### islower(), isupper(), and isspace()\n",
    "`islower()` returns a bool based on whether or not the string is all lowercase. `isupper()` does the same but for uppercase. `isspace()` returns a bool based on whether or not the string is whitespace only."
   ]
  },
  {
   "cell_type": "code",
   "execution_count": 35,
   "metadata": {},
   "outputs": [
    {
     "name": "stdout",
     "output_type": "stream",
     "text": [
      "False\n",
      "True\n",
      "True\n"
     ]
    }
   ],
   "source": [
    "print(\"I'm not all lowercase\".islower())\n",
    "print(\"BUT I AM ALL UPPERCASE\".isupper())\n",
    "print(\"                                                \".isspace())"
   ]
  },
  {
   "cell_type": "markdown",
   "metadata": {},
   "source": [
    "### join()\n",
    "`join()` is a string method but it expects a list argument and it will return the list items joined into a single string using the character provided e.g. `joining_char.join([list_to_be_joined])`"
   ]
  },
  {
   "cell_type": "code",
   "execution_count": 36,
   "metadata": {},
   "outputs": [
    {
     "name": "stdout",
     "output_type": "stream",
     "text": [
      "what~is~love~baby~don't~hurt~me\n"
     ]
    }
   ],
   "source": [
    "print(\"~\".join([\"what\",\"is\",\"love\",\"baby\",\"don't\",\"hurt\",\"me\"]))"
   ]
  },
  {
   "cell_type": "markdown",
   "metadata": {},
   "source": [
    "### lower()\n",
    "Returns the string as all lowercase."
   ]
  },
  {
   "cell_type": "code",
   "execution_count": 37,
   "metadata": {},
   "outputs": [
    {
     "name": "stdout",
     "output_type": "stream",
     "text": [
      "i'm mad as hell and i'm not gonna take it anymore\n"
     ]
    }
   ],
   "source": [
    "print(\"I'M MAD AS HELL AND I'M NOT GONNA TAKE IT ANYMORE\".lower())"
   ]
  },
  {
   "cell_type": "markdown",
   "metadata": {},
   "source": [
    "### lstrip()\n",
    "Removes the leading whitespace i.e. whitespace at the beginning of the string. `rstrip()` does the same for the opposite side whereas `strip()` does both. Additionally you can provide characters which you also want removed."
   ]
  },
  {
   "cell_type": "code",
   "execution_count": 44,
   "metadata": {},
   "outputs": [
    {
     "name": "stdout",
     "output_type": "stream",
     "text": [
      "foo\n",
      "bar     \n",
      "foobar\n"
     ]
    }
   ],
   "source": [
    "print(\"   foo\".lstrip())\n",
    "print(\"bar     foo\".rstrip(\"foo\"))\n",
    "print(\"   foobar   \".strip())"
   ]
  },
  {
   "cell_type": "markdown",
   "metadata": {},
   "source": [
    "### replace()\n",
    "`replace()` takes two arguments and will replace all occurences of the first arg with the second arg."
   ]
  },
  {
   "cell_type": "code",
   "execution_count": 39,
   "metadata": {},
   "outputs": [
    {
     "name": "stdout",
     "output_type": "stream",
     "text": [
      "My name is Maximus Decimus Meridius. Father to a murdered son. Husband to a murdered wife. And I will have my cake.\n"
     ]
    }
   ],
   "source": [
    "print(\"My name is Maximus Decimus Meridius. Father to a murdered son. Husband to a murdered wife. And I will have my vengeance.\".replace(\"vengeance\",\"cake\"))"
   ]
  },
  {
   "cell_type": "markdown",
   "metadata": {},
   "source": [
    "### rdind()\n",
    "Essentially reversen-find. Does the same as the `find()` method but starts at the end and works backwards."
   ]
  },
  {
   "cell_type": "code",
   "execution_count": 41,
   "metadata": {},
   "outputs": [
    {
     "name": "stdout",
     "output_type": "stream",
     "text": [
      "0\n"
     ]
    }
   ],
   "source": [
    "print(\"Funny how?\".rfind(\"F\"))"
   ]
  },
  {
   "cell_type": "markdown",
   "metadata": {},
   "source": [
    "### split()\n",
    "Kind of like the opposite of `join()`, it will split a string into a list using whitespace as the delimiter."
   ]
  },
  {
   "cell_type": "code",
   "execution_count": 48,
   "metadata": {},
   "outputs": [
    {
     "name": "stdout",
     "output_type": "stream",
     "text": [
      "[\"I don't like cricket\", ' No', ' I love it!']\n"
     ]
    }
   ],
   "source": [
    "print(\"I don't like cricket. No. I love it!\".split(\".\"))"
   ]
  },
  {
   "cell_type": "markdown",
   "metadata": {},
   "source": [
    "### startswith()\n",
    "Same as `endswith()` but at the start."
   ]
  },
  {
   "cell_type": "code",
   "execution_count": 49,
   "metadata": {},
   "outputs": [
    {
     "name": "stdout",
     "output_type": "stream",
     "text": [
      "True\n"
     ]
    }
   ],
   "source": [
    "print(\"I shot the clerk?\".startswith(\"I\"))"
   ]
  },
  {
   "cell_type": "markdown",
   "metadata": {},
   "source": [
    "### swapcase()\n",
    "Will reverse the case of it's string."
   ]
  },
  {
   "cell_type": "code",
   "execution_count": 50,
   "metadata": {},
   "outputs": [
    {
     "name": "stdout",
     "output_type": "stream",
     "text": [
      "i don't like reggae. no. I LOVE IT.\n"
     ]
    }
   ],
   "source": [
    "print(\"I DON'T LIKE REGGAE. NO. i love it.\".swapcase())"
   ]
  },
  {
   "cell_type": "code",
   "execution_count": null,
   "metadata": {},
   "outputs": [],
   "source": []
  }
 ],
 "metadata": {
  "kernelspec": {
   "display_name": "Python 3",
   "language": "python",
   "name": "python3"
  },
  "language_info": {
   "codemirror_mode": {
    "name": "ipython",
    "version": 3
   },
   "file_extension": ".py",
   "mimetype": "text/x-python",
   "name": "python",
   "nbconvert_exporter": "python",
   "pygments_lexer": "ipython3",
   "version": "3.9.2"
  }
 },
 "nbformat": 4,
 "nbformat_minor": 4
}
