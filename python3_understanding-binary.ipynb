{
 "cells": [
  {
   "cell_type": "markdown",
   "id": "be63f124",
   "metadata": {},
   "source": [
    "# Understanding Binary Numbers\n",
    "The following info is derived from [this excellent explainer](http://www.steves-internet-guide.com/binary-numbers-explained/)."
   ]
  },
  {
   "cell_type": "markdown",
   "id": "84abe4e2",
   "metadata": {},
   "source": [
    "## Decimals aka Base-10\n",
    "Before tackling binary it's helpful to first remind ourselves of how the decimal system works. Decimal uses `10` as the base and the numbers range from `0` to `9`. Let's take the number `129` (*one-hundred-and-twenty-nine*) as an example:\n",
    "\n",
    "Hundres|Tens|Ones\n",
    ":--|:--|:--\n",
    "`1`|`2`|`9`\n",
    "\n",
    "We've divided the number across columns representing each unit type the number represents:\n",
    "- `1` hundreds\n",
    "- `2` tens\n",
    "- `9` ones\n",
    "\n",
    "We could also represent the units with exponents/powers:\n",
    "\n",
    "$10^2$|$10^1$|$10^0$\n",
    ":--|:--|:--\n",
    "`1`|`2`|`9`\n",
    "\n",
    "If we need to cover larger numbers then we simply add further columns each of which represents a higher exponent of 10:\n",
    "\n",
    "$10^4$|$10^3$|$10^2$|$10^1$|$10^0$\n",
    ":--|:--|:--|:--|:--\n",
    "ten-thousands|thousands|Hundreds|Tens|Ones\n",
    "`10,000`|`1000`|`100`|`10`|`1`\n"
   ]
  },
  {
   "cell_type": "markdown",
   "id": "50cc6b13",
   "metadata": {},
   "source": [
    "## Binary numbers\n",
    "The binary system is base-2 and has only two values: `0` and `1`. So, using the same column method as we did above for decimals, we just need to replace `10` as the base for exponentiation with `2`:\n",
    "\n",
    "Fours|Twos|Ones\n",
    ":--|:--|:--\n",
    "$2^2$|$2^1$|$2^0$\n",
    "\n",
    "As the size of a binary number increases we simply need to increase our columns to the left with further exponents of 2:\n",
    "\n",
    "Thirty-Twos|Sixteens|Eights|Fours|Twos|Ones\n",
    ":--|:--|:--|:--|:--|:--\n",
    "$2^5$|$2^4$|$2^3$|$2^2$|$2^1$|$2^0$"
   ]
  },
  {
   "cell_type": "markdown",
   "id": "97116a6e",
   "metadata": {},
   "source": [
    "## Let's convert some binary to decimal\n",
    "\n",
    "Take `110100`:\n",
    "\n",
    "Thirty-Twos|Sixteens|Eights|Fours|Twos|Ones\n",
    ":--|:--|:--|:--|:--|:--\n",
    "`1`|`1`|`0`|`1`|`0`|`0`\n",
    "\n",
    "In other words:\n",
    "- `1` thirty-twos\n",
    "- `1` sixteens\n",
    "- `0` eights\n",
    "- `1` fours\n",
    "- `0` twos\n",
    "- `0` ones\n",
    "\n",
    "So, `32`+`16`+`4` = `52`"
   ]
  },
  {
   "cell_type": "markdown",
   "id": "f6000339",
   "metadata": {},
   "source": [
    "## What about converting from decimal to binary?\n",
    "The method we're going to use here is to find the largest power of two we can subtract from the number in question, then repeat for the remainder until we reach `0`.\n",
    "\n",
    "One-Hundred-Twenty-Eights|Sixty-Fours|Thirty-Twos|Sixteens|Eights|Fours|Twos|Ones\n",
    ":--|:--|:--|:--|:--|:--|:--|:--\n",
    "$2^7$|$2^6$|$2^5$|$2^4$|$2^3$|$2^2$|$2^1$|$2^0$\n",
    "\n",
    "\n",
    "Let's convert the number `48`:\n",
    "- The largest power we can deduct is `32`:\n",
    "    <br>`48-32=16`\n",
    "- The largest power we can deduct from the remainder of `16` is `16`:\n",
    "    <br>`16-16=0`\n",
    "- So, we have 1x`32` and 1x`16`\n",
    "\n",
    "Thirty-Twos|Sixteens|Eights|Fours|Twos|Ones\n",
    ":--|:--|:--|:--|:--|:--\n",
    "`1`|`1`|`0`|`0`|`0`|`0`"
   ]
  },
  {
   "cell_type": "markdown",
   "id": "10b88396",
   "metadata": {},
   "source": [
    "## Binary, bits, and bytes\n",
    "In computers and coding 8-bit numbers are common. An 8-bit number is known as an __octet__ and also more commonly as a __byte__.\n",
    "\n",
    "An 8-bit binary number can represent a maximum of `255` which in binary is `11111111`:\n",
    "\n",
    "One-Hundred-Twenty-Eights|Sixty-Fours|Thirty-Twos|Sixteens|Eights|Fours|Twos|Ones\n",
    ":--|:--|:--|:--|:--|:--|:--|:--\n",
    "`1`|`1`|`1`|`1`|`1`|`1`|`1`|`1`"
   ]
  },
  {
   "cell_type": "code",
   "execution_count": null,
   "id": "b1f0a8cf",
   "metadata": {},
   "outputs": [],
   "source": []
  }
 ],
 "metadata": {
  "kernelspec": {
   "display_name": "Python 3",
   "language": "python",
   "name": "python3"
  },
  "language_info": {
   "codemirror_mode": {
    "name": "ipython",
    "version": 3
   },
   "file_extension": ".py",
   "mimetype": "text/x-python",
   "name": "python",
   "nbconvert_exporter": "python",
   "pygments_lexer": "ipython3",
   "version": "3.9.4"
  }
 },
 "nbformat": 4,
 "nbformat_minor": 5
}
