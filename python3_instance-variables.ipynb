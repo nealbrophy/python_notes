{
 "cells": [
  {
   "cell_type": "markdown",
   "id": "peaceful-negative",
   "metadata": {},
   "source": [
    "# Instance variables\n",
    "A class can be equipped with two different kinds of data. One type are called `instance variables` and can only exist when explicitly created & added to an object (either during initialization or at any point in the objects life) and thus can only exist if an object of that class has been instantiated. Any existing property can also be removed at any time.\n",
    "\n",
    "This approach has several consequences:\n",
    "- different objects of the same class may possess different sets of properties\n",
    "- there must be a way to safely check if a specific object owns the property (otherwise an exception will be raised)\n",
    "- each object carries its own set of properties and these will not interefere with the properties of other objects"
   ]
  },
  {
   "cell_type": "code",
   "execution_count": 1,
   "id": "present-zealand",
   "metadata": {},
   "outputs": [
    {
     "name": "stdout",
     "output_type": "stream",
     "text": [
      "{'first': 1}\n",
      "{'first': 2, 'second': 3}\n",
      "{'first': 4, 'third': 5}\n"
     ]
    }
   ],
   "source": [
    "class MyExample:\n",
    "    def __init__(self, val=1):\n",
    "        self.first = val # set property \"first\"\n",
    "        \n",
    "    def set_second(self, val):\n",
    "        self.second = val # set property \"second\"\n",
    "        \n",
    "example_obj_1 = MyExample()\n",
    "example_obj_2 = MyExample(2)\n",
    "\n",
    "example_obj_2.set_second(3)\n",
    "\n",
    "example_obj_3 = MyExample(4)\n",
    "example_obj_3.third = 5 # create & set property \"third\" ad hoc\n",
    "\n",
    "print(example_obj_1.__dict__)\n",
    "print(example_obj_2.__dict__)\n",
    "print(example_obj_3.__dict__)"
   ]
  },
  {
   "cell_type": "markdown",
   "id": "postal-bookmark",
   "metadata": {},
   "source": [
    "## Mangling\n",
    "When you add a double underscore to the start of a property name (i.e. making it \"private\") what Python actually does is `mangle` the name by prepending a single underscore followed by the class name. For example:"
   ]
  },
  {
   "cell_type": "code",
   "execution_count": 2,
   "id": "italian-bradley",
   "metadata": {},
   "outputs": [
    {
     "name": "stdout",
     "output_type": "stream",
     "text": [
      "Shhhh\n"
     ]
    }
   ],
   "source": [
    "class MyNewClass:\n",
    "    def __init__(self):\n",
    "        self.__secret_prop = \"Shhhh\"\n",
    "\n",
    "my_new_obj = MyNewClass()        \n",
    "print(my_new_obj._MyNewClass__secret_prop) # we're able to access this private property by using the mangled name"
   ]
  },
  {
   "cell_type": "markdown",
   "id": "reserved-creature",
   "metadata": {},
   "source": [
    "So making a property private is quite limited and works more as a suggestion than an actual rule."
   ]
  },
  {
   "cell_type": "code",
   "execution_count": null,
   "id": "angry-paris",
   "metadata": {},
   "outputs": [],
   "source": []
  }
 ],
 "metadata": {
  "kernelspec": {
   "display_name": "Python 3",
   "language": "python",
   "name": "python3"
  },
  "language_info": {
   "codemirror_mode": {
    "name": "ipython",
    "version": 3
   },
   "file_extension": ".py",
   "mimetype": "text/x-python",
   "name": "python",
   "nbconvert_exporter": "python",
   "pygments_lexer": "ipython3",
   "version": "3.9.3"
  }
 },
 "nbformat": 4,
 "nbformat_minor": 5
}
