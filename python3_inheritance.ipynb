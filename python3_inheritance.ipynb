{
 "cells": [
  {
   "cell_type": "markdown",
   "id": "color-cabin",
   "metadata": {},
   "source": [
    "# Inheritance in Object programming\n",
    "In Object Oriented Programming, inheritance is the passing of attributes and methods from the superclass to a newly created class (the subclass). In other words, inheritance is a way of building new classes based on existing classes and passing some or all of the attributes & methods from that pre-existing class to its children."
   ]
  },
  {
   "cell_type": "code",
   "execution_count": 1,
   "id": "revised-breath",
   "metadata": {},
   "outputs": [],
   "source": [
    "class Mammal: # superclass of both primate and hominid\n",
    "    pass\n",
    "\n",
    "class Primate(Mammal): # subclass of mammal and superclass of hominid\n",
    "    pass\n",
    "\n",
    "class Hominid(Primate): # subclass of both primate and mammal\n",
    "    pass"
   ]
  },
  {
   "cell_type": "markdown",
   "id": "foreign-hospital",
   "metadata": {},
   "source": [
    "## `issubclass()`\n",
    "A useful function for determining the relationship between two classes. It will check if the first argument given is a subclass of the second argument. e.g. `issubclass(isthisclass, achildofthisclass)` will return `True` if `isthisclass` is a subclass of `achildofthisclass`."
   ]
  },
  {
   "cell_type": "code",
   "execution_count": 4,
   "id": "animal-three",
   "metadata": {},
   "outputs": [
    {
     "name": "stdout",
     "output_type": "stream",
     "text": [
      "True\n",
      "True\n",
      "False\n",
      "True\n"
     ]
    }
   ],
   "source": [
    "print(issubclass(Primate,Mammal)) # is Primate a subclass of Mammal\n",
    "print(issubclass(Hominid,Mammal)) # is Hominid a subclass of Mammal\n",
    "print(issubclass(Mammal,Primate)) # is Mammal a subclass of Primate\n",
    "print(issubclass(Primate,Primate)) # this is an odd one...is Primate a subclass of itself (yes, every class is)"
   ]
  },
  {
   "cell_type": "markdown",
   "id": "pretty-active",
   "metadata": {},
   "source": [
    "## `isinstance()`\n",
    "What about objects? Well, there's a handy function for that too. Much like the previous function this one will check if the first argument is the child of the second argument but in this case it's checking if the first is an `instance` of the second (i.e. is the first argument (an object) created by the second argument (a class).\n",
    "`isinstance(my_object,ObjectCreatorClass)`"
   ]
  },
  {
   "cell_type": "code",
   "execution_count": 5,
   "id": "other-combine",
   "metadata": {},
   "outputs": [
    {
     "name": "stdout",
     "output_type": "stream",
     "text": [
      "True\n",
      "True\n",
      "False\n"
     ]
    }
   ],
   "source": [
    "human = Hominid()\n",
    "gorilla = Primate()\n",
    "\n",
    "print(isinstance(human, Hominid))\n",
    "print(isinstance(human, Mammal))\n",
    "print(isinstance(gorilla, Hominid))"
   ]
  },
  {
   "cell_type": "markdown",
   "id": "little-clearing",
   "metadata": {},
   "source": [
    "## The `is` operator\n",
    "The `is` operator check whether two variables refer to the __same__ object."
   ]
  },
  {
   "cell_type": "code",
   "execution_count": 6,
   "id": "scheduled-clause",
   "metadata": {},
   "outputs": [
    {
     "name": "stdout",
     "output_type": "stream",
     "text": [
      "False\n",
      "False\n",
      "True\n"
     ]
    }
   ],
   "source": [
    "human_adult = Hominid()\n",
    "human_teen = Hominid()\n",
    "human_child = Hominid()\n",
    "another_human_adult = human_adult\n",
    "\n",
    "print(human_adult is human_teen)\n",
    "print(human_teen is human_child)\n",
    "print(another_human_adult is human_adult)"
   ]
  },
  {
   "cell_type": "markdown",
   "id": "distinct-university",
   "metadata": {},
   "source": [
    "## Inheriting methods from superclass\n",
    "This example demonstrates how a subclass inherits methods from its superclass. Note how there is no `__str__` method within the subclass yet an object instantiated using the subclass still prints the nicely formatted string."
   ]
  },
  {
   "cell_type": "code",
   "execution_count": 16,
   "id": "realistic-participation",
   "metadata": {},
   "outputs": [
    {
     "name": "stdout",
     "output_type": "stream",
     "text": [
      "My name is Bob\n"
     ]
    }
   ],
   "source": [
    "class NewClassWithStr:\n",
    "    def __init__(self,name):\n",
    "        self.name = name\n",
    "        \n",
    "    def __str__(self):\n",
    "        return \"My name is \" + self.name\n",
    "    \n",
    "class SubclassWithoutStr(NewClassWithStr):\n",
    "    def __init__(self, name):\n",
    "        NewClassWithStr.__init__(self, name) # trigger the superclass constructor passing it the self and name arguments\n",
    "        \n",
    "obj_without_str = SubclassWithoutStr(\"Bob\")\n",
    "\n",
    "\n",
    "print(obj_without_str)"
   ]
  },
  {
   "cell_type": "markdown",
   "id": "referenced-provider",
   "metadata": {},
   "source": [
    "## The `super()` function\n",
    "Another way of accessing the superclass' methods is using the `super()` function. Note, you don't need to (and shouldn't) pass the `self` argument if using the `super()` function."
   ]
  },
  {
   "cell_type": "code",
   "execution_count": 19,
   "id": "posted-violation",
   "metadata": {},
   "outputs": [
    {
     "name": "stdout",
     "output_type": "stream",
     "text": [
      "Howdy! My name is Neal.\n"
     ]
    }
   ],
   "source": [
    "class MySuperclass:\n",
    "    def __init__(self, greeting, name):\n",
    "        self.greeting = greeting\n",
    "        self.name = name\n",
    "        \n",
    "    def __str__(self):\n",
    "        return self.greeting + \"! My name is \" + self.name + \".\"\n",
    "    \n",
    "class MySubclass(MySuperclass):\n",
    "    def __init__(self, greeting, name):\n",
    "        super().__init__(greeting, name)\n",
    "        \n",
    "neal = MySubclass(\"Howdy\",\"Neal\")\n",
    "\n",
    "print(neal)"
   ]
  },
  {
   "cell_type": "markdown",
   "id": "dependent-syracuse",
   "metadata": {},
   "source": [
    "## Class variable inheritance\n",
    "Class variables are also subject to inheritance."
   ]
  },
  {
   "cell_type": "code",
   "execution_count": 21,
   "id": "improving-market",
   "metadata": {},
   "outputs": [
    {
     "name": "stdout",
     "output_type": "stream",
     "text": [
      "1\n",
      "42\n"
     ]
    }
   ],
   "source": [
    "class ANewClass:\n",
    "    super_var = 1\n",
    "    def __init__(self):\n",
    "        pass\n",
    "    \n",
    "class ANewSubclass(ANewClass):\n",
    "    sub_var = 42\n",
    "    def __init__(self):\n",
    "        pass\n",
    "    \n",
    "a_new_object = ANewSubclass()\n",
    "\n",
    "print(a_new_object.super_var)\n",
    "print(a_new_object.sub_var)"
   ]
  },
  {
   "cell_type": "markdown",
   "id": "abroad-monaco",
   "metadata": {},
   "source": [
    "## Instance variable inheritance\n",
    "Instance variables can also be inherited but only if the superclass constructor is invoked within the subclass definition."
   ]
  },
  {
   "cell_type": "code",
   "execution_count": 37,
   "id": "bright-century",
   "metadata": {},
   "outputs": [
    {
     "name": "stdout",
     "output_type": "stream",
     "text": [
      "False\n",
      "True\n"
     ]
    }
   ],
   "source": [
    "class Super:\n",
    "    def __init__(self):\n",
    "        self.supVar = 1\n",
    "        \n",
    "class Sub(Super):\n",
    "    def __init__(self):\n",
    "        self.subVar = 32\n",
    "        \n",
    "class Sub2(Super):\n",
    "    def __init__(self):\n",
    "        super().__init__() # invoke superclass' init \n",
    "        self.subVar = 532\n",
    "        \n",
    "new_obj_1 = Sub()\n",
    "new_obj_2 = Sub2()\n",
    "\n",
    "print(hasattr(new_obj_1,\"supVar\"))\n",
    "print(hasattr(new_obj_2,\"supVar\"))"
   ]
  },
  {
   "cell_type": "code",
   "execution_count": null,
   "id": "fresh-termination",
   "metadata": {},
   "outputs": [],
   "source": []
  }
 ],
 "metadata": {
  "kernelspec": {
   "display_name": "Python 3",
   "language": "python",
   "name": "python3"
  },
  "language_info": {
   "codemirror_mode": {
    "name": "ipython",
    "version": 3
   },
   "file_extension": ".py",
   "mimetype": "text/x-python",
   "name": "python",
   "nbconvert_exporter": "python",
   "pygments_lexer": "ipython3",
   "version": "3.9.4"
  }
 },
 "nbformat": 4,
 "nbformat_minor": 5
}
