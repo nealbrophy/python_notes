{
 "cells": [
  {
   "cell_type": "markdown",
   "metadata": {},
   "source": [
    "# Python Modules\n",
    "A module, as defined by the Python Tutorial, is a file containing Python definitions and statements which can be imported and used when needed. The Python standard library is a collection of modules included as extras with Python."
   ]
  },
  {
   "cell_type": "markdown",
   "metadata": {},
   "source": [
    "## Importing modules with the `import` keyword"
   ]
  },
  {
   "cell_type": "code",
   "execution_count": 1,
   "metadata": {},
   "outputs": [
    {
     "name": "stdout",
     "output_type": "stream",
     "text": [
      "12\n"
     ]
    }
   ],
   "source": [
    "import math # will import the entire math module making the functions etc within available to use w/ dot-notation\n",
    "\n",
    "round_up = math.ceil(11.3)\n",
    "print(round_up)\n"
   ]
  },
  {
   "cell_type": "code",
   "execution_count": 3,
   "metadata": {},
   "outputs": [
    {
     "name": "stdout",
     "output_type": "stream",
     "text": [
      "3\n"
     ]
    }
   ],
   "source": [
    "from math import floor # imports the floor func from the math module which can then be used directly\n",
    "\n",
    "round_down = floor(3.2)\n",
    "print(round_down)"
   ]
  },
  {
   "cell_type": "code",
   "execution_count": 4,
   "metadata": {},
   "outputs": [
    {
     "name": "stdout",
     "output_type": "stream",
     "text": [
      "3.4641016151377544\n"
     ]
    }
   ],
   "source": [
    "from math import sqrt as sq_root # import sqrt function and give it a name of your choosing\n",
    "\n",
    "square_root = sq_root(12)\n",
    "print(square_root)"
   ]
  },
  {
   "cell_type": "markdown",
   "metadata": {},
   "source": [
    "If you want to see what functions etc are within a module you can use the `dir()` function"
   ]
  },
  {
   "cell_type": "code",
   "execution_count": 8,
   "metadata": {},
   "outputs": [
    {
     "name": "stdout",
     "output_type": "stream",
     "text": [
      "['__doc__', '__file__', '__loader__', '__name__', '__package__', '__spec__', 'acos', 'acosh', 'asin', 'asinh', 'atan', 'atan2', 'atanh', 'ceil', 'comb', 'copysign', 'cos', 'cosh', 'degrees', 'dist', 'e', 'erf', 'erfc', 'exp', 'expm1', 'fabs', 'factorial', 'floor', 'fmod', 'frexp', 'fsum', 'gamma', 'gcd', 'hypot', 'inf', 'isclose', 'isfinite', 'isinf', 'isnan', 'isqrt', 'lcm', 'ldexp', 'lgamma', 'log', 'log10', 'log1p', 'log2', 'modf', 'nan', 'nextafter', 'perm', 'pi', 'pow', 'prod', 'radians', 'remainder', 'sin', 'sinh', 'sqrt', 'tan', 'tanh', 'tau', 'trunc', 'ulp']\n",
      "__doc__  | __file__  | __loader__  | __name__  | __package__  | __spec__  | acos  | acosh  | asin  | asinh  | atan  | atan2  | atanh  | ceil  | comb  | copysign  | cos  | cosh  | degrees  | dist  | e  | erf  | erfc  | exp  | expm1  | fabs  | factorial  | floor  | fmod  | frexp  | fsum  | gamma  | gcd  | hypot  | inf  | isclose  | isfinite  | isinf  | isnan  | isqrt  | lcm  | ldexp  | lgamma  | log  | log10  | log1p  | log2  | modf  | nan  | nextafter  | perm  | pi  | pow  | prod  | radians  | remainder  | sin  | sinh  | sqrt  | tan  | tanh  | tau  | trunc  | ulp  | "
     ]
    }
   ],
   "source": [
    "print(dir(math)) # rather messy looking list\n",
    "\n",
    "for item in dir(math): # make it a little easier to read with a for loop\n",
    "    print(item,\" | \",end=\"\")"
   ]
  },
  {
   "cell_type": "markdown",
   "metadata": {},
   "source": [
    "## The `random` module\n",
    "The random module provides several mechanisms to generate/work with pseudorandom numbers. A random number generator takes a value called a \"seed\" as an input and calculates a random number based on that input (method will vary depending on the algorithm). The length of a cycle in which the values generated are unique may be long but it is finite; eventually the values will start to repeat."
   ]
  },
  {
   "cell_type": "markdown",
   "metadata": {},
   "source": [
    "### The random function (i.e. `random.random()`)\n",
    "The random function generates a float between 0.0 and 1.0"
   ]
  },
  {
   "cell_type": "code",
   "execution_count": 20,
   "metadata": {},
   "outputs": [
    {
     "name": "stdout",
     "output_type": "stream",
     "text": [
      "0.6282874505869175\n",
      "0.19038739787932746\n",
      "0.2720983829193637\n",
      "0.4241396816590456\n",
      "0.034419753925003405\n",
      "0.515069959908128\n",
      "0.41984410825071805\n",
      "0.35613698888257883\n",
      "0.7074401711449537\n",
      "0.16886122313064245\n"
     ]
    }
   ],
   "source": [
    "import random\n",
    "\n",
    "for i in range(10):\n",
    "    print(random.random())"
   ]
  },
  {
   "cell_type": "markdown",
   "metadata": {},
   "source": [
    "###  `randrange()` and `randint()` functions\n",
    "randrange() requires at least one integer input and will generate a random number between 0 and the input e.g. `randrange(5)` will randomly select an integer between 0 and 4. If you want to get more exolicit the inputs are `randrange(start,end,step)`.\n",
    "\n",
    "randint() requires 2 inputs and will randomly select an integer between the first input and the second input INCLUSIVE. So `randint(1,5)` will produce a random integer between 1 and 5."
   ]
  },
  {
   "cell_type": "code",
   "execution_count": 36,
   "metadata": {},
   "outputs": [
    {
     "name": "stdout",
     "output_type": "stream",
     "text": [
      "1\n"
     ]
    }
   ],
   "source": [
    "print(random.randrange(5))"
   ]
  },
  {
   "cell_type": "code",
   "execution_count": 40,
   "metadata": {},
   "outputs": [
    {
     "name": "stdout",
     "output_type": "stream",
     "text": [
      "3\n"
     ]
    }
   ],
   "source": [
    "print(random.randint(1,5))"
   ]
  },
  {
   "cell_type": "markdown",
   "metadata": {},
   "source": [
    "### The `choice()` and `sample()` functions\n",
    "choice() takes a sequence of numbers and will randomly choose one from it. sample() similarly takes a sequence of numbers but additionally requires an integer value representing how many numbers you want back. It will then return a list with your chosen quantity of the input numbers in a random order."
   ]
  },
  {
   "cell_type": "code",
   "execution_count": 42,
   "metadata": {},
   "outputs": [
    {
     "name": "stdout",
     "output_type": "stream",
     "text": [
      "9\n",
      "[5, 2, 7, 3, 8, 10]\n"
     ]
    }
   ],
   "source": [
    "numbers = [1,2,3,4,5,6,7,8,9,10]\n",
    "\n",
    "print(random.choice(numbers))\n",
    "print(random.sample(numbers,6))"
   ]
  },
  {
   "cell_type": "markdown",
   "metadata": {},
   "source": [
    "## The `platform` module\n",
    "The platform module allows you to access data pertaining to the system on which your Python instance is running."
   ]
  },
  {
   "cell_type": "code",
   "execution_count": 46,
   "metadata": {},
   "outputs": [
    {
     "name": "stdout",
     "output_type": "stream",
     "text": [
      "Linux-5.9.16-1-MANJARO-x86_64-with-glibc2.33\n"
     ]
    }
   ],
   "source": [
    "from platform import platform\n",
    "\n",
    "print(platform())"
   ]
  },
  {
   "cell_type": "code",
   "execution_count": 47,
   "metadata": {},
   "outputs": [
    {
     "name": "stdout",
     "output_type": "stream",
     "text": [
      "x86_64\n"
     ]
    }
   ],
   "source": [
    "from platform import machine\n",
    "\n",
    "print(machine())"
   ]
  },
  {
   "cell_type": "code",
   "execution_count": 53,
   "metadata": {},
   "outputs": [
    {
     "name": "stdout",
     "output_type": "stream",
     "text": [
      "Linux\n"
     ]
    }
   ],
   "source": [
    "from platform import system\n",
    "\n",
    "print(system())"
   ]
  },
  {
   "cell_type": "code",
   "execution_count": 54,
   "metadata": {},
   "outputs": [
    {
     "name": "stdout",
     "output_type": "stream",
     "text": [
      "#1 SMP PREEMPT Mon Dec 21 22:00:46 UTC 2020\n"
     ]
    }
   ],
   "source": [
    "from platform import version\n",
    "\n",
    "print(version())"
   ]
  },
  {
   "cell_type": "code",
   "execution_count": 56,
   "metadata": {},
   "outputs": [
    {
     "name": "stdout",
     "output_type": "stream",
     "text": [
      "CPython\n",
      "<function python_version_tuple at 0x7efd95823820>\n",
      "3\n",
      "9\n",
      "2\n"
     ]
    }
   ],
   "source": [
    "from platform import python_implementation, python_version_tuple\n",
    "\n",
    "print(python_implementation())\n",
    "print(python_version_tuple)\n",
    "\n",
    "for atr in python_version_tuple():\n",
    "    print(atr)"
   ]
  },
  {
   "cell_type": "code",
   "execution_count": null,
   "metadata": {},
   "outputs": [],
   "source": []
  }
 ],
 "metadata": {
  "kernelspec": {
   "display_name": "Python 3",
   "language": "python",
   "name": "python3"
  },
  "language_info": {
   "codemirror_mode": {
    "name": "ipython",
    "version": 3
   },
   "file_extension": ".py",
   "mimetype": "text/x-python",
   "name": "python",
   "nbconvert_exporter": "python",
   "pygments_lexer": "ipython3",
   "version": "3.9.2"
  }
 },
 "nbformat": 4,
 "nbformat_minor": 4
}
