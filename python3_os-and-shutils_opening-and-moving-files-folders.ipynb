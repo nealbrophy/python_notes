{
 "cells": [
  {
   "cell_type": "markdown",
   "metadata": {},
   "source": [
    "# OS and SHUTILS\n",
    "`os` and `shutils` are built-in python modules for working with directories/folders etc on any operating system"
   ]
  },
  {
   "cell_type": "markdown",
   "metadata": {},
   "source": [
    "## OS module"
   ]
  },
  {
   "cell_type": "code",
   "execution_count": 2,
   "metadata": {},
   "outputs": [],
   "source": [
    "w = open('test_file.txt', 'w+')\n",
    "w.write('This is a test file.')\n",
    "w.close()"
   ]
  },
  {
   "cell_type": "code",
   "execution_count": 6,
   "metadata": {},
   "outputs": [],
   "source": [
    "import os"
   ]
  },
  {
   "cell_type": "code",
   "execution_count": 11,
   "metadata": {},
   "outputs": [
    {
     "data": {
      "text/plain": [
       "'/home/neal/Documents/udemy/complete-python-3/Complete-Python-3-Bootcamp/12-Advanced Python Modules'"
      ]
     },
     "execution_count": 11,
     "metadata": {},
     "output_type": "execute_result"
    }
   ],
   "source": [
    "os.getcwd() # get current working directory"
   ]
  },
  {
   "cell_type": "code",
   "execution_count": 12,
   "metadata": {},
   "outputs": [
    {
     "data": {
      "text/plain": [
       "['neal']"
      ]
     },
     "execution_count": 12,
     "metadata": {},
     "output_type": "execute_result"
    }
   ],
   "source": [
    "os.listdir('/home') # list contents of specified directory"
   ]
  },
  {
   "cell_type": "markdown",
   "metadata": {},
   "source": [
    "## SHUTIL"
   ]
  },
  {
   "cell_type": "code",
   "execution_count": 3,
   "metadata": {},
   "outputs": [],
   "source": [
    "import shutil"
   ]
  },
  {
   "cell_type": "markdown",
   "metadata": {},
   "source": [
    "### move"
   ]
  },
  {
   "cell_type": "code",
   "execution_count": 16,
   "metadata": {},
   "outputs": [
    {
     "ename": "Error",
     "evalue": "Destination path '/home/neal/Documents/test_file.txt' already exists",
     "output_type": "error",
     "traceback": [
      "\u001b[0;31m---------------------------------------------------------------------------\u001b[0m",
      "\u001b[0;31mError\u001b[0m                                     Traceback (most recent call last)",
      "\u001b[0;32m<ipython-input-16-110ea058670a>\u001b[0m in \u001b[0;36m<module>\u001b[0;34m\u001b[0m\n\u001b[0;32m----> 1\u001b[0;31m \u001b[0mshutil\u001b[0m\u001b[0;34m.\u001b[0m\u001b[0mmove\u001b[0m\u001b[0;34m(\u001b[0m\u001b[0;34m'test_file.txt'\u001b[0m\u001b[0;34m,\u001b[0m\u001b[0;34m'/home/neal/Documents'\u001b[0m\u001b[0;34m)\u001b[0m \u001b[0;31m# shutil.move(src, destination)\u001b[0m\u001b[0;34m\u001b[0m\u001b[0;34m\u001b[0m\u001b[0m\n\u001b[0m",
      "\u001b[0;32m/usr/lib/python3.9/shutil.py\u001b[0m in \u001b[0;36mmove\u001b[0;34m(src, dst, copy_function)\u001b[0m\n\u001b[1;32m    802\u001b[0m \u001b[0;34m\u001b[0m\u001b[0m\n\u001b[1;32m    803\u001b[0m         \u001b[0;32mif\u001b[0m \u001b[0mos\u001b[0m\u001b[0;34m.\u001b[0m\u001b[0mpath\u001b[0m\u001b[0;34m.\u001b[0m\u001b[0mexists\u001b[0m\u001b[0;34m(\u001b[0m\u001b[0mreal_dst\u001b[0m\u001b[0;34m)\u001b[0m\u001b[0;34m:\u001b[0m\u001b[0;34m\u001b[0m\u001b[0;34m\u001b[0m\u001b[0m\n\u001b[0;32m--> 804\u001b[0;31m             \u001b[0;32mraise\u001b[0m \u001b[0mError\u001b[0m\u001b[0;34m(\u001b[0m\u001b[0;34m\"Destination path '%s' already exists\"\u001b[0m \u001b[0;34m%\u001b[0m \u001b[0mreal_dst\u001b[0m\u001b[0;34m)\u001b[0m\u001b[0;34m\u001b[0m\u001b[0;34m\u001b[0m\u001b[0m\n\u001b[0m\u001b[1;32m    805\u001b[0m     \u001b[0;32mtry\u001b[0m\u001b[0;34m:\u001b[0m\u001b[0;34m\u001b[0m\u001b[0;34m\u001b[0m\u001b[0m\n\u001b[1;32m    806\u001b[0m         \u001b[0mos\u001b[0m\u001b[0;34m.\u001b[0m\u001b[0mrename\u001b[0m\u001b[0;34m(\u001b[0m\u001b[0msrc\u001b[0m\u001b[0;34m,\u001b[0m \u001b[0mreal_dst\u001b[0m\u001b[0;34m)\u001b[0m\u001b[0;34m\u001b[0m\u001b[0;34m\u001b[0m\u001b[0m\n",
      "\u001b[0;31mError\u001b[0m: Destination path '/home/neal/Documents/test_file.txt' already exists"
     ]
    }
   ],
   "source": [
    "shutil.move('test_file.txt','/home/neal/Documents') # shutil.move(src, destination)"
   ]
  },
  {
   "cell_type": "markdown",
   "metadata": {},
   "source": [
    "### delete"
   ]
  },
  {
   "cell_type": "markdown",
   "metadata": {},
   "source": [
    "#### *CAUTION: The following may irrevocably delete data, BE CAREFUL*\n",
    "- `os.unlink(path)` deletes specified file\n",
    "- `os.rmdir(path)` deletes specified directory IF EMPTY\n",
    "- `shutil.rmtree(path)` remove files and folders at specified path REGARDLESS IF EMPTY OR NOT\n",
    "\n",
    "A safer alternative to `rmtree` is to install & use the `send2trash` external module which will move the specified file/folder to your system trashcan rather than delete."
   ]
  },
  {
   "cell_type": "code",
   "execution_count": 1,
   "metadata": {},
   "outputs": [],
   "source": [
    "import send2trash"
   ]
  },
  {
   "cell_type": "code",
   "execution_count": 4,
   "metadata": {},
   "outputs": [
    {
     "data": {
      "text/plain": [
       "'/home/neal/Documents/udemy/complete-python-3/Complete-Python-3-Bootcamp/12-Advanced Python Modules/test_file.txt'"
      ]
     },
     "execution_count": 4,
     "metadata": {},
     "output_type": "execute_result"
    }
   ],
   "source": [
    "shutil.move('/home/neal/Documents/test_file.txt','/home/neal/Documents/udemy/complete-python-3/Complete-Python-3-Bootcamp/12-Advanced Python Modules')"
   ]
  },
  {
   "cell_type": "code",
   "execution_count": 7,
   "metadata": {},
   "outputs": [
    {
     "data": {
      "text/plain": [
       "['00-Collections-Module.ipynb',\n",
       " 'test_file.txt',\n",
       " '06-Timing your code - timeit.ipynb',\n",
       " '01-Opening-and-Reading-Files-Folders.ipynb',\n",
       " '03-Math-and-Random-Module.ipynb',\n",
       " '08-Advanced-Python-Module-Exercise',\n",
       " '.ipynb_checkpoints',\n",
       " '05-Overview-of-Regular-Expressions.ipynb',\n",
       " 'Example_Top_Level',\n",
       " 'Untitled.ipynb',\n",
       " '04-Python Debugger (pdb).ipynb',\n",
       " '02-Datetime-Module.ipynb',\n",
       " '07-Unzipping-and-Zipping-Files.ipynb']"
      ]
     },
     "execution_count": 7,
     "metadata": {},
     "output_type": "execute_result"
    }
   ],
   "source": [
    "os.listdir()"
   ]
  },
  {
   "cell_type": "code",
   "execution_count": 8,
   "metadata": {},
   "outputs": [],
   "source": [
    "send2trash.send2trash('test_file.txt')"
   ]
  },
  {
   "cell_type": "code",
   "execution_count": 9,
   "metadata": {},
   "outputs": [
    {
     "data": {
      "text/plain": [
       "['00-Collections-Module.ipynb',\n",
       " '06-Timing your code - timeit.ipynb',\n",
       " '01-Opening-and-Reading-Files-Folders.ipynb',\n",
       " '03-Math-and-Random-Module.ipynb',\n",
       " '08-Advanced-Python-Module-Exercise',\n",
       " '.ipynb_checkpoints',\n",
       " '05-Overview-of-Regular-Expressions.ipynb',\n",
       " 'Example_Top_Level',\n",
       " 'Untitled.ipynb',\n",
       " '04-Python Debugger (pdb).ipynb',\n",
       " '02-Datetime-Module.ipynb',\n",
       " '07-Unzipping-and-Zipping-Files.ipynb']"
      ]
     },
     "execution_count": 9,
     "metadata": {},
     "output_type": "execute_result"
    }
   ],
   "source": [
    "os.listdir()"
   ]
  },
  {
   "cell_type": "markdown",
   "metadata": {},
   "source": [
    "## walk\n",
    "`walk` is a \"directory tree generator\" method of the `OS` module. For every directory in the specified path `walk` will generate a tuple containing `dirpath` (string), `dirname` (list), `filenames` (list)"
   ]
  },
  {
   "cell_type": "code",
   "execution_count": 13,
   "metadata": {},
   "outputs": [
    {
     "name": "stdout",
     "output_type": "stream",
     "text": [
      "Currently looking at /home/neal/Documents/udemy/complete-python-3/Complete-Python-3-Bootcamp/12-Advanced Python Modules\n",
      "\n",
      "\n",
      "The subfolders are:\n",
      "Subfolder: 08-Advanced-Python-Module-Exercise\n",
      "Subfolder: .ipynb_checkpoints\n",
      "Subfolder: Example_Top_Level\n",
      "\n",
      "\n",
      "The files are:\n",
      "Files: 00-Collections-Module.ipynb\n",
      "Files: python3_os-and-shutils_opening-and-moving-files-folders.ipynb\n",
      "Files: 06-Timing your code - timeit.ipynb\n",
      "Files: 01-Opening-and-Reading-Files-Folders.ipynb\n",
      "Files: 03-Math-and-Random-Module.ipynb\n",
      "Files: 05-Overview-of-Regular-Expressions.ipynb\n",
      "Files: 04-Python Debugger (pdb).ipynb\n",
      "Files: 02-Datetime-Module.ipynb\n",
      "Files: 07-Unzipping-and-Zipping-Files.ipynb\n",
      "Currently looking at /home/neal/Documents/udemy/complete-python-3/Complete-Python-3-Bootcamp/12-Advanced Python Modules/08-Advanced-Python-Module-Exercise\n",
      "\n",
      "\n",
      "The subfolders are:\n",
      "Subfolder: .ipynb_checkpoints\n",
      "Subfolder: extracted_content\n",
      "\n",
      "\n",
      "The files are:\n",
      "Files: unzip_me_for_instructions.zip\n",
      "Files: 07-Advanced-Modules-Exercise-Puzzle.ipynb\n",
      "Files: 08-Advanced-Modules-Exercise-Solutions.ipynb\n",
      "Currently looking at /home/neal/Documents/udemy/complete-python-3/Complete-Python-3-Bootcamp/12-Advanced Python Modules/08-Advanced-Python-Module-Exercise/.ipynb_checkpoints\n",
      "\n",
      "\n",
      "The subfolders are:\n",
      "\n",
      "\n",
      "The files are:\n",
      "Files: 08-Advanced-Modules-Exercise-Solutions-checkpoint.ipynb\n",
      "Files: 07-Advanced-Modules-Exercise-Puzzle-checkpoint.ipynb\n",
      "Currently looking at /home/neal/Documents/udemy/complete-python-3/Complete-Python-3-Bootcamp/12-Advanced Python Modules/08-Advanced-Python-Module-Exercise/extracted_content\n",
      "\n",
      "\n",
      "The subfolders are:\n",
      "Subfolder: One\n",
      "Subfolder: Four\n",
      "Subfolder: Three\n",
      "Subfolder: Two\n",
      "Subfolder: Five\n",
      "\n",
      "\n",
      "The files are:\n",
      "Files: Instructions.txt\n",
      "Currently looking at /home/neal/Documents/udemy/complete-python-3/Complete-Python-3-Bootcamp/12-Advanced Python Modules/08-Advanced-Python-Module-Exercise/extracted_content/One\n",
      "\n",
      "\n",
      "The subfolders are:\n",
      "\n",
      "\n",
      "The files are:\n",
      "Files: PHWAVPEKAER.txt\n",
      "Files: HMNZTLIFGPD.txt\n",
      "Files: HRQFTHKVJTL.txt\n",
      "Files: HVUTZEVMSBW.txt\n",
      "Files: JQUOBKFUACN.txt\n",
      "Files: PDJMSMNKIRM.txt\n",
      "Files: LPNDVDXPZIG.txt\n",
      "Files: KTXDHIOKAUI.txt\n",
      "Files: KCXGNQCZBLO.txt\n",
      "Files: KMMLGJOWLGI.txt\n",
      "Files: PTOBBCJYURJ.txt\n",
      "Files: LIFDHOFKWOI.txt\n",
      "Files: JTHSNBNPQSE.txt\n",
      "Files: KNBSKDREHQU.txt\n",
      "Files: HFUTPPAXDIS.txt\n",
      "Files: HDOHZHFSTTK.txt\n",
      "Files: LHODFIKVTQA.txt\n",
      "Files: PLYCGPVEAWO.txt\n",
      "Files: LFEATJAAYDC.txt\n",
      "Files: LDGOCUQJNNS.txt\n",
      "Files: PQNVCVJINAR.txt\n",
      "Files: KFIUZFERLET.txt\n",
      "Files: JLTXKIGCWDL.txt\n",
      "Files: JDLRVFCXYLU.txt\n",
      "Files: JEHBLZPUPSP.txt\n",
      "Currently looking at /home/neal/Documents/udemy/complete-python-3/Complete-Python-3-Bootcamp/12-Advanced Python Modules/08-Advanced-Python-Module-Exercise/extracted_content/Four\n",
      "\n",
      "\n",
      "The subfolders are:\n",
      "\n",
      "\n",
      "The files are:\n",
      "Files: ECIOBYCDVFI.txt\n",
      "Files: ROICPTWKXDX.txt\n",
      "Files: TWUOYFCCYBQ.txt\n",
      "Files: QCTCKDIBBVG.txt\n",
      "Files: ESDIZXHYCVY.txt\n",
      "Files: EXVQSVBQQQH.txt\n",
      "Files: QCWCFLKNZMN.txt\n",
      "Files: RSXOTNGKBML.txt\n",
      "Files: WYDLGSGGXKV.txt\n",
      "Files: WFSKPTXPFCH.txt\n",
      "Files: EMTGPSXQEJX.txt\n",
      "Files: REAXWSOIQDY.txt\n",
      "Files: THPNEGKTJWI.txt\n",
      "Files: QDDETWBHJYC.txt\n",
      "Files: WNJISWPEBRS.txt\n",
      "Files: TJFMLJODVAD.txt\n",
      "Files: WXDJDOGZEHN.txt\n",
      "Files: QVNJULGXNUM.txt\n",
      "Files: WHTOHQUWXIN.txt\n",
      "Files: RXDARIDGKBF.txt\n",
      "Files: TAKNAVDMZKV.txt\n",
      "Files: RYNXFYXMKHG.txt\n",
      "Files: QTDYYIFPHAU.txt\n",
      "Files: TKCZSFQNJTX.txt\n",
      "Files: EPRNUHRSESC.txt\n",
      "Currently looking at /home/neal/Documents/udemy/complete-python-3/Complete-Python-3-Bootcamp/12-Advanced Python Modules/08-Advanced-Python-Module-Exercise/extracted_content/Three\n",
      "\n",
      "\n",
      "The subfolders are:\n",
      "\n",
      "\n",
      "The files are:\n",
      "Files: VAQIJTDOFUJ.txt\n",
      "Files: VSXFSTABZDY.txt\n",
      "Files: XFHJOTNPEJG.txt\n",
      "Files: YQBIUHSUEVW.txt\n",
      "Files: VVKGWLRMHLU.txt\n",
      "Files: XVMPVSVYKFR.txt\n",
      "Files: VCFJCGJFBIH.txt\n",
      "Files: ZXIBJMPROKW.txt\n",
      "Files: XHZPVUQTXIO.txt\n",
      "Files: YQRNCMNFFHW.txt\n",
      "Files: ZEZKKRBIZEB.txt\n",
      "Files: YYIZGBTQHZP.txt\n",
      "Files: ZXEZRQXZNPG.txt\n",
      "Files: XJCWENFFGHB.txt\n",
      "Files: YCESZHJDBXH.txt\n",
      "Files: ZOWVXWPOGWP.txt\n",
      "Files: YDQFMWXOUMW.txt\n",
      "Files: XAJMCPEWFNI.txt\n",
      "Files: ZKQJXAYKPVD.txt\n",
      "Files: VVHFVZUNLOO.txt\n",
      "Currently looking at /home/neal/Documents/udemy/complete-python-3/Complete-Python-3-Bootcamp/12-Advanced Python Modules/08-Advanced-Python-Module-Exercise/extracted_content/Two\n",
      "\n",
      "\n",
      "The subfolders are:\n",
      "\n",
      "\n",
      "The files are:\n",
      "Files: OHZOUOSFJQC.txt\n",
      "Files: GKQBQRCTNNK.txt\n",
      "Files: HMUTDOVNYTV.txt\n",
      "Files: OMWIMVRCMYM.txt\n",
      "Files: LVMBINRBJXL.txt\n",
      "Files: LSQSTGPIGIY.txt\n",
      "Files: HTOHSTYXTCO.txt\n",
      "Files: GTOTCIWMDBY.txt\n",
      "Files: HEORIXOTANT.txt\n",
      "Files: HARDNJGDRBC.txt\n",
      "Files: SWOFXREEHWA.txt\n",
      "Files: LYZEQCVYNEZ.txt\n",
      "Files: LCJZYDHBFRM.txt\n",
      "Files: SIKFPPLCJDN.txt\n",
      "Files: SOFUJYXTIMK.txt\n",
      "Files: OIHMLGMWTHL.txt\n",
      "Files: SPDZYGDHEWO.txt\n",
      "Files: GQTJJORZBXY.txt\n",
      "Files: GXYSEPAFRTP.txt\n",
      "Files: HMZXPBOPRAE.txt\n",
      "Files: GMMQQUBMJNR.txt\n",
      "Files: OYMAGXAGWHJ.txt\n",
      "Files: OKWFOOYTXFU.txt\n",
      "Files: LULTNYAQEJG.txt\n",
      "Files: SJMJLDGPBSJ.txt\n",
      "Currently looking at /home/neal/Documents/udemy/complete-python-3/Complete-Python-3-Bootcamp/12-Advanced Python Modules/08-Advanced-Python-Module-Exercise/extracted_content/Five\n",
      "\n",
      "\n",
      "The subfolders are:\n",
      "\n",
      "\n",
      "The files are:\n",
      "Files: AEITMYIRQLP.txt\n",
      "Files: AQKATDFGXTS.txt\n",
      "Files: BUGKBZWRRVI.txt\n",
      "Files: EYTCGIOYWIW.txt\n",
      "Files: COMGMZBJAYE.txt\n",
      "Files: BVBURZZCAPR.txt\n",
      "Files: EAAOEPSAWMQ.txt\n",
      "Files: DYOPIIVMZOO.txt\n",
      "Files: EIPWXMQZJKU.txt\n",
      "Files: BSKJDRNEZQM.txt\n",
      "Files: DHZBAAYEADM.txt\n",
      "Files: CAHBEVSVDDN.txt\n",
      "Files: APJKSRITGGX.txt\n",
      "Files: BTYWAHLHKBM.txt\n",
      "Files: CSCLFZCDYYC.txt\n",
      "Files: AXJGVPVEFAS.txt\n",
      "Files: DZUWWXYIAEL.txt\n",
      "Files: DQPZQLBCJYP.txt\n",
      "Files: BNUQEHCFRTG.txt\n",
      "Files: ESIZWBHMGDP.txt\n",
      "Files: ETCUEXWNBCF.txt\n",
      "Files: DDLASODUVPX.txt\n",
      "Files: CXBVCTRBBIE.txt\n",
      "Files: ARLKFCWIAJE.txt\n",
      "Files: CRFSDGYFSHA.txt\n",
      "Currently looking at /home/neal/Documents/udemy/complete-python-3/Complete-Python-3-Bootcamp/12-Advanced Python Modules/.ipynb_checkpoints\n",
      "\n",
      "\n",
      "The subfolders are:\n",
      "\n",
      "\n",
      "The files are:\n",
      "Files: 07-OS-Module-checkpoint.ipynb\n",
      "Files: 04-Timing your code - timeit-checkpoint.ipynb\n",
      "Files: 02-Datetime-Module-checkpoint.ipynb\n",
      "Files: 05-Overview-of-Regular-Expressions-checkpoint.ipynb\n",
      "Files: 09-Advanced-Modules-Exercise-Solutions-checkpoint.ipynb\n",
      "Files: 06-Timing your code - timeit-checkpoint.ipynb\n",
      "Files: 03-Math-and-Random-Module-checkpoint.ipynb\n",
      "Files: python3_os-and-shutils_opening-and-moving-files-folders-checkpoint.ipynb\n",
      "Files: 01-Opening-and-Reading-Files-Folders-checkpoint.ipynb\n",
      "Files: 01-Datetime-Module-checkpoint.ipynb\n",
      "Files: 02-Math-and-Random-Module-checkpoint.ipynb\n",
      "Files: 04-Python Debugger (pdb)-checkpoint.ipynb\n",
      "Files: 07-Unzipping-and-Zipping-Files-checkpoint.ipynb\n",
      "Files: 03-Python Debugger (pdb)-checkpoint.ipynb\n",
      "Files: 00-Collections-Module-checkpoint.ipynb\n",
      "Files: 06-Unzipping-and-Zipping-Files-checkpoint.ipynb\n",
      "Currently looking at /home/neal/Documents/udemy/complete-python-3/Complete-Python-3-Bootcamp/12-Advanced Python Modules/Example_Top_Level\n",
      "\n",
      "\n",
      "The subfolders are:\n",
      "Subfolder: Mid-Example-One\n",
      "\n",
      "\n",
      "The files are:\n",
      "Files: Mid-Example.txt\n",
      "Currently looking at /home/neal/Documents/udemy/complete-python-3/Complete-Python-3-Bootcamp/12-Advanced Python Modules/Example_Top_Level/Mid-Example-One\n",
      "\n",
      "\n",
      "The subfolders are:\n",
      "Subfolder: Bottom-Level-One\n",
      "Subfolder: Bottom-Level-Two\n",
      "\n",
      "\n",
      "The files are:\n",
      "Files: Mid-Level-Doc.txt\n",
      "Currently looking at /home/neal/Documents/udemy/complete-python-3/Complete-Python-3-Bootcamp/12-Advanced Python Modules/Example_Top_Level/Mid-Example-One/Bottom-Level-One\n",
      "\n",
      "\n",
      "The subfolders are:\n",
      "\n",
      "\n",
      "The files are:\n",
      "Files: One_Text.txt\n",
      "Currently looking at /home/neal/Documents/udemy/complete-python-3/Complete-Python-3-Bootcamp/12-Advanced Python Modules/Example_Top_Level/Mid-Example-One/Bottom-Level-Two\n",
      "\n",
      "\n",
      "The subfolders are:\n",
      "\n",
      "\n",
      "The files are:\n",
      "Files: Bottom-Text-Two.txt\n"
     ]
    },
    {
     "data": {
      "text/plain": [
       "<function os.walk(top, topdown=True, onerror=None, followlinks=False)>"
      ]
     },
     "execution_count": 13,
     "metadata": {},
     "output_type": "execute_result"
    }
   ],
   "source": [
    "for folder, sub_folders, files in os.walk(os.getcwd()):\n",
    "    print(f\"Currently looking at {folder}\")\n",
    "    print(\"\\n\")\n",
    "    print(\"The subfolders are:\")\n",
    "    for subfold in sub_folders:\n",
    "        print(f\"Subfolder: {subfold}\")\n",
    "        \n",
    "    print(\"\\n\")\n",
    "    print(\"The files are:\")\n",
    "    for file in files:\n",
    "        print(f\"Files: {file}\")"
   ]
  },
  {
   "cell_type": "code",
   "execution_count": null,
   "metadata": {},
   "outputs": [],
   "source": [
    "shutils.move(os.getcwd()+'/python3_os-and-shutils_opening-and-moving-files-folders.ipynb','/home/neal/Documents/python_notes/')"
   ]
  }
 ],
 "metadata": {
  "kernelspec": {
   "display_name": "Python 3",
   "language": "python",
   "name": "python3"
  },
  "language_info": {
   "codemirror_mode": {
    "name": "ipython",
    "version": 3
   },
   "file_extension": ".py",
   "mimetype": "text/x-python",
   "name": "python",
   "nbconvert_exporter": "python",
   "pygments_lexer": "ipython3",
   "version": "3.9.1"
  }
 },
 "nbformat": 4,
 "nbformat_minor": 4
}
