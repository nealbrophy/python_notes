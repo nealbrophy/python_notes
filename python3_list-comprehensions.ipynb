{
 "cells": [
  {
   "cell_type": "markdown",
   "id": "corporate-indiana",
   "metadata": {},
   "source": [
    "# Python list comprehensions\n",
    "In Python list comprehensions are a succinct, elegant way to create lists."
   ]
  },
  {
   "cell_type": "code",
   "execution_count": 1,
   "id": "golden-premium",
   "metadata": {},
   "outputs": [
    {
     "name": "stdout",
     "output_type": "stream",
     "text": [
      "[0, 1, 2, 3, 4, 5, 6, 7, 8, 9]\n"
     ]
    }
   ],
   "source": [
    "# method 1: the normal way\n",
    "list_1 = []\n",
    "\n",
    "for i in range(10):\n",
    "    list_1.append(i)\n",
    "    \n",
    "print(list_1)"
   ]
  },
  {
   "cell_type": "code",
   "execution_count": 2,
   "id": "variable-method",
   "metadata": {},
   "outputs": [
    {
     "name": "stdout",
     "output_type": "stream",
     "text": [
      "[0, 1, 2, 3, 4, 5, 6, 7, 8, 9]\n"
     ]
    }
   ],
   "source": [
    "# method 2: list comprehension\n",
    "list_2 = [i for i in range(10)]\n",
    "\n",
    "print(list_2)"
   ]
  },
  {
   "cell_type": "markdown",
   "id": "otherwise-canvas",
   "metadata": {},
   "source": [
    "## A novel use of conditional expressions\n",
    "The following syntax allows you to nest a conditional expression within a list comprehension."
   ]
  },
  {
   "cell_type": "code",
   "execution_count": 18,
   "id": "expensive-heavy",
   "metadata": {},
   "outputs": [
    {
     "name": "stdout",
     "output_type": "stream",
     "text": [
      "[0, 'x', 2, 'x', 4, 'x', 6, 'x', 8, 'x']\n",
      "['george', 'paul', 'john', 'ringo']\n",
      "dave is not a beatle\n",
      "george is beatle\n",
      "sarah is not a beatle\n",
      "nikita is not a beatle\n",
      "paul is beatle\n",
      "lucas is not a beatle\n",
      "oleg is not a beatle\n",
      "silvia is not a beatle\n",
      "john is beatle\n",
      "nestor is not a beatle\n",
      "ringo is beatle\n"
     ]
    }
   ],
   "source": [
    "# example 1\n",
    "list_3 = [i if i % 2 == 0 else \"x\" for i in range(10)]\n",
    "\n",
    "print(list_3)\n",
    "\n",
    "# example 2\n",
    "target_names = [\"john\", \"paul\", \"george\", \"ringo\"]\n",
    "\n",
    "candidates = [\n",
    "    \"dave\", \n",
    "    \"george\", \n",
    "    \"sarah\", \n",
    "    \"nikita\", \n",
    "    \"paul\", \n",
    "    \"lucas\", \n",
    "    \"oleg\", \n",
    "    \"silvia\", \n",
    "    \"john\", \n",
    "    \"nestor\",\n",
    "    \"ringo\"\n",
    "]\n",
    "\n",
    "the_beatles = [i for i in candidates if i in target_names]\n",
    "\n",
    "print(the_beatles)\n"
   ]
  },
  {
   "cell_type": "markdown",
   "id": "cathedral-civilization",
   "metadata": {},
   "source": [
    "## Using list comprehension to create a generator\n",
    "List comprehension can also be used to create a generator (aka an iterator). The secret here is to use parentheses rather than square brackets."
   ]
  },
  {
   "cell_type": "code",
   "execution_count": 21,
   "id": "endangered-margin",
   "metadata": {},
   "outputs": [
    {
     "name": "stdout",
     "output_type": "stream",
     "text": [
      "<generator object <genexpr> at 0x7fc4d40d2660>\n",
      "dave is not a beatle\n",
      "george is beatle\n",
      "sarah is not a beatle\n",
      "nikita is not a beatle\n",
      "paul is beatle\n",
      "lucas is not a beatle\n",
      "oleg is not a beatle\n",
      "silvia is not a beatle\n",
      "john is beatle\n",
      "nestor is not a beatle\n",
      "ringo is beatle\n"
     ]
    }
   ],
   "source": [
    "long_beatles = (f\"{j} is beatle\" if j in target_names else f\"{j} is not a beatle\" for j in candidates)\n",
    "\n",
    "print(long_beatles) # to prove this is a generator object\n",
    "\n",
    "for i in long_beatles: # using iteration to print the contents\n",
    "    print(i,end=\"\\n\")"
   ]
  },
  {
   "cell_type": "markdown",
   "id": "modified-wheat",
   "metadata": {},
   "source": [
    "What's the difference between iterating through the `long_beatles` generator above versus doing the same for the `the beatles` list? Not much as far as the actual output printed to the screen is concerned. The difference lies in how they're created; `the_beatles` is created as a whole and exists when the loop is being executed, `long_beatles` is not a list at all - there are only the subsequent values produced by the generator one-by-one."
   ]
  },
  {
   "cell_type": "code",
   "execution_count": null,
   "id": "alive-wagner",
   "metadata": {},
   "outputs": [],
   "source": []
  }
 ],
 "metadata": {
  "kernelspec": {
   "display_name": "Python 3",
   "language": "python",
   "name": "python3"
  },
  "language_info": {
   "codemirror_mode": {
    "name": "ipython",
    "version": 3
   },
   "file_extension": ".py",
   "mimetype": "text/x-python",
   "name": "python",
   "nbconvert_exporter": "python",
   "pygments_lexer": "ipython3",
   "version": "3.9.4"
  }
 },
 "nbformat": 4,
 "nbformat_minor": 5
}
