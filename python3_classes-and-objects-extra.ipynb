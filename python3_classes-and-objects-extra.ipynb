{
 "cells": [
  {
   "cell_type": "markdown",
   "id": "agricultural-nation",
   "metadata": {},
   "source": [
    "# Some useful additional info on classes & objects\n",
    "Each Python class and object comes equipped with some useful attributes that are worth knowing."
   ]
  },
  {
   "cell_type": "markdown",
   "id": "incorporated-decade",
   "metadata": {},
   "source": [
    "## The `__dict__` property\n",
    "This allows you to view the methods & attributes within an object or class."
   ]
  },
  {
   "cell_type": "code",
   "execution_count": 1,
   "id": "connected-native",
   "metadata": {},
   "outputs": [
    {
     "name": "stdout",
     "output_type": "stream",
     "text": [
      "{'__module__': '__main__', '__init__': <function NewClass.__init__ at 0x7fc594e51dc0>, 'goodbye': <function NewClass.goodbye at 0x7fc594e51700>, '__dict__': <attribute '__dict__' of 'NewClass' objects>, '__weakref__': <attribute '__weakref__' of 'NewClass' objects>, '__doc__': None}\n",
      "{'greeting': 'Where am I?'}\n"
     ]
    }
   ],
   "source": [
    "class NewClass:\n",
    "    def __init__(self, val=\"Hello\"):\n",
    "        self.greeting = val\n",
    "        \n",
    "    def goodbye(self):\n",
    "        print(\"Goodbye\")\n",
    "        \n",
    "new_object = NewClass(\"Where am I?\")\n",
    "\n",
    "print(NewClass.__dict__)\n",
    "print(new_object.__dict__)\n",
    "        "
   ]
  },
  {
   "cell_type": "markdown",
   "id": "opposed-candle",
   "metadata": {},
   "source": [
    "## The `__name__` property\n",
    "This is a string which contains the name of the class (note: it's only present in the class not the object). If you want to want to obtain access the class name property from an object you need to do so in combination with the `type()` function."
   ]
  },
  {
   "cell_type": "code",
   "execution_count": 3,
   "id": "postal-singing",
   "metadata": {},
   "outputs": [
    {
     "name": "stdout",
     "output_type": "stream",
     "text": [
      "NewClass\n",
      "NewClass\n"
     ]
    }
   ],
   "source": [
    "print(NewClass.__name__) # getting the class name from the class\n",
    "print(type(new_object).__name__) # getting the class name from an object using the type() function"
   ]
  },
  {
   "cell_type": "markdown",
   "id": "billion-reggae",
   "metadata": {},
   "source": [
    "## The `__module__` property\n",
    "This property stores the name of the module which contains the class definition. NOTE: If the class is defined in the currently running file (i.e. it hasn't been imported from elsewhere) the string will be \"`__main__`\"."
   ]
  },
  {
   "cell_type": "code",
   "execution_count": 4,
   "id": "psychological-cross",
   "metadata": {},
   "outputs": [
    {
     "name": "stdout",
     "output_type": "stream",
     "text": [
      "__main__\n",
      "__main__\n"
     ]
    }
   ],
   "source": [
    "print(NewClass.__module__)\n",
    "print(new_object.__module__)"
   ]
  },
  {
   "cell_type": "markdown",
   "id": "joined-malaysia",
   "metadata": {},
   "source": [
    "## The `__bases__` property\n",
    "This is a tuple containing the classes (not just class names) which are direct superclasses (parents) for the given class. Only classes have this property, not objects."
   ]
  },
  {
   "cell_type": "code",
   "execution_count": 7,
   "id": "statistical-investing",
   "metadata": {},
   "outputs": [
    {
     "name": "stdout",
     "output_type": "stream",
     "text": [
      "(<class '__main__.NewClass'>,)\n",
      "(<class 'object'>,)\n"
     ]
    }
   ],
   "source": [
    "class AnotherNewClass(NewClass):\n",
    "    def __init__(self):\n",
    "        print(\"I'm a child of NewClass\")\n",
    "\n",
    "class SpecialNewClass():\n",
    "    def __init__(self):\n",
    "        print(\"I have no parent\")\n",
    "        \n",
    "print(AnotherNewClass.__bases__) # shows NewClass as parent\n",
    "print(SpecialNewClass.__bases__) # shows Python object class as its parent"
   ]
  },
  {
   "cell_type": "markdown",
   "id": "enabling-dietary",
   "metadata": {},
   "source": [
    "## The `__str__` method\n",
    "When Python needs a class or object to be presented as a string (e.g. putting an object or string into the `print()` function) it tries to invoke the `__str__()` method. If you haven't overridden it with something the default will be a rather ugly string like `<__main__.NewClass object at 0x12347cc45x>`. However, you can override this to be something more useful."
   ]
  },
  {
   "cell_type": "code",
   "execution_count": 2,
   "id": "fuzzy-argument",
   "metadata": {},
   "outputs": [
    {
     "name": "stdout",
     "output_type": "stream",
     "text": [
      "Hi I'm Bob. I'm an object of the NewClassWithStr.\n"
     ]
    }
   ],
   "source": [
    "class NewClassWithStr():\n",
    "    def __init__(self,name):\n",
    "        self.name = name\n",
    "    \n",
    "    def __str__(self):\n",
    "        return \"Hi I'm \" + self.name + \". I'm an object of the NewClassWithStr.\"\n",
    "    \n",
    "bob_the_object = NewClassWithStr(\"Bob\")\n",
    "print(bob_the_object)"
   ]
  },
  {
   "cell_type": "markdown",
   "id": "certain-school",
   "metadata": {},
   "source": [
    "## Reflection and Introspection\n",
    "These are two important activities in objective programming.\n",
    "- __introspection__ is the ability of a program to examine the type or properties of an object *at runtime*\n",
    "- __reflection__ is the ability of a program to manipulate the values, properties, and functions of an object *at runtime*\n",
    "\n",
    "In other words, you can manipulate an object without knowing the complete class/object definition because the object and/or its class contain the metadata which allows you to recognize its features during execution."
   ]
  },
  {
   "cell_type": "code",
   "execution_count": null,
   "id": "seventh-vietnam",
   "metadata": {},
   "outputs": [],
   "source": []
  }
 ],
 "metadata": {
  "kernelspec": {
   "display_name": "Python 3",
   "language": "python",
   "name": "python3"
  },
  "language_info": {
   "codemirror_mode": {
    "name": "ipython",
    "version": 3
   },
   "file_extension": ".py",
   "mimetype": "text/x-python",
   "name": "python",
   "nbconvert_exporter": "python",
   "pygments_lexer": "ipython3",
   "version": "3.9.4"
  }
 },
 "nbformat": 4,
 "nbformat_minor": 5
}
