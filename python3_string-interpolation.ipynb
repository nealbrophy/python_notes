{
 "cells": [
  {
   "cell_type": "markdown",
   "metadata": {},
   "source": [
    "# <div align=\"center\">String Interpolation</div>"
   ]
  },
  {
   "cell_type": "markdown",
   "metadata": {},
   "source": [
    "## .format"
   ]
  },
  {
   "cell_type": "code",
   "execution_count": 28,
   "metadata": {},
   "outputs": [
    {
     "name": "stdout",
     "output_type": "stream",
     "text": [
      "This is a sentence and this is another sentence.\n",
      "I am the very model of a modern major general.\n"
     ]
    }
   ],
   "source": [
    "print(\"This is a sentence and {}.\".format(\"this is another sentence\"))\n",
    "print(\"I am the very model of a {} {} {}.\".format(\"modern\", \"major\", \"general\"))"
   ]
  },
  {
   "cell_type": "code",
   "execution_count": 7,
   "metadata": {},
   "outputs": [
    {
     "name": "stdout",
     "output_type": "stream",
     "text": [
      "I am the very model of a general major modern.\n",
      "I am the very model of a modern general major.\n"
     ]
    }
   ],
   "source": [
    "print(\"I am the very model of a {2} {1} {0}.\".format(\"modern\", \"major\", \"general\"))\n",
    "print(\"I am the very model of a {era} {rank2} {rank1}.\".format(era=\"modern\", rank1=\"major\", rank2=\"general\"))"
   ]
  },
  {
   "cell_type": "markdown",
   "metadata": {},
   "source": [
    "### Float formatting\n",
    "`{value:width.precision f}`"
   ]
  },
  {
   "cell_type": "markdown",
   "metadata": {},
   "source": [
    "<div align=\"center\">Before</div>"
   ]
  },
  {
   "cell_type": "code",
   "execution_count": 23,
   "metadata": {},
   "outputs": [
    {
     "name": "stdout",
     "output_type": "stream",
     "text": [
      "2 legs good. 4.123711340206185 legs better.\n"
     ]
    }
   ],
   "source": [
    "print(\"{good} legs good. {better} legs better.\".format(good=2, better=400/97))"
   ]
  },
  {
   "cell_type": "markdown",
   "metadata": {},
   "source": [
    "<div align=\"center\">After</div>"
   ]
  },
  {
   "cell_type": "code",
   "execution_count": 26,
   "metadata": {},
   "outputs": [
    {
     "name": "stdout",
     "output_type": "stream",
     "text": [
      "2 legs good. 4.124 legs better.\n"
     ]
    }
   ],
   "source": [
    "print(\"{good} legs good. {better:1.3f} legs better.\".format(good=2, better=400/97))"
   ]
  },
  {
   "cell_type": "markdown",
   "metadata": {},
   "source": [
    "## % Placeholder\n",
    "|placeholder|type|result|\n",
    "|:--|:--|:--|\n",
    "|`%s`|string|inserts as normal|\n",
    "|`%r`|report|string representation of object (basically it inserts with quotation marks|\n",
    "|`%d`|integer|converts to whole number|"
   ]
  },
  {
   "cell_type": "code",
   "execution_count": 35,
   "metadata": {},
   "outputs": [
    {
     "name": "stdout",
     "output_type": "stream",
     "text": [
      "This is quite similar to the '.format' method but uses the modulo symbol.\n",
      "Here is a number converted from a decimal: 3\n",
      "You can also do float formatting with this placeholder. For example: 24.568\n"
     ]
    }
   ],
   "source": [
    "print(\"This is quite similar to the %r method but uses the %s symbol.\" %(\".format\", \"modulo\"))\n",
    "print(\"Here is a number converted from a decimal: %d\" %(3.14532))\n",
    "print(\"You can also do %s with this placeholder. For example: %1.3f\" %(\"float formatting\", 24.56811097412))"
   ]
  },
  {
   "cell_type": "markdown",
   "metadata": {},
   "source": [
    "## F-Strings\n",
    "`f\"the string you want with {variables} inserted wherever you {want} them\"`"
   ]
  },
  {
   "cell_type": "code",
   "execution_count": 30,
   "metadata": {},
   "outputs": [
    {
     "name": "stdout",
     "output_type": "stream",
     "text": [
      "All those moments will be lost in time. Like tears in rain.\n"
     ]
    }
   ],
   "source": [
    "liquid1 = \"tears\"\n",
    "liquid2 = \"rain\"\n",
    "liquid3 = \"soup\"\n",
    "print(f\"All those moments will be lost in time. Like {liquid1} in {liquid2}.\")\n",
    "print(f\"You can use '!r' to get the 'string representation' like this:\")"
   ]
  },
  {
   "cell_type": "code",
   "execution_count": 46,
   "metadata": {},
   "outputs": [
    {
     "name": "stdout",
     "output_type": "stream",
     "text": [
      "You can add '!r' after an f-string placeholder to return the string representation like this: 'string representation'\n"
     ]
    }
   ],
   "source": [
    "functionality = \"string representation\"\n",
    "print(f\"You can add '!r' after an f-string placeholder to return the {functionality} like this: {functionality!r}\")"
   ]
  },
  {
   "cell_type": "code",
   "execution_count": 52,
   "metadata": {},
   "outputs": [
    {
     "name": "stdout",
     "output_type": "stream",
     "text": [
      "Float formatting is very similar but with curly braces like this: 42.983\n"
     ]
    }
   ],
   "source": [
    "insert1 = \"curly braces\"\n",
    "insert2 = 42.98345678123\n",
    "print(f\"Float formatting is very similar but with {insert1} like this: {insert2:{0}.{3}f}\")"
   ]
  },
  {
   "cell_type": "code",
   "execution_count": null,
   "metadata": {},
   "outputs": [],
   "source": []
  }
 ],
 "metadata": {
  "kernelspec": {
   "display_name": "Python 3",
   "language": "python",
   "name": "python3"
  },
  "language_info": {
   "codemirror_mode": {
    "name": "ipython",
    "version": 3
   },
   "file_extension": ".py",
   "mimetype": "text/x-python",
   "name": "python",
   "nbconvert_exporter": "python",
   "pygments_lexer": "ipython3",
   "version": "3.9.1"
  }
 },
 "nbformat": 4,
 "nbformat_minor": 4
}
