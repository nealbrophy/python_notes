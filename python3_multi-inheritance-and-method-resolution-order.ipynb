{
 "cells": [
  {
   "cell_type": "markdown",
   "id": "atlantic-crack",
   "metadata": {},
   "source": [
    "# Method Resolution Order (MRO)\n",
    "MRO is a strategy which a particular programming language scans through the upper part of a class's hierarch in order to find the method it needs. Different languages implement different MROs. As noted previously Python scans from bottom-to-top and then left-to-right. What happens if you mix things around?\n",
    "\n"
   ]
  },
  {
   "cell_type": "code",
   "execution_count": 3,
   "id": "tutorial-spain",
   "metadata": {},
   "outputs": [
    {
     "ename": "TypeError",
     "evalue": "Cannot create a consistent method resolution\norder (MRO) for bases Top, Middle",
     "output_type": "error",
     "traceback": [
      "\u001b[0;31m---------------------------------------------------------------------------\u001b[0m",
      "\u001b[0;31mTypeError\u001b[0m                                 Traceback (most recent call last)",
      "\u001b[0;32m<ipython-input-3-b5fd10827334>\u001b[0m in \u001b[0;36m<module>\u001b[0;34m\u001b[0m\n\u001b[1;32m      7\u001b[0m         \u001b[0mprint\u001b[0m\u001b[0;34m(\u001b[0m\u001b[0;34m\"Middle\"\u001b[0m\u001b[0;34m)\u001b[0m\u001b[0;34m\u001b[0m\u001b[0;34m\u001b[0m\u001b[0m\n\u001b[1;32m      8\u001b[0m \u001b[0;34m\u001b[0m\u001b[0m\n\u001b[0;32m----> 9\u001b[0;31m \u001b[0;32mclass\u001b[0m \u001b[0mBottom\u001b[0m\u001b[0;34m(\u001b[0m\u001b[0mTop\u001b[0m\u001b[0;34m,\u001b[0m \u001b[0mMiddle\u001b[0m\u001b[0;34m)\u001b[0m\u001b[0;34m:\u001b[0m \u001b[0;31m# listing Top before Middle contradicts the established hierarchy (Top>Middle>Bottom)\u001b[0m\u001b[0;34m\u001b[0m\u001b[0;34m\u001b[0m\u001b[0m\n\u001b[0m\u001b[1;32m     10\u001b[0m     \u001b[0;32mdef\u001b[0m \u001b[0mprint_bot\u001b[0m\u001b[0;34m(\u001b[0m\u001b[0mself\u001b[0m\u001b[0;34m)\u001b[0m\u001b[0;34m:\u001b[0m\u001b[0;34m\u001b[0m\u001b[0;34m\u001b[0m\u001b[0m\n\u001b[1;32m     11\u001b[0m         \u001b[0mprint\u001b[0m\u001b[0;34m(\u001b[0m\u001b[0;34m\"Bottom\"\u001b[0m\u001b[0;34m)\u001b[0m\u001b[0;34m\u001b[0m\u001b[0;34m\u001b[0m\u001b[0m\n",
      "\u001b[0;31mTypeError\u001b[0m: Cannot create a consistent method resolution\norder (MRO) for bases Top, Middle"
     ]
    }
   ],
   "source": [
    "class Top:\n",
    "    def print_top(self):\n",
    "        print(\"Top\")\n",
    "        \n",
    "class Middle(Top):\n",
    "    def print_mid(self):\n",
    "        print(\"Middle\")\n",
    "        \n",
    "class Bottom(Top, Middle): # listing Top before Middle contradicts the established hierarchy (Top>Middle>Bottom)\n",
    "    def print_bot(self):\n",
    "        print(\"Bottom\")\n",
    "        \n",
    "        \n",
    "new_object = Bottom()\n",
    "\n",
    "new_object.print_bot()\n",
    "new_object.print_mid()\n",
    "new_object.print_top()"
   ]
  },
  {
   "cell_type": "markdown",
   "id": "covered-waste",
   "metadata": {},
   "source": [
    "## The Diamond Problem\n",
    "The __diamon problem__ describes a possible confusing situation that can arise when using multiple inheritance. So called because of this pattern:\n",
    "\n",
    "&nbsp;&nbsp;&nbsp;`A\n",
    " / \\\n",
    "B   C\n",
    " \\ /\n",
    "  D\n",
    "`\n",
    "\n",
    "Where __A__ is the top-most superclass, __B__ and __C__ are subclases derived from A, and __D__ is the bottom-most subclass and is derived from *BOTH* B and C.\n",
    "\n",
    "Now if B and C both have a method of the same name, which one will be used by D?"
   ]
  },
  {
   "cell_type": "code",
   "execution_count": 4,
   "id": "premium-berry",
   "metadata": {},
   "outputs": [
    {
     "name": "stdout",
     "output_type": "stream",
     "text": [
      "Bottom\n",
      "Left Middle\n",
      "Top\n"
     ]
    }
   ],
   "source": [
    "class Top:\n",
    "    def print_top(self):\n",
    "        print(\"Top\")\n",
    "        \n",
    "class LeftMiddle(Top):\n",
    "    def print_mid(self):\n",
    "        print(\"Left Middle\")\n",
    "        \n",
    "class RightMiddle(Top):\n",
    "    def print_mid(self):\n",
    "        print(\"Right Middle\")\n",
    "        \n",
    "class Bottom(LeftMiddle, RightMiddle): \n",
    "    def print_bot(self):\n",
    "        print(\"Bottom\")\n",
    "        \n",
    "        \n",
    "new_object = Bottom()\n",
    "\n",
    "new_object.print_bot()\n",
    "new_object.print_mid()\n",
    "new_object.print_top()"
   ]
  },
  {
   "cell_type": "code",
   "execution_count": null,
   "id": "sunset-condition",
   "metadata": {},
   "outputs": [],
   "source": []
  }
 ],
 "metadata": {
  "kernelspec": {
   "display_name": "Python 3",
   "language": "python",
   "name": "python3"
  },
  "language_info": {
   "codemirror_mode": {
    "name": "ipython",
    "version": 3
   },
   "file_extension": ".py",
   "mimetype": "text/x-python",
   "name": "python",
   "nbconvert_exporter": "python",
   "pygments_lexer": "ipython3",
   "version": "3.9.4"
  }
 },
 "nbformat": 4,
 "nbformat_minor": 5
}
