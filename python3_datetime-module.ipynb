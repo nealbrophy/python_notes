{
 "cells": [
  {
   "cell_type": "markdown",
   "id": "a875aca4",
   "metadata": {},
   "source": [
    "# The `datetime` module\n",
    "Python's `datetime` module provides classes for working with date and time. Some examples for use are:\n",
    "- __event loggin__: to trakc when exactly a particular error occurred.\n",
    "- __tracking changes in a databse__: storing when a particular change was made.\n",
    "- __data validation__: for example validating that a coupon is still valid\n",
    "- __storing important information__: for example a bank storing when a transfer was made."
   ]
  },
  {
   "cell_type": "markdown",
   "id": "83df8c14",
   "metadata": {},
   "source": [
    "## Getting the current local dat and creating date objects\n",
    "The `date` class from the `datetime` module allows the creation of dat objects which consist of the year, month, and day. These objects have method called `today` which returns the current local date. The date object returned by the `today` method has three read-only attributes: year, month, day.\n",
    "\n",
    "When creating date objects keep the following restrictions in mind:\n",
    "\n",
    "Parameter|Restriction\n",
    ":--|:--\n",
    "year|must be greater than or equal to 1 (MINYEAR constant) and less than or equal to 9999 (MAXYEAR constant).\n",
    "month|must be greater than or equal to 1 and less than or equal to 12.\n",
    "day|must be greater than or equal to 1 and less than or equal to the last day of the given month and year."
   ]
  },
  {
   "cell_type": "code",
   "execution_count": 1,
   "id": "d165c083",
   "metadata": {},
   "outputs": [
    {
     "name": "stdout",
     "output_type": "stream",
     "text": [
      "1984-02-21\n"
     ]
    }
   ],
   "source": [
    "from datetime import date\n",
    "\n",
    "my_date = date(1984,2,21)\n",
    "print(my_date)"
   ]
  },
  {
   "cell_type": "markdown",
   "id": "1dd2572a",
   "metadata": {},
   "source": [
    "## Creating a date object from a timestamp\n",
    "The `date` class includes a method for creating a date object from a timestamp name `fromtimestamp()`.\n",
    "\n",
    "NOTE: the result of the time function used in the example below may vary depending on the platform in use."
   ]
  },
  {
   "cell_type": "code",
   "execution_count": 2,
   "id": "2af9371a",
   "metadata": {},
   "outputs": [
    {
     "name": "stdout",
     "output_type": "stream",
     "text": [
      "Timestamp: 1620645328.4523773\n",
      "Date: 2021-05-10\n"
     ]
    }
   ],
   "source": [
    "from datetime import date\n",
    "import time\n",
    "\n",
    "timestamp = time.time() # create a timestamp to use\n",
    "print(\"Timestamp:\",timestamp)\n",
    "\n",
    "d = date.fromtimestamp(timestamp)\n",
    "print(\"Date:\",d)"
   ]
  },
  {
   "cell_type": "markdown",
   "id": "d2430315",
   "metadata": {},
   "source": [
    "## Creating a date object using the ISO format\n",
    "A similar method to the above but for creating a date object using the ISO 8601 standard compliant format of __YYYY-MM-DD__ is `fromisoformat()`."
   ]
  },
  {
   "cell_type": "code",
   "execution_count": 3,
   "id": "2ad02f5c",
   "metadata": {},
   "outputs": [
    {
     "name": "stdout",
     "output_type": "stream",
     "text": [
      "1999-12-31\n"
     ]
    }
   ],
   "source": [
    "from datetime import date\n",
    "\n",
    "d = date.fromisoformat(\"1999-12-31\")\n",
    "print(d)"
   ]
  },
  {
   "cell_type": "markdown",
   "id": "957af358",
   "metadata": {},
   "source": [
    "## The `replace()` method\n",
    "Since the year, month, and day attributes are read-only, you can't directly change them. To do so you will need to use the `replace()` method.\n",
    "\n",
    "__NOTE__: since the replace method returns a changed date object you must remember to assign it if you want to keep the change."
   ]
  },
  {
   "cell_type": "code",
   "execution_count": 4,
   "id": "68a57aa5",
   "metadata": {},
   "outputs": [
    {
     "name": "stdout",
     "output_type": "stream",
     "text": [
      "1997-03-23\n"
     ]
    }
   ],
   "source": [
    "d = d.replace(year=1997,month=3,day=23)\n",
    "print(d)"
   ]
  },
  {
   "cell_type": "markdown",
   "id": "94bbc0ef",
   "metadata": {},
   "source": [
    "## Working with days of the week\n",
    "### The `weekday` method\n",
    "Returns the day of the week as an integer value between 0 (Monday) and 6 (Sunday).\n",
    "\n",
    "### The `isoweekday` method\n",
    "Returns the day of the week as an ISO 85601 compliant integer value between 1 (Monday) and 7 (Sunday)."
   ]
  },
  {
   "cell_type": "code",
   "execution_count": 5,
   "id": "c0214bbd",
   "metadata": {},
   "outputs": [
    {
     "name": "stdout",
     "output_type": "stream",
     "text": [
      "5\n",
      "6\n"
     ]
    }
   ],
   "source": [
    "from datetime import date\n",
    "\n",
    "d = date(2018,5,26)\n",
    "print(d.weekday())\n",
    "print(d.isoweekday())"
   ]
  },
  {
   "cell_type": "markdown",
   "id": "24e3934d",
   "metadata": {},
   "source": [
    "## Creating time objects using the datetime module\n",
    "The `datetime` module provides a similar class to `date` but for creating time objects, it's the `time` class.\n",
    "\n",
    "The time class constructor takes the following optional parameters:\n",
    "\n",
    "Parameter|Restriction\n",
    ":--|:--\n",
    "hour|must be greater than or equal to 0 and less than or equal to 23\n",
    "minute|must be greater than or equal to 0 and less than or equal to 59\n",
    "second|must be greater than or equal to 0 and less than or equal to 59\n",
    "microsecond|must be greater than or equal to 0 and less than or equal to 1,000,000\n",
    "tzinfo|must be a `tzinfo` subclass or object or `None` (default)\n",
    "fold|must 0 (default) or 1\n",
    "\n",
    "- *tzinfo* is associated with timeszones\n",
    "- *fold* is associated with wall times"
   ]
  },
  {
   "cell_type": "code",
   "execution_count": 6,
   "id": "f614996d",
   "metadata": {},
   "outputs": [
    {
     "name": "stdout",
     "output_type": "stream",
     "text": [
      "Time: 13:52:20.000001\n",
      "Hour: 13\n",
      "Minute: 52\n",
      "Second: 20\n",
      "Microsecond: 1\n"
     ]
    }
   ],
   "source": [
    "from datetime import time\n",
    "\n",
    "t = time(13, 52, 20, 1)\n",
    "\n",
    "print(\"Time:\", t)\n",
    "print(\"Hour:\", t.hour)\n",
    "print(\"Minute:\", t.minute)\n",
    "print(\"Second:\", t.second)\n",
    "print(\"Microsecond:\", t.microsecond)"
   ]
  },
  {
   "cell_type": "markdown",
   "id": "a162b9fe",
   "metadata": {},
   "source": [
    "## Creating `datetime` objects\n",
    "In the `datetime` module, date and time can be represented as separate objects or as one. The class that combines date and time is called `datetime`.\n",
    "\n",
    "Its constructor accepts the following parameters:\n",
    "\n",
    "Parameter| Restrictions\n",
    ":--|:--\n",
    "year|must be >= 1 (MINYEAR constant) and <= 9999 (MAXYEAR constant)\n",
    "month|must be >= 1 and <= 12\n",
    "day|must be >= 1 and <= the last day of the given month & year\n",
    "hour|must be >=0 and <=23\n",
    "minute|must be >=0 and <=59\n",
    "second|must be >=0 and <=59\n",
    "microsecond|must be >=0 and <=1,000,000\n",
    "tzinfo|must be a `tzinfo` subclass object or `None` (default)\n",
    "fold|must be 0 (default) or 1"
   ]
  },
  {
   "cell_type": "code",
   "execution_count": 9,
   "id": "87f3fbde",
   "metadata": {},
   "outputs": [
    {
     "name": "stdout",
     "output_type": "stream",
     "text": [
      "Datetime: 2019-11-04 14:53:00\n",
      "Date: 2019-11-04\n",
      "Time: 14:53:00\n"
     ]
    }
   ],
   "source": [
    "from datetime import datetime\n",
    "\n",
    "dtime = datetime(2019, 11, 4, 14, 53)\n",
    "\n",
    "print(\"Datetime:\", dtime)\n",
    "print(\"Date:\",dtime.date()) # date method returns date object with given year\n",
    "print(\"Time:\", dtime.time()) # time method returns time object with given hour and minute"
   ]
  },
  {
   "cell_type": "markdown",
   "id": "a67294a9",
   "metadata": {},
   "source": [
    "## Methods that return the current date and time\n",
    "The datetime class has several methods that return the current date and time.\n",
    "- `today()`: returns the current local date and time with the tzinfo attribute set to `None`\n",
    "- `now()`: returns the current local date and time the same as today method, unless we pass options argument `tz` to it. The argument of this method must be an object of the `tzinfo` subclass.\n",
    "- `utcnow()`: returns the current UTC date and time with the `tzinfo` attribute set to `None`"
   ]
  },
  {
   "cell_type": "code",
   "execution_count": 10,
   "id": "b65abbcd",
   "metadata": {},
   "outputs": [
    {
     "name": "stdout",
     "output_type": "stream",
     "text": [
      "Today: 2021-05-10 17:11:33.951767\n",
      "Now: 2021-05-10 17:11:33.952005\n",
      "UTC Now: 2021-05-10 16:11:33.952101\n"
     ]
    }
   ],
   "source": [
    "from datetime import datetime\n",
    "\n",
    "print(\"Today:\", datetime.today())\n",
    "print(\"Now:\", datetime.now())\n",
    "print(\"UTC Now:\", datetime.utcnow())"
   ]
  },
  {
   "cell_type": "markdown",
   "id": "31237ef3",
   "metadata": {},
   "source": [
    "## Getting a timestamp\n",
    "The `timestamp` method provided by the `datetime` class allows us to generate a timestamp based on a given date and time.\n",
    "\n",
    "__NOTE__: the `timestamp` method returns a float value expressing the number of seconds elapsed between the *Unix epoch* and the provided date & time."
   ]
  },
  {
   "cell_type": "code",
   "execution_count": 11,
   "id": "63ce53a2",
   "metadata": {},
   "outputs": [
    {
     "name": "stdout",
     "output_type": "stream",
     "text": [
      "Timestamp: 1620663180.0\n"
     ]
    }
   ],
   "source": [
    "from datetime import datetime\n",
    "\n",
    "dt = datetime(2021,5,10,17,13)\n",
    "print(\"Timestamp:\", dt.timestamp())"
   ]
  },
  {
   "cell_type": "markdown",
   "id": "39268e45",
   "metadata": {},
   "source": [
    "## Date and time formatting\n",
    "All `datetime` module classes presented so far have a method called `strftime` that allows us to return the date & time in a specified format. `strftime` takes only one argument inthe form of a string specifying the format using *directives*.\n",
    "\n",
    "A *directive* is a string consisting of the percent `%` character and a lowercase or uppercase letter. For example `%Y` means the year with the century as a decimal number such as *1991*.\n",
    "\n",
    "Directive|Meaning|Example\n",
    ":--|:--|:--\n",
    "`%a`|Weekday as locale's abbreviated name|Sun, Mon, Tue...\n",
    "`%A`|Weekday as locale's full name|Sunday, Monday...\n",
    "`%w`|Weekday as a decimal number where 0 is Sunday and 6 is Saturday|0, 1, ..., 6\n",
    "`%d`|Day of the month as a zero-padded decimal number| 01, 02, ..., 31\n",
    "`%b`|Month as locale's abbreviated name|Jan, Feb, Mar...\n",
    "`%B`|Month as locale's full name|January, February...\n",
    "`%m`|Month as a zero-padded decimal|01, 02, ..., 12\n",
    "`%y`|Year withou century as zero-padded decimal|01, 84, 98, 21\n",
    "`%Y`|Year with century as decimal|1980, 2021\n",
    "`%H`|Hour (24-hr format) as a zero-padded decimal|00, 13, 23\n",
    "`%I`|Hour (12-hr format) as a zero-padded decimal|01, 3, 12\n",
    "`%p`|Locale's equivalent of either AM or PM|AM, PM, am, pm\n",
    "`%M`|Minute as a zero-padded decimal|00, 15, 35, 59\n",
    "`%S`|Second as a zero-padded decimal|00, 15, 35, 59\n",
    "`%f`|Microsecond as a decimal, zero-padded on left|000000, 000001, 999999\n",
    "`%z`|UTX offset in the form `+HHMM[SS[.ffffff]]`|(empty), +0000,-0400\n",
    "`%Z`|Time zone name (empty if object is naive)|(empty), UTC, GMT\n",
    "`%j`|Day of the year as a zero-padded decimal|001, 039, 366\n",
    "`%U`|Week number of the year (Sunday as first day of week) as zero-padded decimal|00, 03, 53\n",
    "`%W`|Week number of the year (Monday as first day of week) as zero-padded decimal|00, 03, 53\n",
    "`%c`|Locale's appropriate date and time representation|Tue Aug 16 21:30:00 1988\n",
    "`%x`|Locale's appropriate date representation|08/16/88, 08/16/1988, 16.08.1988\n",
    "`%X`|Locale's appropriate time representation|21:30:00\n",
    "`%%`|A literal `%` character"
   ]
  },
  {
   "cell_type": "code",
   "execution_count": 14,
   "id": "2c00c317",
   "metadata": {},
   "outputs": [
    {
     "name": "stdout",
     "output_type": "stream",
     "text": [
      "1991/02/08\n",
      "17:49:00\n"
     ]
    }
   ],
   "source": [
    "from datetime import date\n",
    "from datetime import time\n",
    "\n",
    "d = date(1991,2,8)\n",
    "print(d.strftime(\"%Y/%m/%d\"))\n",
    "\n",
    "t = time(17,49)\n",
    "print(t.strftime(\"%H:%M:%S\"))"
   ]
  },
  {
   "cell_type": "markdown",
   "id": "8f7d3605",
   "metadata": {},
   "source": [
    "## The `strptime()` method\n",
    "The `strptime` method creates a `datetime` object from a string representing the date and time but requires that you specify the format in which the date & time is saved. If the format you specify doesn't match that of the given string, a `ValueError` will be raised."
   ]
  },
  {
   "cell_type": "code",
   "execution_count": 15,
   "id": "0ade8596",
   "metadata": {},
   "outputs": [
    {
     "name": "stdout",
     "output_type": "stream",
     "text": [
      "2019-11-04 14:53:00\n"
     ]
    }
   ],
   "source": [
    "from datetime import datetime\n",
    "\n",
    "print(datetime.strptime(\"2019/11/04 14:53:00\", \"%Y/%m/%d %H:%M:%S\"))"
   ]
  },
  {
   "cell_type": "markdown",
   "id": "342f0228",
   "metadata": {},
   "source": [
    "## Date and time operations\n",
    "There's a class called `timedelta` in the `datetime` module that allows you to perform calculations on date and time. To create a `timedelta` object, simply do a subtraction on the `date` or `datetime` objects."
   ]
  },
  {
   "cell_type": "code",
   "execution_count": 27,
   "id": "e4a4d0a7",
   "metadata": {},
   "outputs": [
    {
     "name": "stdout",
     "output_type": "stream",
     "text": [
      "366 31622400.0\n",
      "365 days, 9:07:00\n",
      "732 days, 0:00:00\n"
     ]
    }
   ],
   "source": [
    "from datetime import date\n",
    "from datetime import datetime\n",
    "\n",
    "d1 = date(2020, 11, 4)\n",
    "d2 = date(2019, 11, 4)\n",
    "\n",
    "timed = d1 - d2\n",
    "print(timed.days, timed.total_seconds())\n",
    "\n",
    "dt1 = datetime(2020, 11, 4, 0, 0, 0)\n",
    "dt2 = datetime(2019, 11, 4, 14, 53, 0)\n",
    "\n",
    "print(dt1 - dt2)\n",
    "\n",
    "delta2 = timed * 2\n",
    "print(delta2)"
   ]
  },
  {
   "cell_type": "markdown",
   "id": "e3c5b50d",
   "metadata": {},
   "source": [
    "You can also create a `timedelta` using the `timedelta` class."
   ]
  },
  {
   "cell_type": "code",
   "execution_count": 26,
   "id": "a96ae172",
   "metadata": {},
   "outputs": [
    {
     "name": "stdout",
     "output_type": "stream",
     "text": [
      "25 days, 2:00:00\n",
      "Days: 25\n",
      "Seconds: 7200\n",
      "Microseconds: 0\n"
     ]
    }
   ],
   "source": [
    "from datetime import timedelta\n",
    "\n",
    "delta = timedelta(weeks=3, days=4, hours=2)\n",
    "print(delta)\n",
    "print(\"Days:\",delta.days)\n",
    "print(\"Seconds:\",delta.seconds)\n",
    "print(\"Microseconds:\",delta.microseconds)"
   ]
  },
  {
   "cell_type": "code",
   "execution_count": null,
   "id": "052415d6",
   "metadata": {},
   "outputs": [],
   "source": []
  }
 ],
 "metadata": {
  "kernelspec": {
   "display_name": "Python 3",
   "language": "python",
   "name": "python3"
  },
  "language_info": {
   "codemirror_mode": {
    "name": "ipython",
    "version": 3
   },
   "file_extension": ".py",
   "mimetype": "text/x-python",
   "name": "python",
   "nbconvert_exporter": "python",
   "pygments_lexer": "ipython3",
   "version": "3.9.4"
  }
 },
 "nbformat": 4,
 "nbformat_minor": 5
}
