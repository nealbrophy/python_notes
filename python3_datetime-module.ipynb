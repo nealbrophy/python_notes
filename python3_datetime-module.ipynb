{
 "cells": [
  {
   "cell_type": "markdown",
   "id": "a875aca4",
   "metadata": {},
   "source": [
    "# The `datetime` module\n",
    "Python's `datetime` module provides classes for working with date and time. Some examples for use are:\n",
    "- __event loggin__: to trakc when exactly a particular error occurred.\n",
    "- __tracking changes in a databse__: storing when a particular change was made.\n",
    "- __data validation__: for example validating that a coupon is still valid\n",
    "- __storing important information__: for example a bank storing when a transfer was made."
   ]
  },
  {
   "cell_type": "markdown",
   "id": "83df8c14",
   "metadata": {},
   "source": [
    "## Getting the current local dat and creating date objects\n",
    "The `date` class from the `datetime` module allows the creation of dat objects which consist of the year, month, and day. These objects have method called `today` which returns the current local date. The date object returned by the `today` method has three read-only attributes: year, month, day.\n",
    "\n",
    "When creating date objects keep the following restrictions in mind:\n",
    "\n",
    "Parameter|Restriction\n",
    ":--|:--\n",
    "year|must be greater than or equal to 1 (MINYEAR constant) and less than or equal to 9999 (MAXYEAR constant).\n",
    "month|must be greater than or equal to 1 and less than or equal to 12.\n",
    "day|must be greater than or equal to 1 and less than or equal to the last day of the given month and year."
   ]
  },
  {
   "cell_type": "code",
   "execution_count": 1,
   "id": "d165c083",
   "metadata": {},
   "outputs": [
    {
     "name": "stdout",
     "output_type": "stream",
     "text": [
      "1984-02-21\n"
     ]
    }
   ],
   "source": [
    "from datetime import date\n",
    "\n",
    "my_date = date(1984,2,21)\n",
    "print(my_date)"
   ]
  },
  {
   "cell_type": "markdown",
   "id": "1dd2572a",
   "metadata": {},
   "source": [
    "## Creating a date object from a timestamp\n",
    "The `date` class includes a method for creating a date object from a timestamp name `fromtimestamp()`.\n",
    "\n",
    "NOTE: the result of the time function used in the example below may vary depending on the platform in use."
   ]
  },
  {
   "cell_type": "code",
   "execution_count": 2,
   "id": "2af9371a",
   "metadata": {},
   "outputs": [
    {
     "name": "stdout",
     "output_type": "stream",
     "text": [
      "Timestamp: 1620645328.4523773\n",
      "Date: 2021-05-10\n"
     ]
    }
   ],
   "source": [
    "from datetime import date\n",
    "import time\n",
    "\n",
    "timestamp = time.time() # create a timestamp to use\n",
    "print(\"Timestamp:\",timestamp)\n",
    "\n",
    "d = date.fromtimestamp(timestamp)\n",
    "print(\"Date:\",d)"
   ]
  },
  {
   "cell_type": "markdown",
   "id": "d2430315",
   "metadata": {},
   "source": [
    "## Creating a date object using the ISO format\n",
    "A similar method to the above but for creating a date object using the ISO 8601 standard compliant format of __YYYY-MM-DD__ is `fromisoformat()`."
   ]
  },
  {
   "cell_type": "code",
   "execution_count": 3,
   "id": "2ad02f5c",
   "metadata": {},
   "outputs": [
    {
     "name": "stdout",
     "output_type": "stream",
     "text": [
      "1999-12-31\n"
     ]
    }
   ],
   "source": [
    "from datetime import date\n",
    "\n",
    "d = date.fromisoformat(\"1999-12-31\")\n",
    "print(d)"
   ]
  },
  {
   "cell_type": "markdown",
   "id": "957af358",
   "metadata": {},
   "source": [
    "## The `replace()` method\n",
    "Since the year, month, and day attributes are read-only, you can't directly change them. To do so you will need to use the `replace()` method.\n",
    "\n",
    "__NOTE__: since the replace method returns a changed date object you must remember to assign it if you want to keep the change."
   ]
  },
  {
   "cell_type": "code",
   "execution_count": 4,
   "id": "68a57aa5",
   "metadata": {},
   "outputs": [
    {
     "name": "stdout",
     "output_type": "stream",
     "text": [
      "1997-03-23\n"
     ]
    }
   ],
   "source": [
    "d = d.replace(year=1997,month=3,day=23)\n",
    "print(d)"
   ]
  },
  {
   "cell_type": "markdown",
   "id": "94bbc0ef",
   "metadata": {},
   "source": [
    "## Working with days of the week\n",
    "### The `weekday` method\n",
    "Returns the day of the week as an integer value between 0 (Monday) and 6 (Sunday).\n",
    "\n",
    "### The `isoweekday` method\n",
    "Returns the day of the week as an ISO 85601 compliant integer value between 1 (Monday) and 7 (Sunday)."
   ]
  },
  {
   "cell_type": "code",
   "execution_count": 5,
   "id": "c0214bbd",
   "metadata": {},
   "outputs": [
    {
     "name": "stdout",
     "output_type": "stream",
     "text": [
      "5\n",
      "6\n"
     ]
    }
   ],
   "source": [
    "from datetime import date\n",
    "\n",
    "d = date(2018,5,26)\n",
    "print(d.weekday())\n",
    "print(d.isoweekday())"
   ]
  },
  {
   "cell_type": "markdown",
   "id": "24e3934d",
   "metadata": {},
   "source": [
    "## Creating time objects using the datetime module\n",
    "The `datetime` module provides a similar class to `date` but for creating time objects, it's the `time` class.\n",
    "\n",
    "The time class constructor takes the following optional parameters:\n",
    "\n",
    "Parameter|Restriction\n",
    ":--|:--\n",
    "hour|must be greater than or equal to 0 and less than or equal to 23\n",
    "minute|must be greater than or equal to 0 and less than or equal to 59\n",
    "second|must be greater than or equal to 0 and less than or equal to 59\n",
    "microsecond|must be greater than or equal to 0 and less than or equal to 1,000,000\n",
    "tzinfo|must be a `tzinfo` subclass or object or `None` (default)\n",
    "fold|must 0 (default) or 1\n",
    "\n",
    "- *tzinfo* is associated with timeszones\n",
    "- *fold* is associated with wall times"
   ]
  },
  {
   "cell_type": "code",
   "execution_count": 6,
   "id": "f614996d",
   "metadata": {},
   "outputs": [
    {
     "name": "stdout",
     "output_type": "stream",
     "text": [
      "Time: 13:52:20.000001\n",
      "Hour: 13\n",
      "Minute: 52\n",
      "Second: 20\n",
      "Microsecond: 1\n"
     ]
    }
   ],
   "source": [
    "from datetime import time\n",
    "\n",
    "t = time(13, 52, 20, 1)\n",
    "\n",
    "print(\"Time:\", t)\n",
    "print(\"Hour:\", t.hour)\n",
    "print(\"Minute:\", t.minute)\n",
    "print(\"Second:\", t.second)\n",
    "print(\"Microsecond:\", t.microsecond)"
   ]
  },
  {
   "cell_type": "code",
   "execution_count": null,
   "id": "87725edc",
   "metadata": {},
   "outputs": [],
   "source": []
  }
 ],
 "metadata": {
  "kernelspec": {
   "display_name": "Python 3",
   "language": "python",
   "name": "python3"
  },
  "language_info": {
   "codemirror_mode": {
    "name": "ipython",
    "version": 3
   },
   "file_extension": ".py",
   "mimetype": "text/x-python",
   "name": "python",
   "nbconvert_exporter": "python",
   "pygments_lexer": "ipython3",
   "version": "3.9.4"
  }
 },
 "nbformat": 4,
 "nbformat_minor": 5
}
