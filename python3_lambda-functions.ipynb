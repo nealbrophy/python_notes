{
 "cells": [
  {
   "cell_type": "markdown",
   "id": "intense-racing",
   "metadata": {},
   "source": [
    "# Lambda functions\n",
    "A `lambda` function is a function without a name (aka an __anonymous function__). These are normally very short, very simple functions where you're more interested in the result provided by the function than the function itself.\n",
    "\n",
    "The form of lambda functions is as follows:\n",
    "<br>`lambda parameters: expression`\n",
    "\n",
    "__NOTE__: [PEP8](https://www.python.org/dev/peps/pep-0008/#programming-recommendations) recommends NOT assigning lambdas to variables but defining them using the `def` keyword like a normal function"
   ]
  },
  {
   "cell_type": "code",
   "execution_count": 8,
   "id": "welcome-double",
   "metadata": {},
   "outputs": [
    {
     "name": "stdout",
     "output_type": "stream",
     "text": [
      "4\n",
      "353814783205469041\n",
      "Hi, I'm Neal\n"
     ]
    }
   ],
   "source": [
    "def self_power(x): return x**x\n",
    "def power(x,y): return x**y\n",
    "def name_printer(z): print(\"Hi, I'm\",z)\n",
    "\n",
    "print(self_power(2))\n",
    "print(power(29,12))\n",
    "name_printer(\"Neal\")"
   ]
  },
  {
   "cell_type": "markdown",
   "id": "cutting-premium",
   "metadata": {},
   "source": [
    "## Why do we need lambda functions?\n",
    "The most interesting use for lambdas contrary to the example above is using them as they're really intended - __anonymous functions whose purpose is to evaluate and provide a result__. An example of this use would be a function within a function.\n",
    "\n",
    "Take the following, where we create `do_something` which takes a value `n`. Within the function body we have a `lambda` that multiplies `a` by `n` but where does `a` come from? We create 3 variables that hold versions of the `do_something` function in which the `n` value has already been passed (2 for `doubler`, 3 for `tripler`, 4 for `quadrupler`). Each of these can then be passed a value which will be used a `a`."
   ]
  },
  {
   "cell_type": "code",
   "execution_count": 3,
   "id": "random-tribe",
   "metadata": {},
   "outputs": [
    {
     "name": "stdout",
     "output_type": "stream",
     "text": [
      "4\n",
      "6\n",
      "8\n"
     ]
    }
   ],
   "source": [
    "def do_something(n):\n",
    "    return lambda a: a * n\n",
    "\n",
    "doubler = do_something(2)\n",
    "tripler = do_something(3)\n",
    "quadrupler = do_something(4)\n",
    "\n",
    "print(doubler(2))\n",
    "print(tripler(2))\n",
    "print(quadrupler(2))"
   ]
  },
  {
   "cell_type": "markdown",
   "id": "informative-picture",
   "metadata": {},
   "source": [
    "## Using lambdas with the `map()` function\n",
    "As shown previously the `map()` function takes two arguments, a function and a list, and applies the the first argument (the function) to every element in the second argument (the list) and returns an iterator."
   ]
  },
  {
   "cell_type": "code",
   "execution_count": 5,
   "id": "joined-variance",
   "metadata": {},
   "outputs": [
    {
     "name": "stdout",
     "output_type": "stream",
     "text": [
      "[1, 2, 4, 8, 16]\n",
      "1 4 16 64 256 "
     ]
    }
   ],
   "source": [
    "list_1 = [x for x in range(5)]\n",
    "list_2 = list(map(lambda x:2**x, list_1)) # lambda 1:returns 2 to the power of each element\n",
    "\n",
    "print(list_2)\n",
    "\n",
    "for x in map(lambda x:x*x, list_2): # lambda 2: returns each element times itself\n",
    "    print(x, end=' ')"
   ]
  },
  {
   "cell_type": "markdown",
   "id": "southwest-sullivan",
   "metadata": {},
   "source": [
    "## Using lambdas with the `filter()` function\n",
    "The `filter()` function is very similar to `map()` except instead of applying the first argument (function) to every element of the second (list), it filters the second argument using the first."
   ]
  },
  {
   "cell_type": "code",
   "execution_count": 6,
   "id": "balanced-trustee",
   "metadata": {},
   "outputs": [
    {
     "name": "stdout",
     "output_type": "stream",
     "text": [
      "[20, 29, 50, 89, 39]\n",
      "[20, 50]\n"
     ]
    }
   ],
   "source": [
    "import random\n",
    "\n",
    "random.seed()\n",
    "data = [random.randint(12,89) for x in range(5)]\n",
    "filtered = list(filter(lambda x: x>0 and x%2==0,data))\n",
    "\n",
    "print(data)\n",
    "print(filtered)"
   ]
  },
  {
   "cell_type": "code",
   "execution_count": null,
   "id": "capital-afternoon",
   "metadata": {},
   "outputs": [],
   "source": []
  }
 ],
 "metadata": {
  "kernelspec": {
   "display_name": "Python 3",
   "language": "python",
   "name": "python3"
  },
  "language_info": {
   "codemirror_mode": {
    "name": "ipython",
    "version": 3
   },
   "file_extension": ".py",
   "mimetype": "text/x-python",
   "name": "python",
   "nbconvert_exporter": "python",
   "pygments_lexer": "ipython3",
   "version": "3.9.4"
  }
 },
 "nbformat": 4,
 "nbformat_minor": 5
}
