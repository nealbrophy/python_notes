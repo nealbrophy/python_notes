{
 "cells": [
  {
   "cell_type": "markdown",
   "id": "empirical-davis",
   "metadata": {},
   "source": [
    "# Closing streams\n",
    "The final operation performed on a stream (excluding the `stdin`, `stdout`, and `stderr` streams) should be __closing__. This is done by invoking the `close()` method from within the open stream. Example:\n",
    "\n",
    "`\n",
    "stream = open(file.txt,'a')\n",
    "...\n",
    "stream.close()\n",
    "`"
   ]
  },
  {
   "cell_type": "markdown",
   "id": "oriented-medline",
   "metadata": {},
   "source": [
    "## Stream problems\n",
    "The IOError object is equipped with a property named `errno` and you can access it as follows:\n",
    "\n",
    "`\n",
    "try:\n",
    "    open(file.txt)\n",
    "except IOError as e:\n",
    "    print(e.errno)\n",
    "`\n",
    "\n",
    "The value of the `errno` likely points to one of the predefined constants in the errno module:\n",
    "- `errno.EACCES` = Permission denied e.g. trying to open a file which is read-only\n",
    "- `errno.EBADF` = Bad file number e.g. when you try to operate on an unopened stream\n",
    "- `errno.EEXIST` = File exists e.g. if you try to rename a file with its previous name\n",
    "- `errno.EFBIG` = File too large i.e. the file is larger than the max allowed by your OS\n",
    "- `errno.EISDIR` = Is a directory e.g. you try to treat a directory name as if it were a file name\n",
    "- `errno.EMFILE` = Too many open files i.e. you tried to simultaneously open more streams than allowed by your OS\n",
    "- `errno.ENOENT` = No such file or directory i.e. you tried to access a non-existent file/directory\n",
    "- `errno.ENOSPC` = No space left on device i.e. there is no free space on your drive"
   ]
  },
  {
   "cell_type": "markdown",
   "id": "assured-inspector",
   "metadata": {},
   "source": [
    "### Using the `strerror()` function from the `os` module\n",
    "To simplify the process of determining which exception has been raised and accessing a user-friendly description we can leverage the `strerror()` function from the `os` module."
   ]
  },
  {
   "cell_type": "code",
   "execution_count": 1,
   "id": "addressed-musical",
   "metadata": {},
   "outputs": [
    {
     "name": "stdout",
     "output_type": "stream",
     "text": [
      "The file could not be opened: No such file or directory\n"
     ]
    }
   ],
   "source": [
    "from os import strerror\n",
    "from errno import ENOENT\n",
    "\n",
    "try:\n",
    "    raise IOError(ENOENT, 'Not a file')\n",
    "except IOError as e:\n",
    "    print(\"The file could not be opened:\", strerror(e.errno))"
   ]
  },
  {
   "cell_type": "markdown",
   "id": "spatial-superintendent",
   "metadata": {},
   "source": [
    "## Writing to a file\n",
    "Lets finally write to a file."
   ]
  },
  {
   "cell_type": "code",
   "execution_count": 29,
   "id": "tropical-pleasure",
   "metadata": {},
   "outputs": [],
   "source": [
    "stream = open(\"newfile.txt\",\"wt\",encoding=\"utf-8\") # open the stream in write-text & assign to variable\n",
    "text = \"Beautiful is better than ugly.\\nExplicit is better than implicit.\\nSimple is better than complex.\\nComplex is better than complicated.\"\n",
    "stream.write(text) # write the above text to the file\n",
    "stream.close() # close the stream"
   ]
  },
  {
   "cell_type": "markdown",
   "id": "several-breeding",
   "metadata": {},
   "source": [
    "## Reading from a file\n",
    "We're going to use the `read` mode to obtain the text in the file and then print it."
   ]
  },
  {
   "cell_type": "markdown",
   "id": "prime-velvet",
   "metadata": {},
   "source": [
    "### The `read()` method\n",
    "The `read()` method is versatile and can either read char by char or all at once. The latter is advisable unless you know exactly how much text is in the file in question."
   ]
  },
  {
   "cell_type": "code",
   "execution_count": 20,
   "id": "fourth-helping",
   "metadata": {},
   "outputs": [
    {
     "name": "stdout",
     "output_type": "stream",
     "text": [
      "Beautiful is better than ugly.\n",
      "Explicit is better than implicit.\n",
      "Simple is better than complex.\n",
      "Complex is better than complicated."
     ]
    }
   ],
   "source": [
    "stream = open(\"newfile.txt\",\"rt\",encoding=\"utf-8\") # open the stream in read-text mode and assign to variable\n",
    "ch = stream.read(1) # to be cautious lets read the file character by character\n",
    "while ch != \"\": # while the character isn't empty\n",
    "    print(ch, end=\"\") # print the char\n",
    "    ch = stream.read(1) # we need to explicitly tell Python to move to the next char, omitting this would create a perpetual loop\n",
    "stream.close() # close the stream"
   ]
  },
  {
   "cell_type": "markdown",
   "id": "engaged-services",
   "metadata": {},
   "source": [
    "### The `readline()` method\n",
    "An alternative to using the `read()` is `readline()` which does what the name suggests; reads line-by-line."
   ]
  },
  {
   "cell_type": "code",
   "execution_count": 21,
   "id": "annual-lawsuit",
   "metadata": {},
   "outputs": [
    {
     "name": "stdout",
     "output_type": "stream",
     "text": [
      "Beautiful is better than ugly.\n",
      "Explicit is better than implicit.\n",
      "Simple is better than complex.\n",
      "Complex is better than complicated.\n",
      "\n",
      "Characters in file: 131\n",
      "Lines in file: 4\n"
     ]
    }
   ],
   "source": [
    "char_count = line_count = 0\n",
    "stream = open(\"newfile.txt\",\"rt\",encoding=\"utf-8\") # open the stream in read-text mode and assign to variable\n",
    "line = stream.readline() # read the contents line-by-line\n",
    "while line != \"\":\n",
    "    line_count+=1 # lets count the number of lines\n",
    "    for ch in line:\n",
    "        print(ch,end=\"\") # while we're at it lets count the characters too\n",
    "        char_count+=1\n",
    "    line = stream.readline() # don't forget to tell Python to move to the next line\n",
    "stream.close() # close the stream\n",
    "print(\"\\n\\nCharacters in file:\",char_count)\n",
    "print(\"Lines in file:\",line_count)"
   ]
  },
  {
   "cell_type": "markdown",
   "id": "metropolitan-rocket",
   "metadata": {},
   "source": [
    "### The `readlines()` method\n",
    "You may be able to guess what this method does, it simply allows you to read multiple lines at ones. By default, if no arguments are passed it will try to read all the contents and return a list of strings with one element per line in the file. However, you can also tell it to read only x number of bytes at once."
   ]
  },
  {
   "cell_type": "code",
   "execution_count": 34,
   "id": "noble-clothing",
   "metadata": {},
   "outputs": [
    {
     "name": "stdout",
     "output_type": "stream",
     "text": [
      "Beautiful is better than ugly.\n",
      "Explicit is better than implicit.\n",
      "Simple is better than complex.\n",
      "Complex is better than complicated.\n",
      "\n",
      "Characters in file: 131\n",
      "Lines in file: 4\n"
     ]
    }
   ],
   "source": [
    "char_count = line_count = 0\n",
    "stream = open(\"newfile.txt\",\"rt\",encoding=\"utf-8\") # open the stream in read-text mode and assign to variable\n",
    "x_lines = stream.readlines(2) # read the contents\n",
    "while len(x_lines) != 0:\n",
    "    for line in x_lines:\n",
    "        line_count += 1\n",
    "        for ch in line:\n",
    "            print(ch, end=\"\")\n",
    "            char_count += 1\n",
    "    x_lines = stream.readlines(2) # don't forget to tell Python to move to the next line\n",
    "stream.close() # close the stream\n",
    "print(\"\\n\\nCharacters in file:\",char_count)\n",
    "print(\"Lines in file:\",line_count)"
   ]
  },
  {
   "cell_type": "markdown",
   "id": "endangered-childhood",
   "metadata": {},
   "source": [
    "## The `open()` function's object\n",
    "As mentioned previously, the `open()` function returns an object. It's worth noting that this object is __iterable__. The object's iteration protocol includes the `__next__` method which will simply return the next line read in from the file. This also means that the object will automatically close when the end of the file is reached (thus you don't always need to invoke `close()` explicitly)."
   ]
  },
  {
   "cell_type": "code",
   "execution_count": 35,
   "id": "annual-reconstruction",
   "metadata": {},
   "outputs": [
    {
     "name": "stdout",
     "output_type": "stream",
     "text": [
      "Beautiful is better than ugly.\n",
      "Explicit is better than implicit.\n",
      "Simple is better than complex.\n",
      "Complex is better than complicated.\n",
      "\n",
      "Characters in file: 131\n",
      "Lines in file: 4\n"
     ]
    }
   ],
   "source": [
    "from os import strerror\n",
    "\n",
    "try:\n",
    "    ccount = lcount = 0\n",
    "    for line in open(\"newfile.txt\", \"rt\"):\n",
    "        lcount += 1\n",
    "        for ch in line:\n",
    "            print(ch,end=\"\")\n",
    "            ccount += 1\n",
    "    print(\"\\n\\nCharacters in file:\",ccount)\n",
    "    print(\"Lines in file:\",lcount)\n",
    "except IOError as e:\n",
    "    print(\"I/O Error: \",strerror(e.errno))"
   ]
  },
  {
   "cell_type": "markdown",
   "id": "looking-marks",
   "metadata": {},
   "source": [
    "## Writing to files continued\n",
    "In the above example when writing to a file we wrote a chunk of text all at once but you can also write character-by-character if you'd like."
   ]
  },
  {
   "cell_type": "code",
   "execution_count": 37,
   "id": "strategic-thinking",
   "metadata": {},
   "outputs": [
    {
     "name": "stdout",
     "output_type": "stream",
     "text": [
      "Line no. 1\n",
      "\n",
      "Line no. 2\n",
      "\n",
      "Line no. 3\n",
      "\n",
      "Line no. 4\n",
      "\n",
      "Line no. 5\n",
      "\n",
      "Line no. 6\n",
      "\n",
      "Line no. 7\n",
      "\n",
      "Line no. 8\n",
      "\n",
      "Line no. 9\n",
      "\n",
      "Line no. 10\n",
      "\n",
      "Line no. 11\n",
      "\n",
      "Line no. 12\n",
      "\n",
      "Line no. 13\n",
      "\n",
      "Line no. 14\n",
      "\n",
      "Line no. 15\n",
      "\n",
      "Line no. 16\n",
      "\n",
      "Line no. 17\n",
      "\n",
      "Line no. 18\n",
      "\n",
      "Line no. 19\n",
      "\n",
      "Line no. 20\n",
      "\n",
      "Line no. 21\n",
      "\n"
     ]
    }
   ],
   "source": [
    "from os import strerror\n",
    "\n",
    "try:\n",
    "    newfile = open(\"newtext.txt\",\"wt\")\n",
    "    for i in range(21):\n",
    "        line = \"Line no. \" + str(i+1) + \"\\n\"\n",
    "        for ch in line:\n",
    "            newfile.write(ch)\n",
    "    newfile.close()\n",
    "except IOError as e:\n",
    "    print(\"I/O Error:\",strerror(e.errno))\n",
    "    \n",
    "read_the_new_file = open(\"newtext.txt\",\"rt\")\n",
    "for l in read_the_new_file:\n",
    "    print(l)\n",
    "    "
   ]
  },
  {
   "cell_type": "code",
   "execution_count": null,
   "id": "coordinate-prime",
   "metadata": {},
   "outputs": [],
   "source": []
  }
 ],
 "metadata": {
  "kernelspec": {
   "display_name": "Python 3",
   "language": "python",
   "name": "python3"
  },
  "language_info": {
   "codemirror_mode": {
    "name": "ipython",
    "version": 3
   },
   "file_extension": ".py",
   "mimetype": "text/x-python",
   "name": "python",
   "nbconvert_exporter": "python",
   "pygments_lexer": "ipython3",
   "version": "3.9.4"
  }
 },
 "nbformat": 4,
 "nbformat_minor": 5
}
