{
 "cells": [
  {
   "cell_type": "markdown",
   "id": "empirical-davis",
   "metadata": {},
   "source": [
    "# Closing streams\n",
    "The final operation performed on a stream (excluding the `stdin`, `stdout`, and `stderr` streams) should be __closing__. This is done by invoking the `close()` method from within the open stream. Example:\n",
    "\n",
    "`\n",
    "stream = open(file.txt,'a')\n",
    "...\n",
    "stream.close()\n",
    "`"
   ]
  },
  {
   "cell_type": "markdown",
   "id": "oriented-medline",
   "metadata": {},
   "source": [
    "## Stream problems\n",
    "The IOError object is equipped with a property named `errno` and you can access it as follows:\n",
    "\n",
    "`\n",
    "try:\n",
    "    open(file.txt)\n",
    "except IOError as e:\n",
    "    print(e.errno)\n",
    "`\n",
    "\n",
    "The value of the `errno` likely points to one of the predefined constants in the errno module:\n",
    "- `errno.EACCES` = Permission denied e.g. trying to open a file which is read-only\n",
    "- `errno.EBADF` = Bad file number e.g. when you try to operate on an unopened stream\n",
    "- `errno.EEXIST` = File exists e.g. if you try to rename a file with its previous name\n",
    "- `errno.EFBIG` = File too large i.e. the file is larger than the max allowed by your OS\n",
    "- `errno.EISDIR` = Is a directory e.g. you try to treat a directory name as if it were a file name\n",
    "- `errno.EMFILE` = Too many open files i.e. you tried to simultaneously open more streams than allowed by your OS\n",
    "- `errno.ENOENT` = No such file or directory i.e. you tried to access a non-existent file/directory\n",
    "- `errno.ENOSPC` = No space left on device i.e. there is no free space on your drive"
   ]
  },
  {
   "cell_type": "markdown",
   "id": "assured-inspector",
   "metadata": {},
   "source": [
    "### Using the `strerror()` from the `os` module\n",
    "To simplify the process of determining which exception has been raised and accessing a user-friendly description we can leverage the `strerror()` function from the `os` module."
   ]
  },
  {
   "cell_type": "code",
   "execution_count": 2,
   "id": "addressed-musical",
   "metadata": {},
   "outputs": [
    {
     "name": "stdout",
     "output_type": "stream",
     "text": [
      "The file could not be opened: No such file or directory\n"
     ]
    }
   ],
   "source": [
    "from os import strerror\n",
    "from errno import ENOENT\n",
    "\n",
    "try:\n",
    "    raise IOError(ENOENT, 'Not a file')\n",
    "except IOError as e:\n",
    "    print(\"The file could not be opened:\", strerror(e.errno))"
   ]
  },
  {
   "cell_type": "code",
   "execution_count": null,
   "id": "tropical-pleasure",
   "metadata": {},
   "outputs": [],
   "source": []
  }
 ],
 "metadata": {
  "kernelspec": {
   "display_name": "Python 3",
   "language": "python",
   "name": "python3"
  },
  "language_info": {
   "codemirror_mode": {
    "name": "ipython",
    "version": 3
   },
   "file_extension": ".py",
   "mimetype": "text/x-python",
   "name": "python",
   "nbconvert_exporter": "python",
   "pygments_lexer": "ipython3",
   "version": "3.9.4"
  }
 },
 "nbformat": 4,
 "nbformat_minor": 5
}
