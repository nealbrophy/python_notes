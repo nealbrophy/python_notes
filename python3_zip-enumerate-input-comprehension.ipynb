{
 "cells": [
  {
   "cell_type": "markdown",
   "metadata": {},
   "source": [
    "## Zip"
   ]
  },
  {
   "cell_type": "code",
   "execution_count": 3,
   "metadata": {},
   "outputs": [
    {
     "name": "stdout",
     "output_type": "stream",
     "text": [
      "(5, 'potato')\n",
      "(6, 'potato')\n",
      "(7, 'potato more')\n"
     ]
    }
   ],
   "source": [
    "list1 = [5, 6,7]\n",
    "list2 = [\"potato\", \"potato\", \"potato more\"]\n",
    "list3 = zip(list1, list2)\n",
    "for i in list3:\n",
    "    print(i)"
   ]
  },
  {
   "cell_type": "markdown",
   "metadata": {},
   "source": [
    "## Enumerate"
   ]
  },
  {
   "cell_type": "code",
   "execution_count": 4,
   "metadata": {},
   "outputs": [
    {
     "name": "stdout",
     "output_type": "stream",
     "text": [
      "(0, 'O')\n",
      "(1, 'p')\n",
      "(2, 'e')\n",
      "(3, 'n')\n",
      "(4, ' ')\n",
      "(5, 't')\n",
      "(6, 'h')\n",
      "(7, 'e')\n",
      "(8, ' ')\n",
      "(9, 'p')\n",
      "(10, 'o')\n",
      "(11, 'd')\n",
      "(12, ' ')\n",
      "(13, 'b')\n",
      "(14, 'a')\n",
      "(15, 'y')\n",
      "(16, ' ')\n",
      "(17, 'd')\n",
      "(18, 'o')\n",
      "(19, 'o')\n",
      "(20, 'r')\n",
      "(21, 's')\n",
      "(22, ',')\n",
      "(23, ' ')\n",
      "(24, 'H')\n",
      "(25, 'a')\n",
      "(26, 'l')\n"
     ]
    }
   ],
   "source": [
    "phrase = \"Open the pod bay doors, Hal\"\n",
    "for item in enumerate(phrase):\n",
    "    print(item)"
   ]
  },
  {
   "cell_type": "markdown",
   "metadata": {},
   "source": [
    "## Input"
   ]
  },
  {
   "cell_type": "code",
   "execution_count": 7,
   "metadata": {},
   "outputs": [
    {
     "name": "stdout",
     "output_type": "stream",
     "text": [
      "What is Soylent Green made from?People\n",
      "People\n",
      "<class 'str'>\n"
     ]
    }
   ],
   "source": [
    "soylent_green = input(\"What is Soylent Green made from?\")\n",
    "print(soylent_green)\n",
    "print(type(soylent_green))"
   ]
  },
  {
   "cell_type": "markdown",
   "metadata": {},
   "source": [
    "## List Comprehension"
   ]
  },
  {
   "cell_type": "code",
   "execution_count": 14,
   "metadata": {},
   "outputs": [
    {
     "name": "stdout",
     "output_type": "stream",
     "text": [
      "['G', 'a', 'z', 'p', 'a', 'c', 'h', 'o', ' ', 'S', 'o', 'u', 'p']\n"
     ]
    }
   ],
   "source": [
    "my_phrase = \"Gazpacho Soup\"\n",
    "my_list = [temp_var for temp_var in my_phrase]\n",
    "print(my_list)"
   ]
  },
  {
   "cell_type": "code",
   "execution_count": 15,
   "metadata": {},
   "outputs": [
    {
     "name": "stdout",
     "output_type": "stream",
     "text": [
      "[0, 1, 2, 3, 4, 5, 6, 7, 8, 9, 10, 11, 12, 13, 14]\n"
     ]
    }
   ],
   "source": [
    "num_list = [num for num in range(0,15)]\n",
    "print(num_list)"
   ]
  },
  {
   "cell_type": "code",
   "execution_count": 20,
   "metadata": {},
   "outputs": [
    {
     "name": "stdout",
     "output_type": "stream",
     "text": [
      "['w', 'h', 'r', ' ', 'w', 'r', ' ', 'g', 'o', 'i', 'n', 'g', ' ', 'y', 'o', 'u', ' ', 'w', 'o', 'n', 't', ' ', 'n', 'd', ' ', 'y', 's']\n"
     ]
    }
   ],
   "source": [
    "new_phrase = \"where we're going you won't need eyes\"\n",
    "new_list = [x for x in new_phrase if x != \"e\" and x != \"'\"]\n",
    "print(new_list)"
   ]
  },
  {
   "cell_type": "code",
   "execution_count": 24,
   "metadata": {},
   "outputs": [
    {
     "name": "stdout",
     "output_type": "stream",
     "text": [
      "[9.5, 703.0, 7.5, 39.1, 5.15, 3.95, 142.2]\n"
     ]
    }
   ],
   "source": [
    "new_list = [130,14000,90, 722, 43,19, 2784]\n",
    "another_list = [x/20+3 for x in new_list]\n",
    "print(another_list)\n"
   ]
  },
  {
   "cell_type": "code",
   "execution_count": 29,
   "metadata": {},
   "outputs": [
    {
     "name": "stdout",
     "output_type": "stream",
     "text": [
      "['dark hound', 'dark bard', 'dark alien', 'dark cellist', 'dark brigadier', 'groovy hound', 'groovy bard', 'groovy alien', 'groovy cellist', 'groovy brigadier', 'tall hound', 'tall bard', 'tall alien', 'tall cellist', 'tall brigadier', 'homely hound', 'homely bard', 'homely alien', 'homely cellist', 'homely brigadier', 'gormless hound', 'gormless bard', 'gormless alien', 'gormless cellist', 'gormless brigadier']\n"
     ]
    }
   ],
   "source": [
    "description_salad = [\"dark\", \"groovy\", \"tall\", \"homely\", \"gormless\"]\n",
    "being_soup = [\"hound\", \"bard\", \"alien\", \"cellist\", \"brigadier\"]\n",
    "jumble = [f\"{x} {y}\" for x in description_salad for y in being_soup]\n",
    "print(jumble)"
   ]
  },
  {
   "cell_type": "code",
   "execution_count": null,
   "metadata": {},
   "outputs": [],
   "source": []
  }
 ],
 "metadata": {
  "kernelspec": {
   "display_name": "Python 3",
   "language": "python",
   "name": "python3"
  },
  "language_info": {
   "codemirror_mode": {
    "name": "ipython",
    "version": 3
   },
   "file_extension": ".py",
   "mimetype": "text/x-python",
   "name": "python",
   "nbconvert_exporter": "python",
   "pygments_lexer": "ipython3",
   "version": "3.8.5"
  }
 },
 "nbformat": 4,
 "nbformat_minor": 4
}
