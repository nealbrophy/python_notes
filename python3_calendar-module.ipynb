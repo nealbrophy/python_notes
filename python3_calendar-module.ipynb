{
 "cells": [
  {
   "cell_type": "markdown",
   "id": "9edfa640",
   "metadata": {},
   "source": [
    "# The `calendar` module\n",
    "The Python standard library provides a module named `calendar` which offers calendar-related functions."
   ]
  },
  {
   "cell_type": "markdown",
   "id": "18c6d9f0",
   "metadata": {},
   "source": [
    "## How days are represented\n",
    "Similar to the `date` and `time` modules, the `calendar` module represents the days of the week as integers.\n",
    "\n",
    "Day of the week|Integer value|Constant\n",
    ":--|:--|:--\n",
    "Monday|0|calendar.MONDAY\n",
    "Tuesday|1|calendar.TUESDAY\n",
    "Wednesday|2|calendar.WEDNESDAY\n",
    "Thursday|3|calendar.THURSDAY\n",
    "Friday|4|calendar.FRIDAY\n",
    "Saturday|5|calendar.SATURDAY\n",
    "Sunday|6|calendar.SUNDAY"
   ]
  },
  {
   "cell_type": "markdown",
   "id": "493128ba",
   "metadata": {},
   "source": [
    "## The `calendar` function\n",
    "The `calendar` function from within the `calendar` module allows you to display the calendar for the whole year. It functions similar to the `cal` command in Unix but requires you to specify the year.\n",
    "\n",
    "You can change the default formatting using the following parameters:\n",
    "- `w`: date column width (default=2)\n",
    "- `l`: number of lines per week (default=1)\n",
    "- `c`: number of spaces between month columns (default=6)\n",
    "- `m`: number of colums (default=3)"
   ]
  },
  {
   "cell_type": "code",
   "execution_count": 3,
   "id": "d12f10bf",
   "metadata": {},
   "outputs": [
    {
     "name": "stdout",
     "output_type": "stream",
     "text": [
      "                                  2021\n",
      "\n",
      "      January                   February                   March\n",
      "Mo Tu We Th Fr Sa Su      Mo Tu We Th Fr Sa Su      Mo Tu We Th Fr Sa Su\n",
      "             1  2  3       1  2  3  4  5  6  7       1  2  3  4  5  6  7\n",
      " 4  5  6  7  8  9 10       8  9 10 11 12 13 14       8  9 10 11 12 13 14\n",
      "11 12 13 14 15 16 17      15 16 17 18 19 20 21      15 16 17 18 19 20 21\n",
      "18 19 20 21 22 23 24      22 23 24 25 26 27 28      22 23 24 25 26 27 28\n",
      "25 26 27 28 29 30 31                                29 30 31\n",
      "\n",
      "       April                      May                       June\n",
      "Mo Tu We Th Fr Sa Su      Mo Tu We Th Fr Sa Su      Mo Tu We Th Fr Sa Su\n",
      "          1  2  3  4                      1  2          1  2  3  4  5  6\n",
      " 5  6  7  8  9 10 11       3  4  5  6  7  8  9       7  8  9 10 11 12 13\n",
      "12 13 14 15 16 17 18      10 11 12 13 14 15 16      14 15 16 17 18 19 20\n",
      "19 20 21 22 23 24 25      17 18 19 20 21 22 23      21 22 23 24 25 26 27\n",
      "26 27 28 29 30            24 25 26 27 28 29 30      28 29 30\n",
      "                          31\n",
      "\n",
      "        July                     August                  September\n",
      "Mo Tu We Th Fr Sa Su      Mo Tu We Th Fr Sa Su      Mo Tu We Th Fr Sa Su\n",
      "          1  2  3  4                         1             1  2  3  4  5\n",
      " 5  6  7  8  9 10 11       2  3  4  5  6  7  8       6  7  8  9 10 11 12\n",
      "12 13 14 15 16 17 18       9 10 11 12 13 14 15      13 14 15 16 17 18 19\n",
      "19 20 21 22 23 24 25      16 17 18 19 20 21 22      20 21 22 23 24 25 26\n",
      "26 27 28 29 30 31         23 24 25 26 27 28 29      27 28 29 30\n",
      "                          30 31\n",
      "\n",
      "      October                   November                  December\n",
      "Mo Tu We Th Fr Sa Su      Mo Tu We Th Fr Sa Su      Mo Tu We Th Fr Sa Su\n",
      "             1  2  3       1  2  3  4  5  6  7             1  2  3  4  5\n",
      " 4  5  6  7  8  9 10       8  9 10 11 12 13 14       6  7  8  9 10 11 12\n",
      "11 12 13 14 15 16 17      15 16 17 18 19 20 21      13 14 15 16 17 18 19\n",
      "18 19 20 21 22 23 24      22 23 24 25 26 27 28      20 21 22 23 24 25 26\n",
      "25 26 27 28 29 30 31      29 30                     27 28 29 30 31\n",
      "\n"
     ]
    }
   ],
   "source": [
    "import calendar\n",
    "\n",
    "print(calendar.calendar(2021))"
   ]
  },
  {
   "cell_type": "markdown",
   "id": "3d5b67c5",
   "metadata": {},
   "source": [
    "## The `prcal` function\n",
    "The `prcal` function is very similar to `calendar` (and takes the same arguments) except it doesn't require you to use the `print` function to display it."
   ]
  },
  {
   "cell_type": "code",
   "execution_count": 4,
   "id": "6d8fc9d0",
   "metadata": {},
   "outputs": [
    {
     "name": "stdout",
     "output_type": "stream",
     "text": [
      "                                  2020\n",
      "\n",
      "      January                   February                   March\n",
      "Mo Tu We Th Fr Sa Su      Mo Tu We Th Fr Sa Su      Mo Tu We Th Fr Sa Su\n",
      "       1  2  3  4  5                      1  2                         1\n",
      " 6  7  8  9 10 11 12       3  4  5  6  7  8  9       2  3  4  5  6  7  8\n",
      "13 14 15 16 17 18 19      10 11 12 13 14 15 16       9 10 11 12 13 14 15\n",
      "20 21 22 23 24 25 26      17 18 19 20 21 22 23      16 17 18 19 20 21 22\n",
      "27 28 29 30 31            24 25 26 27 28 29         23 24 25 26 27 28 29\n",
      "                                                    30 31\n",
      "\n",
      "       April                      May                       June\n",
      "Mo Tu We Th Fr Sa Su      Mo Tu We Th Fr Sa Su      Mo Tu We Th Fr Sa Su\n",
      "       1  2  3  4  5                   1  2  3       1  2  3  4  5  6  7\n",
      " 6  7  8  9 10 11 12       4  5  6  7  8  9 10       8  9 10 11 12 13 14\n",
      "13 14 15 16 17 18 19      11 12 13 14 15 16 17      15 16 17 18 19 20 21\n",
      "20 21 22 23 24 25 26      18 19 20 21 22 23 24      22 23 24 25 26 27 28\n",
      "27 28 29 30               25 26 27 28 29 30 31      29 30\n",
      "\n",
      "        July                     August                  September\n",
      "Mo Tu We Th Fr Sa Su      Mo Tu We Th Fr Sa Su      Mo Tu We Th Fr Sa Su\n",
      "       1  2  3  4  5                      1  2          1  2  3  4  5  6\n",
      " 6  7  8  9 10 11 12       3  4  5  6  7  8  9       7  8  9 10 11 12 13\n",
      "13 14 15 16 17 18 19      10 11 12 13 14 15 16      14 15 16 17 18 19 20\n",
      "20 21 22 23 24 25 26      17 18 19 20 21 22 23      21 22 23 24 25 26 27\n",
      "27 28 29 30 31            24 25 26 27 28 29 30      28 29 30\n",
      "                          31\n",
      "\n",
      "      October                   November                  December\n",
      "Mo Tu We Th Fr Sa Su      Mo Tu We Th Fr Sa Su      Mo Tu We Th Fr Sa Su\n",
      "          1  2  3  4                         1          1  2  3  4  5  6\n",
      " 5  6  7  8  9 10 11       2  3  4  5  6  7  8       7  8  9 10 11 12 13\n",
      "12 13 14 15 16 17 18       9 10 11 12 13 14 15      14 15 16 17 18 19 20\n",
      "19 20 21 22 23 24 25      16 17 18 19 20 21 22      21 22 23 24 25 26 27\n",
      "26 27 28 29 30 31         23 24 25 26 27 28 29      28 29 30 31\n",
      "                          30\n"
     ]
    }
   ],
   "source": [
    "import calendar\n",
    "\n",
    "calendar.prcal(2020)"
   ]
  },
  {
   "cell_type": "markdown",
   "id": "ca6633a2",
   "metadata": {},
   "source": [
    "## The `month` function\n",
    "Allows you to display the calendar for a specific month. It takes a year and month number e.g. `calendar.month(2020, 12)`.\n",
    "\n",
    "You can change the default formatting using the following parameters:\n",
    "- `w`: date column width (default=2)\n",
    "- `l`: number of lines per week (default=1)\n",
    "\n",
    "__NOTE__: similar to `calendar` the `month` function has a print-less version called `prmonth`."
   ]
  },
  {
   "cell_type": "code",
   "execution_count": 5,
   "id": "6d84230f",
   "metadata": {},
   "outputs": [
    {
     "name": "stdout",
     "output_type": "stream",
     "text": [
      "      May 2021\n",
      "Mo Tu We Th Fr Sa Su\n",
      "                1  2\n",
      " 3  4  5  6  7  8  9\n",
      "10 11 12 13 14 15 16\n",
      "17 18 19 20 21 22 23\n",
      "24 25 26 27 28 29 30\n",
      "31\n",
      "\n",
      "      May 2021\n",
      "Mo Tu We Th Fr Sa Su\n",
      "                1  2\n",
      " 3  4  5  6  7  8  9\n",
      "10 11 12 13 14 15 16\n",
      "17 18 19 20 21 22 23\n",
      "24 25 26 27 28 29 30\n",
      "31\n"
     ]
    }
   ],
   "source": [
    "import calendar\n",
    "\n",
    "print(calendar.month(2021,5))\n",
    "calendar.prmonth(2021,5)"
   ]
  },
  {
   "cell_type": "markdown",
   "id": "36c90d60",
   "metadata": {},
   "source": [
    "## The `setfirstweekday()` function\n",
    "As mentioned previously the default first day of the week in the `calendar` module is Monday. However, you can change this using the `setfirstweekday` function. It requires an integer argument expressing the desired day of the week."
   ]
  },
  {
   "cell_type": "code",
   "execution_count": 7,
   "id": "62d2e271",
   "metadata": {},
   "outputs": [
    {
     "name": "stdout",
     "output_type": "stream",
     "text": [
      "     March 2021\n",
      "Tu We Th Fr Sa Su Mo\n",
      "                   1\n",
      " 2  3  4  5  6  7  8\n",
      " 9 10 11 12 13 14 15\n",
      "16 17 18 19 20 21 22\n",
      "23 24 25 26 27 28 29\n",
      "30 31\n",
      "     March 2021\n",
      "Th Fr Sa Su Mo Tu We\n",
      "             1  2  3\n",
      " 4  5  6  7  8  9 10\n",
      "11 12 13 14 15 16 17\n",
      "18 19 20 21 22 23 24\n",
      "25 26 27 28 29 30 31\n"
     ]
    }
   ],
   "source": [
    "import calendar\n",
    "\n",
    "calendar.setfirstweekday(calendar.TUESDAY)\n",
    "calendar.prmonth(2021,3)\n",
    "calendar.setfirstweekday(calendar.THURSDAY)\n",
    "calendar.prmonth(2021,3)"
   ]
  },
  {
   "cell_type": "markdown",
   "id": "51c8059a",
   "metadata": {},
   "source": [
    "## The `weekday()` function\n",
    "Returns the day of the week as an integer value for the given year, month, and day."
   ]
  },
  {
   "cell_type": "code",
   "execution_count": 9,
   "id": "7ff13088",
   "metadata": {},
   "outputs": [
    {
     "name": "stdout",
     "output_type": "stream",
     "text": [
      "3\n"
     ]
    }
   ],
   "source": [
    "import calendar\n",
    "\n",
    "print(calendar.weekday(2020, 12, 24)) # prints 3, which is Thursday"
   ]
  },
  {
   "cell_type": "markdown",
   "id": "3e7fd107",
   "metadata": {},
   "source": [
    "## The `weekheader()` function\n",
    "Used to adjust the header containing the weekdays in the calendar output."
   ]
  },
  {
   "cell_type": "code",
   "execution_count": 12,
   "id": "7024899d",
   "metadata": {},
   "outputs": [
    {
     "name": "stdout",
     "output_type": "stream",
     "text": [
      "Th Fr Sa Su Mo Tu We\n"
     ]
    }
   ],
   "source": [
    "import calendar\n",
    "\n",
    "print(calendar.weekheader(2))"
   ]
  },
  {
   "cell_type": "markdown",
   "id": "63e05aa1",
   "metadata": {},
   "source": [
    "## The `isleap()` and `leapdays()` functions\n",
    "These functions allow you to check whether a given year is a leap year. `isleap` returns `True` if the year passed to it is a leap year. `leapdays` returns the number of leap years in a given range of years."
   ]
  },
  {
   "cell_type": "code",
   "execution_count": 13,
   "id": "2f4581db",
   "metadata": {},
   "outputs": [
    {
     "name": "stdout",
     "output_type": "stream",
     "text": [
      "False\n",
      "6\n"
     ]
    }
   ],
   "source": [
    "import calendar\n",
    "\n",
    "print(calendar.isleap(2021))\n",
    "print(calendar.leapdays(2000,2021))"
   ]
  },
  {
   "cell_type": "markdown",
   "id": "f1545655",
   "metadata": {},
   "source": [
    "## Classes for creating calendars\n",
    "The following are *some* of the classes provided by the `calendar` module.\n",
    "- `calendar.Calendar`: provides methods to prepare calendar data for formatting\n",
    "- `calendar.TextCalendar`: is used to create regular text calendars.\n",
    "- `calendar.HTMLCalendar`: is used to create HTML calendars\n",
    "- `calendar.LocalTextCalendar`: a subclass of the `calendar.TextCalendar` class. The constructor takes the *locale* parameter, which is used to return the appropriate months and weekday names.\n",
    "- `calendar.LocalHTMLCalendar`: a subclass of the `calendar.HTMLCalendar` class. The constructor takes the *locale* parameter, which is used to return the appropriate months and weekday names."
   ]
  },
  {
   "cell_type": "markdown",
   "id": "4f1f22dc",
   "metadata": {},
   "source": [
    "## Creating a calendar object\n",
    "The `Calendar` class constructor takes one optional parameter names `firstweekday` which is equal to 0 (Monday) by default and must be an integer between 0 and 6.\n",
    "\n",
    "The example below additionally uses the `iterweekdays` method which returns an iterator for the weekday numbers."
   ]
  },
  {
   "cell_type": "code",
   "execution_count": 15,
   "id": "5efe4dc0",
   "metadata": {},
   "outputs": [
    {
     "name": "stdout",
     "output_type": "stream",
     "text": [
      "6 0 1 2 3 4 5 "
     ]
    }
   ],
   "source": [
    "import calendar\n",
    "\n",
    "c = calendar.Calendar(calendar.SUNDAY) # create calendar object with Sunday as the first day of the week\n",
    "\n",
    "for weekday in c.iterweekdays(): # loop through iterator to print the weekday numbers\n",
    "    print(weekday, end=\" \")"
   ]
  },
  {
   "cell_type": "markdown",
   "id": "b0aab259",
   "metadata": {},
   "source": [
    "## The `itermonthdates()` method\n",
    "Another method provided by the `Calendar` class is `itermonthdates` which returns an iterator of all days from the specified month (the method requires a year and month). Each day is represented by a `datetime.date` object.\n",
    "\n",
    "__NOTE__: in order to keep the weeks returned \"complete\" the iterator may include days from the prior and following months also (in our example below we see 5 days from April and 6 days from June)."
   ]
  },
  {
   "cell_type": "code",
   "execution_count": 18,
   "id": "2639420f",
   "metadata": {},
   "outputs": [
    {
     "name": "stdout",
     "output_type": "stream",
     "text": [
      "2021-04-26, 2021-04-27, 2021-04-28, 2021-04-29, 2021-04-30, 2021-05-01, 2021-05-02, 2021-05-03, 2021-05-04, 2021-05-05, 2021-05-06, 2021-05-07, 2021-05-08, 2021-05-09, 2021-05-10, 2021-05-11, 2021-05-12, 2021-05-13, 2021-05-14, 2021-05-15, 2021-05-16, 2021-05-17, 2021-05-18, 2021-05-19, 2021-05-20, 2021-05-21, 2021-05-22, 2021-05-23, 2021-05-24, 2021-05-25, 2021-05-26, 2021-05-27, 2021-05-28, 2021-05-29, 2021-05-30, 2021-05-31, 2021-06-01, 2021-06-02, 2021-06-03, 2021-06-04, 2021-06-05, 2021-06-06, "
     ]
    }
   ],
   "source": [
    "import calendar\n",
    "\n",
    "c = calendar.Calendar()\n",
    "\n",
    "for date in c.itermonthdates(2021,5):\n",
    "    print(date, end=\", \")"
   ]
  },
  {
   "cell_type": "markdown",
   "id": "b842b05e",
   "metadata": {},
   "source": [
    "## Additional methods from the `Calendar` class\n",
    "There are four additional methods similar to `itermonthdates` in the `Calendar` class.\n",
    "- `itermonthdays`: returns an iterator of the days of the week represented by numbers.\n",
    "- `itermonthdays2`: returns days in the form of tuples consisting of a day of the month number and a weekday number\n",
    "- `itermonthdays3`: returns days in the form of tuples consisting of a year, a month, and a day of the month number.\n",
    "- `itermonthdays4`: returns days in the form of tuples consisting of a year, a month, a day of the month number, and a day of the week number."
   ]
  },
  {
   "cell_type": "code",
   "execution_count": 22,
   "id": "c2399063",
   "metadata": {},
   "outputs": [
    {
     "name": "stdout",
     "output_type": "stream",
     "text": [
      "Itermonthdays:\n",
      "0, 0, 0, 0, 0, 1, 2, 3, 4, 5, 6, 7, 8, 9, 10, 11, 12, 13, 14, 15, 16, 17, 18, 19, 20, 21, 22, 23, 24, 25, 26, 27, 28, 29, 30, 31, 0, 0, 0, 0, 0, 0, \n",
      "\n",
      "Itermonthdays2:\n",
      "(0, 0), (0, 1), (0, 2), (0, 3), (0, 4), (1, 5), (2, 6), (3, 0), (4, 1), (5, 2), (6, 3), (7, 4), (8, 5), (9, 6), (10, 0), (11, 1), (12, 2), (13, 3), (14, 4), (15, 5), (16, 6), (17, 0), (18, 1), (19, 2), (20, 3), (21, 4), (22, 5), (23, 6), (24, 0), (25, 1), (26, 2), (27, 3), (28, 4), (29, 5), (30, 6), (31, 0), (0, 1), (0, 2), (0, 3), (0, 4), (0, 5), (0, 6), \n",
      "\n",
      "Itermonthdays3:\n",
      "(2021, 4, 26), (2021, 4, 27), (2021, 4, 28), (2021, 4, 29), (2021, 4, 30), (2021, 5, 1), (2021, 5, 2), (2021, 5, 3), (2021, 5, 4), (2021, 5, 5), (2021, 5, 6), (2021, 5, 7), (2021, 5, 8), (2021, 5, 9), (2021, 5, 10), (2021, 5, 11), (2021, 5, 12), (2021, 5, 13), (2021, 5, 14), (2021, 5, 15), (2021, 5, 16), (2021, 5, 17), (2021, 5, 18), (2021, 5, 19), (2021, 5, 20), (2021, 5, 21), (2021, 5, 22), (2021, 5, 23), (2021, 5, 24), (2021, 5, 25), (2021, 5, 26), (2021, 5, 27), (2021, 5, 28), (2021, 5, 29), (2021, 5, 30), (2021, 5, 31), (2021, 6, 1), (2021, 6, 2), (2021, 6, 3), (2021, 6, 4), (2021, 6, 5), (2021, 6, 6), \n",
      "\n",
      "Itermonthdays4\n",
      "(2021, 4, 26, 0), (2021, 4, 27, 1), (2021, 4, 28, 2), (2021, 4, 29, 3), (2021, 4, 30, 4), (2021, 5, 1, 5), (2021, 5, 2, 6), (2021, 5, 3, 0), (2021, 5, 4, 1), (2021, 5, 5, 2), (2021, 5, 6, 3), (2021, 5, 7, 4), (2021, 5, 8, 5), (2021, 5, 9, 6), (2021, 5, 10, 0), (2021, 5, 11, 1), (2021, 5, 12, 2), (2021, 5, 13, 3), (2021, 5, 14, 4), (2021, 5, 15, 5), (2021, 5, 16, 6), (2021, 5, 17, 0), (2021, 5, 18, 1), (2021, 5, 19, 2), (2021, 5, 20, 3), (2021, 5, 21, 4), (2021, 5, 22, 5), (2021, 5, 23, 6), (2021, 5, 24, 0), (2021, 5, 25, 1), (2021, 5, 26, 2), (2021, 5, 27, 3), (2021, 5, 28, 4), (2021, 5, 29, 5), (2021, 5, 30, 6), (2021, 5, 31, 0), (2021, 6, 1, 1), (2021, 6, 2, 2), (2021, 6, 3, 3), (2021, 6, 4, 4), (2021, 6, 5, 5), (2021, 6, 6, 6), "
     ]
    }
   ],
   "source": [
    "import calendar\n",
    "\n",
    "c = calendar.Calendar()\n",
    "\n",
    "print(\"Itermonthdays:\")\n",
    "for d in c.itermonthdays(2021, 5):\n",
    "    print(d, end=\", \")\n",
    "\n",
    "print(\"\\n\\nItermonthdays2:\")\n",
    "for d in c.itermonthdays2(2021, 5):\n",
    "    print(d, end=\", \")\n",
    "\n",
    "print(\"\\n\\nItermonthdays3:\")    \n",
    "for d in c.itermonthdays3(2021, 5):\n",
    "    print(d, end=\", \")\n",
    "    \n",
    "print(\"\\n\\nItermonthdays4\")    \n",
    "for d in c.itermonthdays4(2021, 5):\n",
    "    print(d, end=\", \")"
   ]
  },
  {
   "cell_type": "markdown",
   "id": "47cde2c4",
   "metadata": {},
   "source": [
    "## The `monthdays2calendar()` method\n",
    "Another useful method in the `Calendar` class, this takes the year and month, then returns a list of weeks in a the specified month. Each week is a tuple consisting of month day numbers and weekday numbers."
   ]
  },
  {
   "cell_type": "code",
   "execution_count": 23,
   "id": "4fb8746f",
   "metadata": {},
   "outputs": [
    {
     "name": "stdout",
     "output_type": "stream",
     "text": [
      "[(0, 0), (0, 1), (0, 2), (0, 3), (0, 4), (1, 5), (2, 6)]\n",
      "[(3, 0), (4, 1), (5, 2), (6, 3), (7, 4), (8, 5), (9, 6)]\n",
      "[(10, 0), (11, 1), (12, 2), (13, 3), (14, 4), (15, 5), (16, 6)]\n",
      "[(17, 0), (18, 1), (19, 2), (20, 3), (21, 4), (22, 5), (23, 6)]\n",
      "[(24, 0), (25, 1), (26, 2), (27, 3), (28, 4), (29, 5), (30, 6)]\n",
      "[(31, 0), (0, 1), (0, 2), (0, 3), (0, 4), (0, 5), (0, 6)]\n"
     ]
    }
   ],
   "source": [
    "import calendar\n",
    "\n",
    "c = calendar.Calendar()\n",
    "\n",
    "for cinfo in c.monthdays2calendar(2021,5):\n",
    "    print(cinfo)"
   ]
  },
  {
   "cell_type": "code",
   "execution_count": null,
   "id": "c2b36089",
   "metadata": {},
   "outputs": [],
   "source": []
  }
 ],
 "metadata": {
  "kernelspec": {
   "display_name": "Python 3",
   "language": "python",
   "name": "python3"
  },
  "language_info": {
   "codemirror_mode": {
    "name": "ipython",
    "version": 3
   },
   "file_extension": ".py",
   "mimetype": "text/x-python",
   "name": "python",
   "nbconvert_exporter": "python",
   "pygments_lexer": "ipython3",
   "version": "3.9.4"
  }
 },
 "nbformat": 4,
 "nbformat_minor": 5
}
