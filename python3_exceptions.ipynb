{
 "cells": [
  {
   "cell_type": "markdown",
   "metadata": {},
   "source": [
    "# Exceptions and `Try`/`Except`\n",
    "When Python encounters something it doesn't understand it will \"raise an exception\". An exception is Python's way of notifying the user of errors."
   ]
  },
  {
   "cell_type": "code",
   "execution_count": 2,
   "metadata": {},
   "outputs": [
    {
     "ename": "ZeroDivisionError",
     "evalue": "division by zero",
     "output_type": "error",
     "traceback": [
      "\u001b[0;31m---------------------------------------------------------------------------\u001b[0m",
      "\u001b[0;31mZeroDivisionError\u001b[0m                         Traceback (most recent call last)",
      "\u001b[0;32m<ipython-input-2-3822a443e7ef>\u001b[0m in \u001b[0;36m<module>\u001b[0;34m\u001b[0m\n\u001b[0;32m----> 1\u001b[0;31m \u001b[0mprint\u001b[0m\u001b[0;34m(\u001b[0m\u001b[0;36m2\u001b[0m\u001b[0;34m/\u001b[0m\u001b[0;36m0\u001b[0m\u001b[0;34m)\u001b[0m \u001b[0;31m# will raise a ZeroDivisionError exception\u001b[0m\u001b[0;34m\u001b[0m\u001b[0;34m\u001b[0m\u001b[0m\n\u001b[0m",
      "\u001b[0;31mZeroDivisionError\u001b[0m: division by zero"
     ]
    }
   ],
   "source": [
    "print(2/0) # will raise a ZeroDivisionError exception"
   ]
  },
  {
   "cell_type": "markdown",
   "metadata": {},
   "source": [
    "## Try\n",
    "The `try` and `except` keywords are Python's way of allowing you to attempt something that may cause an error and allows you to then \"handle\" the error if one occurs."
   ]
  },
  {
   "cell_type": "code",
   "execution_count": 4,
   "metadata": {},
   "outputs": [
    {
     "name": "stdout",
     "output_type": "stream",
     "text": [
      "Something went wrong\n"
     ]
    }
   ],
   "source": [
    "try:\n",
    "    print(2/0)\n",
    "except:\n",
    "    print(\"Something went wrong\")"
   ]
  },
  {
   "cell_type": "markdown",
   "metadata": {},
   "source": [
    "### Chained except\n",
    "You can add multiple except blocks to handle different errors. Python will check if the exception raise matches the name you provided and if so execute the block. NOTE: if you want to include an unnamed except block it should be last, after any & all named except blocks."
   ]
  },
  {
   "cell_type": "code",
   "execution_count": 5,
   "metadata": {},
   "outputs": [
    {
     "name": "stdout",
     "output_type": "stream",
     "text": [
      "I got a ZeroDivisionError.\n"
     ]
    }
   ],
   "source": [
    "try:\n",
    "    print(2/0)\n",
    "except ValueError:\n",
    "    print(\"I got a ValueError.\")\n",
    "except ZeroDivisionError:\n",
    "    print(\"I got a ZeroDivisionError.\")\n",
    "except:\n",
    "    print(\"I got some other error.\")"
   ]
  },
  {
   "cell_type": "markdown",
   "metadata": {},
   "source": [
    "#### Exception tree\n",
    "Python 3 defines 63 built-in exceptions some of which branch off into more specific child errors. If the list of exceptions is a tree `BaseException` is the root from which all other exceptions originate. Look at the following list:\n",
    "\n",
    " - BaseException\n",
    "  - SystemExit\n",
    "  - Exception\n",
    "    - ValueError\n",
    "    - LookupError\n",
    "      - IndexError\n",
    "      - KeyError\n",
    "    - ArithmeticError\n",
    "      - ZeroDivisionError\n",
    "  - KeyboardInterrupt\n",
    "  \n",
    "Each parent exception is more general (abstract) than it's children. This means that you could also catch, for example, a `ZeroDivisionError` with either an `ArithmeticError` block."
   ]
  },
  {
   "cell_type": "code",
   "execution_count": 7,
   "metadata": {},
   "outputs": [
    {
     "name": "stdout",
     "output_type": "stream",
     "text": [
      "I got some sort of arithmetic error\n"
     ]
    }
   ],
   "source": [
    "try:\n",
    "    print(2/0)\n",
    "except ArithmeticError:\n",
    "    print(\"I got some sort of arithmetic error\")\n",
    "except ZeroDivisionError:\n",
    "    print(\"I got a zero division error\")"
   ]
  },
  {
   "cell_type": "markdown",
   "metadata": {},
   "source": [
    "#### Exception order\n",
    "As you can see above, the exception will be handled by the first suitable except block. So, if you want to include multiple branches you should go from the specific to the general."
   ]
  },
  {
   "cell_type": "code",
   "execution_count": 8,
   "metadata": {},
   "outputs": [
    {
     "name": "stdout",
     "output_type": "stream",
     "text": [
      "I got a zero division error\n"
     ]
    }
   ],
   "source": [
    "try:\n",
    "    print(2/0)\n",
    "except ZeroDivisionError:\n",
    "    print(\"I got a zero division error\")\n",
    "except ArithmeticError:\n",
    "    print(\"I got some other type of arithmetic error\")\n",
    "except:\n",
    "    print(\"I got an error of some sort.\")"
   ]
  },
  {
   "cell_type": "markdown",
   "metadata": {},
   "source": [
    "#### Handling multiple exception types in a single block\n",
    "You can also handle multiple exceptions in a single block."
   ]
  },
  {
   "cell_type": "code",
   "execution_count": 10,
   "metadata": {},
   "outputs": [
    {
     "name": "stdout",
     "output_type": "stream",
     "text": [
      "I got either a zero division, index, or value error\n"
     ]
    }
   ],
   "source": [
    "try:\n",
    "    print(2/0)\n",
    "except (ZeroDivisionError,IndexError,ValueError):\n",
    "    print(\"I got either a zero division, index, or value error\")\n",
    "except:\n",
    "    print(\"I got some other error\")"
   ]
  },
  {
   "cell_type": "markdown",
   "metadata": {},
   "source": [
    "#### Function exceptions\n",
    "Exceptions raised within a function can be handled either inside or outside the function."
   ]
  },
  {
   "cell_type": "code",
   "execution_count": 12,
   "metadata": {},
   "outputs": [
    {
     "name": "stdout",
     "output_type": "stream",
     "text": [
      "There was an error within the function, captain!\n"
     ]
    }
   ],
   "source": [
    "# Handled inside the function\n",
    "def my_zerodiv_func():\n",
    "    try:\n",
    "        print(2/0)\n",
    "    except:\n",
    "        print(\"There was an error within the function, captain!\")\n",
    "    return None\n",
    "\n",
    "my_zerodiv_func()"
   ]
  },
  {
   "cell_type": "code",
   "execution_count": 14,
   "metadata": {},
   "outputs": [
    {
     "name": "stdout",
     "output_type": "stream",
     "text": [
      "I'm a Doctor not an IndexError!\n"
     ]
    }
   ],
   "source": [
    "# Handled outside the function\n",
    "def my_indexerr_func(word):\n",
    "    print(word[32])\n",
    "    \n",
    "try:\n",
    "    my_indexerr_func(\"tree\")\n",
    "except IndexError:\n",
    "    print(\"I'm a Doctor not an IndexError!\")"
   ]
  },
  {
   "cell_type": "markdown",
   "metadata": {},
   "source": [
    "#### Exception travel\n",
    "Exceptions can \"travel\" across function and module boundaries. Meaning Python will look everywhere it can for a suitable exception to handle it and if it can't find one you will see a more traditional error like that at the very top of this page."
   ]
  },
  {
   "cell_type": "code",
   "execution_count": 16,
   "metadata": {},
   "outputs": [
    {
     "name": "stdout",
     "output_type": "stream",
     "text": [
      "THIS is my error\n"
     ]
    }
   ],
   "source": [
    "def my_bad_func():\n",
    "    # if python can't find a handler for the exception it encounters WITHIN the function....\n",
    "    try:\n",
    "        print(2/0)\n",
    "    except ValueError:\n",
    "        print(\"This isn't my error!\")\n",
    "\n",
    "try:\n",
    "    # ... it will look OUTSIDE of the function\n",
    "    my_bad_func()\n",
    "except ZeroDivisionError:\n",
    "    print(\"THIS is my error\")\n",
    "    "
   ]
  },
  {
   "cell_type": "markdown",
   "metadata": {},
   "source": [
    "\n",
    "## Raising an exception with the `raise` keyword\n",
    "Python allows you to intentionally raise an exception with the `raise` keyword"
   ]
  },
  {
   "cell_type": "code",
   "execution_count": 19,
   "metadata": {},
   "outputs": [
    {
     "name": "stdout",
     "output_type": "stream",
     "text": [
      "Me!! I'm the key error\n"
     ]
    }
   ],
   "source": [
    "def my_error_func():\n",
    "    raise KeyError\n",
    "    \n",
    "try:\n",
    "    my_error_func()\n",
    "except ZeroDivisionError:\n",
    "    print(\"Not me! I'm zero division.\")\n",
    "except ValueError:\n",
    "    print(\"Not me either! I'm value.\")\n",
    "except KeyError:\n",
    "    print(\"Me!! I'm the key error\")"
   ]
  },
  {
   "cell_type": "markdown",
   "metadata": {},
   "source": [
    "### re-raising\n",
    "You can use the `raise` keyword without specifying an error WITHIN AN EXCEPT BLOCK. This will then RE-raise the error that brought it into the except block (sounds confusing, I know)."
   ]
  },
  {
   "cell_type": "code",
   "execution_count": 23,
   "metadata": {},
   "outputs": [
    {
     "name": "stdout",
     "output_type": "stream",
     "text": [
      "Within the func: Uh oh, we got an error! Here, you take it!...\n",
      "Outside the func: ..Ah yes, this is my error.\n"
     ]
    }
   ],
   "source": [
    "def another_bad_func():\n",
    "    try:\n",
    "        print(2/0)\n",
    "    except:\n",
    "        print(\"Within the func: Uh oh, we got an error! Here, you take it!...\")\n",
    "        raise\n",
    "        \n",
    "try:\n",
    "    another_bad_func()\n",
    "except ZeroDivisionError:\n",
    "    print(\"Outside the func: ..Ah yes, this is my error.\")\n",
    "    "
   ]
  },
  {
   "cell_type": "markdown",
   "metadata": {},
   "source": [
    "## Assert\n",
    "The `assert` keyword can be used if you want to tell Python \"if this isn't true stop what you're doing and give me an error\"."
   ]
  },
  {
   "cell_type": "code",
   "execution_count": 24,
   "metadata": {},
   "outputs": [
    {
     "name": "stdout",
     "output_type": "stream",
     "text": [
      "Enter a number higher than zero: 0\n"
     ]
    },
    {
     "ename": "AssertionError",
     "evalue": "",
     "output_type": "error",
     "traceback": [
      "\u001b[0;31m---------------------------------------------------------------------------\u001b[0m",
      "\u001b[0;31mAssertionError\u001b[0m                            Traceback (most recent call last)",
      "\u001b[0;32m<ipython-input-24-9d1452a3f6d5>\u001b[0m in \u001b[0;36m<module>\u001b[0;34m\u001b[0m\n\u001b[1;32m      2\u001b[0m     \u001b[0;32massert\u001b[0m \u001b[0mint\u001b[0m\u001b[0;34m(\u001b[0m\u001b[0minput\u001b[0m\u001b[0;34m(\u001b[0m\u001b[0;34m\"Enter a number higher than zero: \"\u001b[0m\u001b[0;34m)\u001b[0m\u001b[0;34m)\u001b[0m \u001b[0;34m>\u001b[0m \u001b[0;36m0\u001b[0m\u001b[0;34m\u001b[0m\u001b[0;34m\u001b[0m\u001b[0m\n\u001b[1;32m      3\u001b[0m \u001b[0;34m\u001b[0m\u001b[0m\n\u001b[0;32m----> 4\u001b[0;31m \u001b[0mmy_weird_func\u001b[0m\u001b[0;34m(\u001b[0m\u001b[0;34m)\u001b[0m\u001b[0;34m\u001b[0m\u001b[0;34m\u001b[0m\u001b[0m\n\u001b[0m",
      "\u001b[0;32m<ipython-input-24-9d1452a3f6d5>\u001b[0m in \u001b[0;36mmy_weird_func\u001b[0;34m()\u001b[0m\n\u001b[1;32m      1\u001b[0m \u001b[0;32mdef\u001b[0m \u001b[0mmy_weird_func\u001b[0m\u001b[0;34m(\u001b[0m\u001b[0;34m)\u001b[0m\u001b[0;34m:\u001b[0m\u001b[0;34m\u001b[0m\u001b[0;34m\u001b[0m\u001b[0m\n\u001b[0;32m----> 2\u001b[0;31m     \u001b[0;32massert\u001b[0m \u001b[0mint\u001b[0m\u001b[0;34m(\u001b[0m\u001b[0minput\u001b[0m\u001b[0;34m(\u001b[0m\u001b[0;34m\"Enter a number higher than zero: \"\u001b[0m\u001b[0;34m)\u001b[0m\u001b[0;34m)\u001b[0m \u001b[0;34m>\u001b[0m \u001b[0;36m0\u001b[0m\u001b[0;34m\u001b[0m\u001b[0;34m\u001b[0m\u001b[0m\n\u001b[0m\u001b[1;32m      3\u001b[0m \u001b[0;34m\u001b[0m\u001b[0m\n\u001b[1;32m      4\u001b[0m \u001b[0mmy_weird_func\u001b[0m\u001b[0;34m(\u001b[0m\u001b[0;34m)\u001b[0m\u001b[0;34m\u001b[0m\u001b[0;34m\u001b[0m\u001b[0m\n",
      "\u001b[0;31mAssertionError\u001b[0m: "
     ]
    }
   ],
   "source": [
    "def my_weird_func():\n",
    "    assert int(input(\"Enter a number higher than zero: \")) > 0\n",
    "    \n",
    "my_weird_func()"
   ]
  },
  {
   "cell_type": "markdown",
   "metadata": {},
   "source": [
    "## Some useful built-in exceptions\n",
    "\n",
    "Name|Description|Parent\n",
    ":--|:--|--:|\n",
    "ArithmeticError|An abstract/general exception caused by arithmetic operations|Exception\n",
    "AssertionError|A concrete/specific exception raised by the `assert` keyword|Exception\n",
    "BaseException|The most abstract/general exception of them all|\n",
    "IndexError|A concrete/specific exception caused by trying to access a nonexistant index|LookupError\n",
    "KeyboardInterrupt|A concrete exception raised when the user uses a shortcut to interrupt execution|BaseException\n",
    "LookupError|An abstract/general exception caused by errors resulting from invalid references|Exception\n",
    "MemoryError|A concrete exception raised when an operation cannot be completed due to lack of memory|Exception\n",
    "OverflowError|A concrete exception raised when an operation produces a number too big to be stored|ArithmeticError\n",
    "ImportError|A concrete exception raised when an import operation fails|StandardError\n",
    "KeyError|A concrete exception raised when you try to access a collections non-existent element|LookupError\n"
   ]
  },
  {
   "cell_type": "code",
   "execution_count": null,
   "metadata": {},
   "outputs": [],
   "source": []
  }
 ],
 "metadata": {
  "kernelspec": {
   "display_name": "Python 3",
   "language": "python",
   "name": "python3"
  },
  "language_info": {
   "codemirror_mode": {
    "name": "ipython",
    "version": 3
   },
   "file_extension": ".py",
   "mimetype": "text/x-python",
   "name": "python",
   "nbconvert_exporter": "python",
   "pygments_lexer": "ipython3",
   "version": "3.9.2"
  }
 },
 "nbformat": 4,
 "nbformat_minor": 4
}
