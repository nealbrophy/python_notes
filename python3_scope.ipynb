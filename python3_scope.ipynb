{
 "cells": [
  {
   "cell_type": "markdown",
   "metadata": {},
   "source": [
    "## <div align=\"center\">LEGB Rule</div>\n",
    "|Letter|Name|Description|\n",
    "|:--|:--|:--|\n",
    "|L|Local|Names assigned in any way within a function (`def` or `lambda`) and not declared global in that function|\n",
    "|E|Enclosing function locals|Names in the local scopre of any and all enclosing functions (`def` or `lambda`), from inner to outer|\n",
    "|G|Global (module)| Names assigned at the top-level of a module file, or declared global in a `def` within the file|\n",
    "|B|Built-in (Python)|Names preassigned in the built-in names module: `open`, `range`, `SyntaxError`|"
   ]
  },
  {
   "cell_type": "code",
   "execution_count": 1,
   "metadata": {},
   "outputs": [
    {
     "data": {
      "text/plain": [
       "<function __main__.<lambda>(num)>"
      ]
     },
     "execution_count": 1,
     "metadata": {},
     "output_type": "execute_result"
    }
   ],
   "source": [
    "# Local example\n",
    "# \"num\" here is a locally scoped variable\n",
    "lambda num:num**2"
   ]
  },
  {
   "cell_type": "markdown",
   "metadata": {},
   "source": [
    "A function will check first if a given variable is present in the local scope, if not it will check the enclosing scope, followed by the global scope."
   ]
  },
  {
   "cell_type": "code",
   "execution_count": 4,
   "metadata": {},
   "outputs": [
    {
     "name": "stdout",
     "output_type": "stream",
     "text": [
      "Hello Dave\n"
     ]
    }
   ],
   "source": [
    "# name is given the value \"Bob\" in the global scope\n",
    "name = \"Bob\"\n",
    "\n",
    "def greet():\n",
    "    # name is given the value \"Jim\" in the enclosing scope\n",
    "    name = \"Jim\" # comment out this line to see the global scope take precedence\n",
    "    \n",
    "    def hello():\n",
    "        # name is given the value \"Dave\" in the local scope\n",
    "        name = \"Dave\" # comment out this line to see the enclosing scope take precedence\n",
    "        \n",
    "        print('Hello '+name)\n",
    "        \n",
    "    hello()\n",
    "\n",
    "greet()"
   ]
  },
  {
   "cell_type": "code",
   "execution_count": null,
   "metadata": {},
   "outputs": [],
   "source": []
  }
 ],
 "metadata": {
  "kernelspec": {
   "display_name": "Python 3",
   "language": "python",
   "name": "python3"
  },
  "language_info": {
   "codemirror_mode": {
    "name": "ipython",
    "version": 3
   },
   "file_extension": ".py",
   "mimetype": "text/x-python",
   "name": "python",
   "nbconvert_exporter": "python",
   "pygments_lexer": "ipython3",
   "version": "3.8.5"
  }
 },
 "nbformat": 4,
 "nbformat_minor": 4
}
