{
 "cells": [
  {
   "cell_type": "markdown",
   "id": "fa599eeb",
   "metadata": {},
   "source": [
    "# Revision notes for incorrectly answered questions\n",
    "The following are notes from questions which I got wrong in PCAP prep"
   ]
  },
  {
   "cell_type": "markdown",
   "id": "74ca5792",
   "metadata": {},
   "source": [
    "## Python packages\n",
    "The following are true with regard to Python packages:\n",
    "- The shebang statement (`#!`) which appears at the top of files is a Unix command for how the file should be handled and has no effect on MS Windows.\n",
    "- If you want to use a packages in a non-standard directory you should append the directory's path to the path variable using the `sys` module.\n",
    "- Packages *should* have an `__init__.py`, however, they __will__ work without one.\n",
    "- During the first import of a module Python translates its source code into a *__semi__-compiled* format stored in the `.pyc` files and deploys these files to the `__pycache__` directory located in the module's home directory."
   ]
  },
  {
   "cell_type": "markdown",
   "id": "a105efbd",
   "metadata": {},
   "source": [
    "## Exception handling\n",
    "Look at the following code:"
   ]
  },
  {
   "cell_type": "code",
   "execution_count": 18,
   "id": "c144a11f",
   "metadata": {},
   "outputs": [
    {
     "name": "stdout",
     "output_type": "stream",
     "text": [
      "Start\n"
     ]
    },
    {
     "ename": "Exception",
     "evalue": "Error raised",
     "output_type": "error",
     "traceback": [
      "\u001b[0;31m---------------------------------------------------------------------------\u001b[0m",
      "\u001b[0;31mException\u001b[0m                                 Traceback (most recent call last)",
      "\u001b[0;32m<ipython-input-18-29c58853756f>\u001b[0m in \u001b[0;36m<module>\u001b[0;34m\u001b[0m\n\u001b[1;32m      8\u001b[0m \u001b[0;32mtry\u001b[0m\u001b[0;34m:\u001b[0m\u001b[0;34m\u001b[0m\u001b[0;34m\u001b[0m\u001b[0m\n\u001b[1;32m      9\u001b[0m     \u001b[0mprint\u001b[0m\u001b[0;34m(\u001b[0m\u001b[0;34m\"Start\"\u001b[0m\u001b[0;34m)\u001b[0m\u001b[0;34m\u001b[0m\u001b[0;34m\u001b[0m\u001b[0m\n\u001b[0;32m---> 10\u001b[0;31m     \u001b[0;32mraise\u001b[0m \u001b[0mException\u001b[0m \u001b[0;34m(\u001b[0m\u001b[0;34m\"Error raised\"\u001b[0m\u001b[0;34m)\u001b[0m\u001b[0;34m\u001b[0m\u001b[0;34m\u001b[0m\u001b[0m\n\u001b[0m\u001b[1;32m     11\u001b[0m \u001b[0;32mexcept\u001b[0m \u001b[0mErr\u001b[0m \u001b[0;32mas\u001b[0m \u001b[0me\u001b[0m\u001b[0;34m:\u001b[0m\u001b[0;34m\u001b[0m\u001b[0;34m\u001b[0m\u001b[0m\n\u001b[1;32m     12\u001b[0m     \u001b[0mprint\u001b[0m\u001b[0;34m(\u001b[0m\u001b[0me\u001b[0m\u001b[0;34m)\u001b[0m\u001b[0;34m\u001b[0m\u001b[0;34m\u001b[0m\u001b[0m\n",
      "\u001b[0;31mException\u001b[0m: Error raised"
     ]
    }
   ],
   "source": [
    "class Err(Exception):\n",
    "    def __init__(self, msg):\n",
    "        self.message = msg\n",
    "        \n",
    "    def __str__(self):\n",
    "        return \"From Err block\"\n",
    "    \n",
    "try:\n",
    "    print(\"Start\")\n",
    "    raise Exception (\"Error raised\")\n",
    "except Err as e:\n",
    "    print(e)\n",
    "else:\n",
    "    print(\"From else block\")"
   ]
  },
  {
   "cell_type": "markdown",
   "id": "01bc8b8d",
   "metadata": {},
   "source": [
    "It will print `Start` and then raise an *unhandled* exception because:\n",
    "- the `except` branch is only handling `Err` class exceptions whereas the exception we raised is `Exception` class.\n",
    "\n",
    "If we revised line 10 to `raise Err(\"Error raised\")` we would now handle the exception, however, the message printed would be `From Err block` as that is explicitly defined as the `__str__` method of the `Err` class. If we deleted the `__str__` method from the `Err` class, *then* we would get `Error raised` as the output."
   ]
  },
  {
   "cell_type": "code",
   "execution_count": 20,
   "id": "a827ba29",
   "metadata": {},
   "outputs": [
    {
     "name": "stdout",
     "output_type": "stream",
     "text": [
      "Start\n",
      "Error raised\n"
     ]
    }
   ],
   "source": [
    "class Err(Exception):\n",
    "    def __init__(self, msg):\n",
    "        self.message = msg\n",
    "        \n",
    "#     def __str__(self):\n",
    "#         return \"From Err block\"\n",
    "    \n",
    "try:\n",
    "    print(\"Start\")\n",
    "    raise Err (\"Error raised\")\n",
    "except Err as e:\n",
    "    print(e)\n",
    "else:\n",
    "    print(\"From else block\")"
   ]
  },
  {
   "cell_type": "markdown",
   "id": "6f910813",
   "metadata": {},
   "source": [
    "## `assert \"zero\"`\n",
    "Look at the following code:"
   ]
  },
  {
   "cell_type": "code",
   "execution_count": 22,
   "id": "9cd57b34",
   "metadata": {},
   "outputs": [
    {
     "name": "stdout",
     "output_type": "stream",
     "text": [
      "two three\n"
     ]
    }
   ],
   "source": [
    "try:\n",
    "    assert \"zero\"\n",
    "except:\n",
    "    print(\"one\", end=\" \")\n",
    "else:\n",
    "    print(\"two\", end=\" \")\n",
    "finally:\n",
    "    print(\"three\")"
   ]
  },
  {
   "cell_type": "markdown",
   "id": "a38c31eb",
   "metadata": {},
   "source": [
    "It will print:\n",
    "<br>`two three`\n",
    "\n",
    "Because:\n",
    "- `assert` only raises an error if the value being checked is `False` (i.e. empty strings, empty lists, False, 0 etc).\n",
    "- a non-empty string evaluates as `True`, as such no assertion error is raised and the executing is `try`>`else`>`finally`."
   ]
  },
  {
   "cell_type": "markdown",
   "id": "2852443a",
   "metadata": {},
   "source": [
    "## `int` divided by `int` equals `float`\n",
    "Look at the following code:"
   ]
  },
  {
   "cell_type": "code",
   "execution_count": 24,
   "id": "b076d9b1",
   "metadata": {},
   "outputs": [
    {
     "name": "stdout",
     "output_type": "stream",
     "text": [
      "0\n"
     ]
    }
   ],
   "source": [
    "string_convert = str(16**1/2)\n",
    "\n",
    "new_string = \"\"\n",
    "\n",
    "for ch in string_convert:\n",
    "    new_string += ch\n",
    "    \n",
    "print(new_string[-1])"
   ]
  },
  {
   "cell_type": "markdown",
   "id": "9f0c1af3",
   "metadata": {},
   "source": [
    "It will ouput `0` because:\n",
    "- Brackets have priority so the maths calculation is done first, then __PEMDAS__ has exponentiation executed first so:\n",
    "    - 16**1 = 16\n",
    "    - 16 / 2 = 8<b>.0</b> (remember integer divided by integer is always a float)\n",
    "- The `for` loop adds `8.0` to the `new_string` string\n",
    "- Index `-1` prints the final character of the string which is `0`"
   ]
  },
  {
   "cell_type": "markdown",
   "id": "f171dca7",
   "metadata": {},
   "source": [
    "## An object instance changing a class variable\n",
    "Look at the following code:"
   ]
  },
  {
   "cell_type": "code",
   "execution_count": 25,
   "id": "c2d0acdc",
   "metadata": {},
   "outputs": [
    {
     "name": "stdout",
     "output_type": "stream",
     "text": [
      "5 0\n"
     ]
    }
   ],
   "source": [
    "class MyClass:\n",
    "    c_var = 0\n",
    "    \n",
    "    def __init__(self):\n",
    "        self.value = 0\n",
    "        \n",
    "obj_a = MyClass()\n",
    "obj_a.c_var = 5\n",
    "obj_b = MyClass()\n",
    "print(obj_a.c_var, obj_b.c_var)"
   ]
  },
  {
   "cell_type": "markdown",
   "id": "64747840",
   "metadata": {},
   "source": [
    "It will output `5 0` because:\n",
    "- `c_var` is a class variable (aka a static variable) which can be accessed using `MyClass.c_var`. \n",
    "- `obj_a` and `obj_b` are both instances of `MyClass` and thus can __read__ the `c_var` variable\n",
    "- Python will first look within the object(s) for a particular var and if it's not present will then look in class from which the objects are derived. However, the class variable can only be __read__ via the object instances not changed.\n",
    "- Since the object instances cannot write to the class variable Python will instead create a new local variable within the object. So `obj_a.c_var` no longer points to the class variable `c_var` but a new *local* var of the same name within the `obj_a` instance. Thus printing `obj_a.c_var` will print the local var value of `5`\n",
    "- In the meantime, `obj_b` hasn't tried to write to `c_var` so it will still point to the original class var which is still `0`"
   ]
  },
  {
   "cell_type": "markdown",
   "id": "2cb9ecee",
   "metadata": {},
   "source": [
    "## The `__name__` class property\n",
    "Look at the following code:"
   ]
  },
  {
   "cell_type": "code",
   "execution_count": 27,
   "id": "a0c571fa",
   "metadata": {},
   "outputs": [
    {
     "name": "stdout",
     "output_type": "stream",
     "text": [
      "NewClass\n",
      "NewClass\n"
     ]
    }
   ],
   "source": [
    "class NewClass:\n",
    "    pass\n",
    "\n",
    "obj = NewClass()\n",
    "\n",
    "print(NewClass.__name__)\n",
    "print(type(obj).__name__)"
   ]
  },
  {
   "cell_type": "markdown",
   "id": "95e08874",
   "metadata": {},
   "source": [
    "Both `print`s will output the class name `NewClass`.\n",
    "- The `__name__` property is a built in __class__ property\n",
    "- In order to print the class name using an object instance we need to use the `type()` function which will return the class name and thus the second print is essentially access the same `NewClass.__name__` property.\n",
    "- If we were to try printing `obj.__name__` directly, Python would raise an `AttributeError` as objects do not have a `__name__` property."
   ]
  },
  {
   "cell_type": "markdown",
   "id": "bb0814b3",
   "metadata": {},
   "source": [
    "## The `__module__` property\n",
    "Look at the following code:"
   ]
  },
  {
   "cell_type": "code",
   "execution_count": 30,
   "id": "7bcb516c",
   "metadata": {},
   "outputs": [
    {
     "name": "stdout",
     "output_type": "stream",
     "text": [
      "__main__\n"
     ]
    }
   ],
   "source": [
    "# inside my_module.py\n",
    "\n",
    "class AnotherClass:\n",
    "    pass\n",
    "\n",
    "print(AnotherClass.__module__)"
   ]
  },
  {
   "cell_type": "markdown",
   "id": "0bf31e5d",
   "metadata": {},
   "source": [
    "It will output `__main__` because:\n",
    "- We can see that no `import` statements are present which means the `AnotherClass` class was defined in the currently running script (`my_module.py`).\n",
    "- Since we're currently running `my_module.py`, the `__module__` property will return `__main__` (this is the name Python gives to the currently running document.\n",
    "- If we were running a different file and had imported `AnotherClass` from `my_module.py` *then* the output would be `my_module.py`"
   ]
  },
  {
   "cell_type": "markdown",
   "id": "1a2d6fd6",
   "metadata": {},
   "source": [
    "## Class variable inheritance\n",
    "Look at the following code:"
   ]
  },
  {
   "cell_type": "code",
   "execution_count": 35,
   "id": "8a5426cc",
   "metadata": {},
   "outputs": [
    {
     "name": "stdout",
     "output_type": "stream",
     "text": [
      "1\n"
     ]
    }
   ],
   "source": [
    "class One:\n",
    "    pass\n",
    "\n",
    "class Two(One):\n",
    "    var = 1\n",
    "    \n",
    "class Three(One):\n",
    "    var = 2\n",
    "    \n",
    "class Four(Two, Three):\n",
    "    pass\n",
    "\n",
    "four_obj = Four()\n",
    "\n",
    "print(four_obj.var)"
   ]
  },
  {
   "cell_type": "markdown",
   "id": "5e4db9f4",
   "metadata": {},
   "source": [
    "The code is __valid__ and will output `1`.\n",
    "- This is a demonstration of the *diamond problem* of multiple inheritance. \n",
    "- Since classes `Two` and `Three` are both subclasses of `One` there is no __method resolution order__ (MRO) conflict and `Four` will inherit first from the left-most parent which is `Two`\n",
    "- If `Three` had been a subclass of `Two` instead *then* we would have triggered a `TypeError` due to an MRO conflict."
   ]
  },
  {
   "cell_type": "markdown",
   "id": "2e026849",
   "metadata": {},
   "source": [
    "## File handling\n",
    "- The `open()` method returns an iterable object and this can be used to iterate through the data in the file\n",
    "- The `readlines()` method returns an *empty* __list__ if the stream opened is an empty file\n",
    "- `rb` is the `read, binary` mode\n",
    "- `readinto()` is the method used to read from a binary file. It returns the number of successfully read bytes. The method will try to fill all available space in its argument. If there are more data than available space the operation will stop before the the end of the file."
   ]
  },
  {
   "cell_type": "code",
   "execution_count": null,
   "id": "2821d0dd",
   "metadata": {},
   "outputs": [],
   "source": []
  }
 ],
 "metadata": {
  "kernelspec": {
   "display_name": "Python 3",
   "language": "python",
   "name": "python3"
  },
  "language_info": {
   "codemirror_mode": {
    "name": "ipython",
    "version": 3
   },
   "file_extension": ".py",
   "mimetype": "text/x-python",
   "name": "python",
   "nbconvert_exporter": "python",
   "pygments_lexer": "ipython3",
   "version": "3.9.4"
  }
 },
 "nbformat": 4,
 "nbformat_minor": 5
}
