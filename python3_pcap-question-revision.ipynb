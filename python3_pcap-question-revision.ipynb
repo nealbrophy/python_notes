{
 "cells": [
  {
   "cell_type": "markdown",
   "id": "2b6c50ec",
   "metadata": {},
   "source": [
    "# Revision notes for incorrectly answered questions\n",
    "The following are notes from questions which I got wrong in PCAP prep"
   ]
  },
  {
   "cell_type": "markdown",
   "id": "230d975b",
   "metadata": {},
   "source": [
    "## Python packages\n",
    "The following are true with regard to Python packages:\n",
    "- The shebang statement (`#!`) which appears at the top of files is a Unix command for how the file should be handled and has no effect on MS Windows.\n",
    "- If you want to use a packages in a non-standard directory you should append the directory's path to the path variable using the `sys` module.\n",
    "- Packages *should* have an `__init__.py`, however, they __will__ work without one.\n",
    "- During the first import of a module Python translates its source code into a *__semi__-compiled* format stored in the `.pyc` files and deploys these files to the `__pycache__` directory located in the module's home directory."
   ]
  },
  {
   "cell_type": "markdown",
   "id": "66917456",
   "metadata": {},
   "source": [
    "## Exception handling\n",
    "Look at the following code:"
   ]
  },
  {
   "cell_type": "code",
   "execution_count": 18,
   "id": "abd1804c",
   "metadata": {},
   "outputs": [
    {
     "name": "stdout",
     "output_type": "stream",
     "text": [
      "Start\n"
     ]
    },
    {
     "ename": "Exception",
     "evalue": "Error raised",
     "output_type": "error",
     "traceback": [
      "\u001b[0;31m---------------------------------------------------------------------------\u001b[0m",
      "\u001b[0;31mException\u001b[0m                                 Traceback (most recent call last)",
      "\u001b[0;32m<ipython-input-18-29c58853756f>\u001b[0m in \u001b[0;36m<module>\u001b[0;34m\u001b[0m\n\u001b[1;32m      8\u001b[0m \u001b[0;32mtry\u001b[0m\u001b[0;34m:\u001b[0m\u001b[0;34m\u001b[0m\u001b[0;34m\u001b[0m\u001b[0m\n\u001b[1;32m      9\u001b[0m     \u001b[0mprint\u001b[0m\u001b[0;34m(\u001b[0m\u001b[0;34m\"Start\"\u001b[0m\u001b[0;34m)\u001b[0m\u001b[0;34m\u001b[0m\u001b[0;34m\u001b[0m\u001b[0m\n\u001b[0;32m---> 10\u001b[0;31m     \u001b[0;32mraise\u001b[0m \u001b[0mException\u001b[0m \u001b[0;34m(\u001b[0m\u001b[0;34m\"Error raised\"\u001b[0m\u001b[0;34m)\u001b[0m\u001b[0;34m\u001b[0m\u001b[0;34m\u001b[0m\u001b[0m\n\u001b[0m\u001b[1;32m     11\u001b[0m \u001b[0;32mexcept\u001b[0m \u001b[0mErr\u001b[0m \u001b[0;32mas\u001b[0m \u001b[0me\u001b[0m\u001b[0;34m:\u001b[0m\u001b[0;34m\u001b[0m\u001b[0;34m\u001b[0m\u001b[0m\n\u001b[1;32m     12\u001b[0m     \u001b[0mprint\u001b[0m\u001b[0;34m(\u001b[0m\u001b[0me\u001b[0m\u001b[0;34m)\u001b[0m\u001b[0;34m\u001b[0m\u001b[0;34m\u001b[0m\u001b[0m\n",
      "\u001b[0;31mException\u001b[0m: Error raised"
     ]
    }
   ],
   "source": [
    "class Err(Exception):\n",
    "    def __init__(self, msg):\n",
    "        self.message = msg\n",
    "        \n",
    "    def __str__(self):\n",
    "        return \"From Err block\"\n",
    "    \n",
    "try:\n",
    "    print(\"Start\")\n",
    "    raise Exception (\"Error raised\")\n",
    "except Err as e:\n",
    "    print(e)\n",
    "else:\n",
    "    print(\"From else block\")"
   ]
  },
  {
   "cell_type": "markdown",
   "id": "22ec4731",
   "metadata": {},
   "source": [
    "It will print `Start` and then raise an *unhandled* exception because:\n",
    "- the `except` branch is only handling `Err` class exceptions whereas the exception we raised is `Exception` class.\n",
    "\n",
    "If we revised line 10 to `raise Err(\"Error raised\")` we would now handle the exception, however, the message printed would be `From Err block` as that is explicitly defined as the `__str__` method of the `Err` class. If we deleted the `__str__` method from the `Err` class, *then* we would get `Error raised` as the output."
   ]
  },
  {
   "cell_type": "code",
   "execution_count": 20,
   "id": "25fa662f",
   "metadata": {},
   "outputs": [
    {
     "name": "stdout",
     "output_type": "stream",
     "text": [
      "Start\n",
      "Error raised\n"
     ]
    }
   ],
   "source": [
    "class Err(Exception):\n",
    "    def __init__(self, msg):\n",
    "        self.message = msg\n",
    "        \n",
    "#     def __str__(self):\n",
    "#         return \"From Err block\"\n",
    "    \n",
    "try:\n",
    "    print(\"Start\")\n",
    "    raise Err (\"Error raised\")\n",
    "except Err as e:\n",
    "    print(e)\n",
    "else:\n",
    "    print(\"From else block\")"
   ]
  },
  {
   "cell_type": "markdown",
   "id": "2b8f04d0",
   "metadata": {},
   "source": [
    "## `assert \"zero\"`\n",
    "Look at the following code:"
   ]
  },
  {
   "cell_type": "code",
   "execution_count": 22,
   "id": "fde4ded1",
   "metadata": {},
   "outputs": [
    {
     "name": "stdout",
     "output_type": "stream",
     "text": [
      "two three\n"
     ]
    }
   ],
   "source": [
    "try:\n",
    "    assert \"zero\"\n",
    "except:\n",
    "    print(\"one\", end=\" \")\n",
    "else:\n",
    "    print(\"two\", end=\" \")\n",
    "finally:\n",
    "    print(\"three\")"
   ]
  },
  {
   "cell_type": "markdown",
   "id": "60d51387",
   "metadata": {},
   "source": [
    "It will print:\n",
    "<br>`two three`\n",
    "\n",
    "Because:\n",
    "- `assert` only raises an error if the value being checked is `False` (i.e. empty strings, empty lists, False, 0 etc).\n",
    "- a non-empty string evaluates as `True`, as such no assertion error is raised and the executing is `try`>`else`>`finally`."
   ]
  },
  {
   "cell_type": "markdown",
   "id": "02e621c4",
   "metadata": {},
   "source": [
    "## `int` divided by `int` equals `float`\n",
    "Look at the following code:"
   ]
  },
  {
   "cell_type": "code",
   "execution_count": 24,
   "id": "302cf72d",
   "metadata": {},
   "outputs": [
    {
     "name": "stdout",
     "output_type": "stream",
     "text": [
      "0\n"
     ]
    }
   ],
   "source": [
    "string_convert = str(16**1/2)\n",
    "\n",
    "new_string = \"\"\n",
    "\n",
    "for ch in string_convert:\n",
    "    new_string += ch\n",
    "    \n",
    "print(new_string[-1])"
   ]
  },
  {
   "cell_type": "markdown",
   "id": "f0c89a24",
   "metadata": {},
   "source": [
    "It will ouput `0` because:\n",
    "- Brackets have priority so the maths calculation is done first, then __PEMDAS__ has exponentiation executed first so:\n",
    "    - 16**1 = 16\n",
    "    - 16 / 2 = 8<b>.0</b> (remember integer divided by integer is always a float)\n",
    "- The `for` loop adds `8.0` to the `new_string` string\n",
    "- Index `-1` prints the final character of the string which is `0`"
   ]
  },
  {
   "cell_type": "markdown",
   "id": "dc981cd4",
   "metadata": {},
   "source": [
    "## An object instance changing a class variable\n",
    "Look at the following code:"
   ]
  },
  {
   "cell_type": "code",
   "execution_count": 25,
   "id": "a34d9881",
   "metadata": {},
   "outputs": [
    {
     "name": "stdout",
     "output_type": "stream",
     "text": [
      "5 0\n"
     ]
    }
   ],
   "source": [
    "class MyClass:\n",
    "    c_var = 0\n",
    "    \n",
    "    def __init__(self):\n",
    "        self.value = 0\n",
    "        \n",
    "obj_a = MyClass()\n",
    "obj_a.c_var = 5\n",
    "obj_b = MyClass()\n",
    "print(obj_a.c_var, obj_b.c_var)"
   ]
  },
  {
   "cell_type": "markdown",
   "id": "de81a1da",
   "metadata": {},
   "source": [
    "It will output `5 0` because:\n",
    "- `c_var` is a class variable (aka a static variable) which can be accessed using `MyClass.c_var`. \n",
    "- `obj_a` and `obj_b` are both instances of `MyClass` and thus can __read__ the `c_var` variable\n",
    "- Python will first look within the object(s) for a particular var and if it's not present will then look in class from which the objects are derived. However, the class variable can only be __read__ via the object instances not changed.\n",
    "- Since the object instances cannot write to the class variable Python will instead create a new local variable within the object. So `obj_a.c_var` no longer points to the class variable `c_var` but a new *local* var of the same name within the `obj_a` instance. Thus printing `obj_a.c_var` will print the local var value of `5`\n",
    "- In the meantime, `obj_b` hasn't tried to write to `c_var` so it will still point to the original class var which is still `0`"
   ]
  },
  {
   "cell_type": "markdown",
   "id": "2d12ae05",
   "metadata": {},
   "source": [
    "## The `__name__` class property\n",
    "Look at the following code:"
   ]
  },
  {
   "cell_type": "code",
   "execution_count": 27,
   "id": "9be2e019",
   "metadata": {},
   "outputs": [
    {
     "name": "stdout",
     "output_type": "stream",
     "text": [
      "NewClass\n",
      "NewClass\n"
     ]
    }
   ],
   "source": [
    "class NewClass:\n",
    "    pass\n",
    "\n",
    "obj = NewClass()\n",
    "\n",
    "print(NewClass.__name__)\n",
    "print(type(obj).__name__)"
   ]
  },
  {
   "cell_type": "markdown",
   "id": "bd6f6aac",
   "metadata": {},
   "source": [
    "Both `print`s will output the class name `NewClass`.\n",
    "- The `__name__` property is a built in __class__ property\n",
    "- In order to print the class name using an object instance we need to use the `type()` function which will return the class name and thus the second print is essentially access the same `NewClass.__name__` property.\n",
    "- If we were to try printing `obj.__name__` directly, Python would raise an `AttributeError` as objects do not have a `__name__` property."
   ]
  },
  {
   "cell_type": "markdown",
   "id": "e8282fc7",
   "metadata": {},
   "source": [
    "## The `__module__` property\n",
    "Look at the following code:"
   ]
  },
  {
   "cell_type": "code",
   "execution_count": 30,
   "id": "d6d0047b",
   "metadata": {},
   "outputs": [
    {
     "name": "stdout",
     "output_type": "stream",
     "text": [
      "__main__\n"
     ]
    }
   ],
   "source": [
    "# inside my_module.py\n",
    "\n",
    "class AnotherClass:\n",
    "    pass\n",
    "\n",
    "print(AnotherClass.__module__)"
   ]
  },
  {
   "cell_type": "markdown",
   "id": "90548e6d",
   "metadata": {},
   "source": [
    "It will output `__main__` because:\n",
    "- We can see that no `import` statements are present which means the `AnotherClass` class was defined in the currently running script (`my_module.py`).\n",
    "- Since we're currently running `my_module.py`, the `__module__` property will return `__main__` (this is the name Python gives to the currently running document.\n",
    "- If we were running a different file and had imported `AnotherClass` from `my_module.py` *then* the output would be `my_module.py`"
   ]
  },
  {
   "cell_type": "markdown",
   "id": "3ae75e05",
   "metadata": {},
   "source": [
    "## Class variable inheritance\n",
    "Look at the following code:"
   ]
  },
  {
   "cell_type": "code",
   "execution_count": 35,
   "id": "08567b5c",
   "metadata": {},
   "outputs": [
    {
     "name": "stdout",
     "output_type": "stream",
     "text": [
      "1\n"
     ]
    }
   ],
   "source": [
    "class One:\n",
    "    pass\n",
    "\n",
    "class Two(One):\n",
    "    var = 1\n",
    "    \n",
    "class Three(One):\n",
    "    var = 2\n",
    "    \n",
    "class Four(Two, Three):\n",
    "    pass\n",
    "\n",
    "four_obj = Four()\n",
    "\n",
    "print(four_obj.var)"
   ]
  },
  {
   "cell_type": "markdown",
   "id": "abfc051d",
   "metadata": {},
   "source": [
    "The code is __valid__ and will output `1`.\n",
    "- This is a demonstration of the *diamond problem* of multiple inheritance. \n",
    "- Since classes `Two` and `Three` are both subclasses of `One` there is no __method resolution order__ (MRO) conflict and `Four` will inherit first from the left-most parent which is `Two`\n",
    "- If `Three` had been a subclass of `Two` instead *then* we would have triggered a `TypeError` due to an MRO conflict."
   ]
  },
  {
   "cell_type": "markdown",
   "id": "6936a14a",
   "metadata": {},
   "source": [
    "## File handling\n",
    "- The `open()` method returns an iterable object and this can be used to iterate through the data in the file\n",
    "- The `readlines()` method returns an *empty* __list__ if the stream opened is an empty file\n",
    "- `rb` is the `read, binary` mode\n",
    "- `readinto()` is the method used to read from a binary file. It returns the number of successfully read bytes. The method will try to fill all available space in its argument. If there are more data than available space the operation will stop before the the end of the file."
   ]
  },
  {
   "cell_type": "markdown",
   "id": "989434ff",
   "metadata": {},
   "source": [
    "## The `dir()` function\n",
    "The `dir()` function will return an alphabetically sorted list of all entities within the given module. However, this will only work if the module *as a whole* has been imported first."
   ]
  },
  {
   "cell_type": "code",
   "execution_count": 38,
   "id": "6bf9c8c4",
   "metadata": {},
   "outputs": [
    {
     "name": "stdout",
     "output_type": "stream",
     "text": [
      "['CLD_CONTINUED', 'CLD_DUMPED', 'CLD_EXITED', 'CLD_KILLED', 'CLD_STOPPED', 'CLD_TRAPPED', 'DirEntry', 'EX_CANTCREAT', 'EX_CONFIG', 'EX_DATAERR', 'EX_IOERR', 'EX_NOHOST', 'EX_NOINPUT', 'EX_NOPERM', 'EX_NOUSER', 'EX_OK', 'EX_OSERR', 'EX_OSFILE', 'EX_PROTOCOL', 'EX_SOFTWARE', 'EX_TEMPFAIL', 'EX_UNAVAILABLE', 'EX_USAGE', 'F_LOCK', 'F_OK', 'F_TEST', 'F_TLOCK', 'F_ULOCK', 'GRND_NONBLOCK', 'GRND_RANDOM', 'GenericAlias', 'MFD_ALLOW_SEALING', 'MFD_CLOEXEC', 'MFD_HUGETLB', 'MFD_HUGE_16GB', 'MFD_HUGE_16MB', 'MFD_HUGE_1GB', 'MFD_HUGE_1MB', 'MFD_HUGE_256MB', 'MFD_HUGE_2GB', 'MFD_HUGE_2MB', 'MFD_HUGE_32MB', 'MFD_HUGE_512KB', 'MFD_HUGE_512MB', 'MFD_HUGE_64KB', 'MFD_HUGE_8MB', 'MFD_HUGE_MASK', 'MFD_HUGE_SHIFT', 'Mapping', 'MutableMapping', 'NGROUPS_MAX', 'O_ACCMODE', 'O_APPEND', 'O_ASYNC', 'O_CLOEXEC', 'O_CREAT', 'O_DIRECT', 'O_DIRECTORY', 'O_DSYNC', 'O_EXCL', 'O_LARGEFILE', 'O_NDELAY', 'O_NOATIME', 'O_NOCTTY', 'O_NOFOLLOW', 'O_NONBLOCK', 'O_PATH', 'O_RDONLY', 'O_RDWR', 'O_RSYNC', 'O_SYNC', 'O_TMPFILE', 'O_TRUNC', 'O_WRONLY', 'POSIX_FADV_DONTNEED', 'POSIX_FADV_NOREUSE', 'POSIX_FADV_NORMAL', 'POSIX_FADV_RANDOM', 'POSIX_FADV_SEQUENTIAL', 'POSIX_FADV_WILLNEED', 'POSIX_SPAWN_CLOSE', 'POSIX_SPAWN_DUP2', 'POSIX_SPAWN_OPEN', 'PRIO_PGRP', 'PRIO_PROCESS', 'PRIO_USER', 'P_ALL', 'P_NOWAIT', 'P_NOWAITO', 'P_PGID', 'P_PID', 'P_PIDFD', 'P_WAIT', 'PathLike', 'RTLD_DEEPBIND', 'RTLD_GLOBAL', 'RTLD_LAZY', 'RTLD_LOCAL', 'RTLD_NODELETE', 'RTLD_NOLOAD', 'RTLD_NOW', 'RWF_DSYNC', 'RWF_HIPRI', 'RWF_NOWAIT', 'RWF_SYNC', 'R_OK', 'SCHED_BATCH', 'SCHED_FIFO', 'SCHED_IDLE', 'SCHED_OTHER', 'SCHED_RESET_ON_FORK', 'SCHED_RR', 'SEEK_CUR', 'SEEK_DATA', 'SEEK_END', 'SEEK_HOLE', 'SEEK_SET', 'ST_APPEND', 'ST_MANDLOCK', 'ST_NOATIME', 'ST_NODEV', 'ST_NODIRATIME', 'ST_NOEXEC', 'ST_NOSUID', 'ST_RDONLY', 'ST_RELATIME', 'ST_SYNCHRONOUS', 'ST_WRITE', 'TMP_MAX', 'WCONTINUED', 'WCOREDUMP', 'WEXITED', 'WEXITSTATUS', 'WIFCONTINUED', 'WIFEXITED', 'WIFSIGNALED', 'WIFSTOPPED', 'WNOHANG', 'WNOWAIT', 'WSTOPPED', 'WSTOPSIG', 'WTERMSIG', 'WUNTRACED', 'W_OK', 'XATTR_CREATE', 'XATTR_REPLACE', 'XATTR_SIZE_MAX', 'X_OK', '_Environ', '__all__', '__builtins__', '__cached__', '__doc__', '__file__', '__loader__', '__name__', '__package__', '__spec__', '_check_methods', '_execvpe', '_exists', '_exit', '_fspath', '_fwalk', '_get_exports_list', '_spawnvef', '_walk', '_wrap_close', 'abc', 'abort', 'access', 'altsep', 'chdir', 'chmod', 'chown', 'chroot', 'close', 'closerange', 'confstr', 'confstr_names', 'copy_file_range', 'cpu_count', 'ctermid', 'curdir', 'defpath', 'device_encoding', 'devnull', 'dup', 'dup2', 'environ', 'environb', 'error', 'execl', 'execle', 'execlp', 'execlpe', 'execv', 'execve', 'execvp', 'execvpe', 'extsep', 'fchdir', 'fchmod', 'fchown', 'fdatasync', 'fdopen', 'fork', 'forkpty', 'fpathconf', 'fsdecode', 'fsencode', 'fspath', 'fstat', 'fstatvfs', 'fsync', 'ftruncate', 'fwalk', 'get_blocking', 'get_exec_path', 'get_inheritable', 'get_terminal_size', 'getcwd', 'getcwdb', 'getegid', 'getenv', 'getenvb', 'geteuid', 'getgid', 'getgrouplist', 'getgroups', 'getloadavg', 'getlogin', 'getpgid', 'getpgrp', 'getpid', 'getppid', 'getpriority', 'getrandom', 'getresgid', 'getresuid', 'getsid', 'getuid', 'getxattr', 'initgroups', 'isatty', 'kill', 'killpg', 'lchown', 'linesep', 'link', 'listdir', 'listxattr', 'lockf', 'lseek', 'lstat', 'major', 'makedev', 'makedirs', 'memfd_create', 'minor', 'mkdir', 'mkfifo', 'mknod', 'name', 'nice', 'open', 'openpty', 'pardir', 'path', 'pathconf', 'pathconf_names', 'pathsep', 'pidfd_open', 'pipe', 'pipe2', 'popen', 'posix_fadvise', 'posix_fallocate', 'posix_spawn', 'posix_spawnp', 'pread', 'preadv', 'putenv', 'pwrite', 'pwritev', 'read', 'readlink', 'readv', 'register_at_fork', 'remove', 'removedirs', 'removexattr', 'rename', 'renames', 'replace', 'rmdir', 'scandir', 'sched_get_priority_max', 'sched_get_priority_min', 'sched_getaffinity', 'sched_getparam', 'sched_getscheduler', 'sched_param', 'sched_rr_get_interval', 'sched_setaffinity', 'sched_setparam', 'sched_setscheduler', 'sched_yield', 'sendfile', 'sep', 'set_blocking', 'set_inheritable', 'setegid', 'seteuid', 'setgid', 'setgroups', 'setpgid', 'setpgrp', 'setpriority', 'setregid', 'setresgid', 'setresuid', 'setreuid', 'setsid', 'setuid', 'setxattr', 'spawnl', 'spawnle', 'spawnlp', 'spawnlpe', 'spawnv', 'spawnve', 'spawnvp', 'spawnvpe', 'st', 'stat', 'stat_result', 'statvfs', 'statvfs_result', 'strerror', 'supports_bytes_environ', 'supports_dir_fd', 'supports_effective_ids', 'supports_fd', 'supports_follow_symlinks', 'symlink', 'sync', 'sys', 'sysconf', 'sysconf_names', 'system', 'tcgetpgrp', 'tcsetpgrp', 'terminal_size', 'times', 'times_result', 'truncate', 'ttyname', 'umask', 'uname', 'uname_result', 'unlink', 'unsetenv', 'urandom', 'utime', 'wait', 'wait3', 'wait4', 'waitid', 'waitid_result', 'waitpid', 'waitstatus_to_exitcode', 'walk', 'write', 'writev']\n"
     ]
    },
    {
     "ename": "NameError",
     "evalue": "name 'math' is not defined",
     "output_type": "error",
     "traceback": [
      "\u001b[0;31m---------------------------------------------------------------------------\u001b[0m",
      "\u001b[0;31mNameError\u001b[0m                                 Traceback (most recent call last)",
      "\u001b[0;32m<ipython-input-38-33634c170447>\u001b[0m in \u001b[0;36m<module>\u001b[0;34m\u001b[0m\n\u001b[1;32m      9\u001b[0m \u001b[0;32mfrom\u001b[0m \u001b[0mmath\u001b[0m \u001b[0;32mimport\u001b[0m \u001b[0msqrt\u001b[0m\u001b[0;34m\u001b[0m\u001b[0;34m\u001b[0m\u001b[0m\n\u001b[1;32m     10\u001b[0m \u001b[0;34m\u001b[0m\u001b[0m\n\u001b[0;32m---> 11\u001b[0;31m \u001b[0mprint\u001b[0m\u001b[0;34m(\u001b[0m\u001b[0mdir\u001b[0m\u001b[0;34m(\u001b[0m\u001b[0mmath\u001b[0m\u001b[0;34m)\u001b[0m\u001b[0;34m)\u001b[0m\u001b[0;34m\u001b[0m\u001b[0;34m\u001b[0m\u001b[0m\n\u001b[0m",
      "\u001b[0;31mNameError\u001b[0m: name 'math' is not defined"
     ]
    }
   ],
   "source": [
    "# WILL WORK\n",
    "import os # import the os module\n",
    "\n",
    "print(dir(os)) # use the dir() function to get a list of entities within os\n",
    "\n",
    "# ------------------------------------\n",
    "\n",
    "# WILL NOT WORK, (NameError raised)\n",
    "from math import sqrt\n",
    "\n",
    "print(dir(math))"
   ]
  },
  {
   "cell_type": "markdown",
   "id": "a9cfd019",
   "metadata": {},
   "source": [
    "## AssertionError message\n",
    "In order for an `AssertionError` to provide a message, the message should usually be declared after the assert statement like so:\n",
    "<br>`assert x, \"x is false\"`"
   ]
  },
  {
   "cell_type": "code",
   "execution_count": 42,
   "id": "1529b494",
   "metadata": {},
   "outputs": [
    {
     "name": "stdout",
     "output_type": "stream",
     "text": [
      "me is false\n"
     ]
    }
   ],
   "source": [
    "def assert_me(me):\n",
    "    assert me, \"me is false\"\n",
    "\n",
    "try:\n",
    "    assert_me(0)\n",
    "except AssertionError as e:\n",
    "    print(e)"
   ]
  },
  {
   "cell_type": "markdown",
   "id": "d46e71da",
   "metadata": {},
   "source": [
    "## How Python handles very large numbers\n",
    "Python will represent sufficiently large numbers using scientific notation e.g. `1E250`. Beyond such numbers, Python will consider the number to be infinite and so represent it with the word `inf`. If you attempt to perform operations on such numbers which exceed Python's capacity, an `OverflowError` will be raised."
   ]
  },
  {
   "cell_type": "code",
   "execution_count": 62,
   "id": "872549ac",
   "metadata": {},
   "outputs": [
    {
     "name": "stdout",
     "output_type": "stream",
     "text": [
      "inf\n"
     ]
    },
    {
     "ename": "OverflowError",
     "evalue": "(34, 'Numerical result out of range')",
     "output_type": "error",
     "traceback": [
      "\u001b[0;31m---------------------------------------------------------------------------\u001b[0m",
      "\u001b[0;31mOverflowError\u001b[0m                             Traceback (most recent call last)",
      "\u001b[0;32m<ipython-input-62-33d1824e7c82>\u001b[0m in \u001b[0;36m<module>\u001b[0;34m\u001b[0m\n\u001b[1;32m      2\u001b[0m \u001b[0mm2\u001b[0m \u001b[0;34m=\u001b[0m \u001b[0;36m1e189\u001b[0m\u001b[0;34m\u001b[0m\u001b[0;34m\u001b[0m\u001b[0m\n\u001b[1;32m      3\u001b[0m \u001b[0mprint\u001b[0m\u001b[0;34m(\u001b[0m\u001b[0mm1\u001b[0m\u001b[0;34m*\u001b[0m\u001b[0mm2\u001b[0m\u001b[0;34m)\u001b[0m \u001b[0;31m# inf\u001b[0m\u001b[0;34m\u001b[0m\u001b[0;34m\u001b[0m\u001b[0m\n\u001b[0;32m----> 4\u001b[0;31m \u001b[0mprint\u001b[0m\u001b[0;34m(\u001b[0m\u001b[0mm1\u001b[0m\u001b[0;34m**\u001b[0m\u001b[0;36m2\u001b[0m\u001b[0;34m)\u001b[0m \u001b[0;31m# overflow\u001b[0m\u001b[0;34m\u001b[0m\u001b[0;34m\u001b[0m\u001b[0m\n\u001b[0m",
      "\u001b[0;31mOverflowError\u001b[0m: (34, 'Numerical result out of range')"
     ]
    }
   ],
   "source": [
    "m1 = 1e250\n",
    "m2 = 1e189\n",
    "print(m1*m2) # inf\n",
    "print(m1**2) # overflow"
   ]
  },
  {
   "cell_type": "markdown",
   "id": "cb68f552",
   "metadata": {},
   "source": [
    "### UTF-8 and UCS-4\n",
    "- `UTF-8` stands for *Unicode Transformation Format - 8bit* and uses variable bytes (one to four) for characters.\n",
    "- `UCS-4` stands for *Universal Character Set - 4bytes* and uses 4 bytes per character.\n",
    "- a code point is a number representing a character. e.g. the UTF-8 code point for `!` is `21`\n",
    "- `UTF-8` is fully backwards compatible with `ASCII` as both use 1-byte to represent the first 127 characters (255 in case of UTF-8 but ASCII only uses 127 of them)."
   ]
  },
  {
   "cell_type": "markdown",
   "id": "b6dfc427",
   "metadata": {},
   "source": [
    "## Python classes and emptiness\n",
    "Python classes can have empty properties and empty methods. The only mandatory requirement is a unique name."
   ]
  },
  {
   "cell_type": "code",
   "execution_count": 63,
   "id": "a28ff3f5",
   "metadata": {},
   "outputs": [],
   "source": [
    "class ANewClass:\n",
    "    pass"
   ]
  },
  {
   "cell_type": "markdown",
   "id": "f1e58f82",
   "metadata": {},
   "source": [
    "## Python classes and local vars\n",
    "Python classes can contain several different types of variables.\n",
    "- __class variables__: aka *static variables* declared before the constructor and shared by all instances created from said class\n",
    "- __instance variables__: declared within the constructor or at any time in the life of an instance\n",
    "- __local variables__: the arguments provided to any methods"
   ]
  },
  {
   "cell_type": "code",
   "execution_count": 70,
   "id": "e9115546",
   "metadata": {},
   "outputs": [],
   "source": [
    "class VarClass:\n",
    "    class_var = 0 # Class/static variable\n",
    "    \n",
    "    def __init__(self):\n",
    "        instance_var = 1 # instance variable\n",
    "        \n",
    "    def local_setter(local_var): # the local_var passed here is a local variable\n",
    "        self.local_var = local_var # despite the name this is an instance var that's been set to the value of the local var passed to it"
   ]
  },
  {
   "cell_type": "markdown",
   "id": "c34e84f2",
   "metadata": {},
   "source": [
    "## The `hasattr()`  function\n",
    "The `hasattr` function takes an object/class and string and returns `True` if the object/class contains an attribute with the string as its name."
   ]
  },
  {
   "cell_type": "code",
   "execution_count": 76,
   "id": "ed61ece4",
   "metadata": {},
   "outputs": [
    {
     "name": "stdout",
     "output_type": "stream",
     "text": [
      "True\n",
      "False\n",
      "True\n",
      "True\n"
     ]
    }
   ],
   "source": [
    "class AttrClass:\n",
    "    class_var = 0\n",
    "    \n",
    "    def __init__(self):\n",
    "        self.instance_var = 2\n",
    "        \n",
    "obj = AttrClass()\n",
    "\n",
    "print(hasattr(obj, \"instance_var\")) # object has instance_var\n",
    "print(hasattr(AttrClass, \"instance_var\")) # class does not have instance var\n",
    "print(hasattr(AttrClass, \"class_var\")) # class has class var\n",
    "print(hasattr(AttrClass(), \"instance_var\")) # () means this is an instance and not the class"
   ]
  },
  {
   "cell_type": "markdown",
   "id": "e7b27837",
   "metadata": {},
   "source": [
    "## The `weekheader` function\n",
    "Contrary to the info in the official PCAP course, the `weekheader` does not always return the 3-digit version of the weekday names regardless of the number passed to it. If you pass the numbers 1 to 8 it will return the 3 digit version but 9 or above will return the full weekday names."
   ]
  },
  {
   "cell_type": "code",
   "execution_count": 80,
   "id": "7046f7c6",
   "metadata": {},
   "outputs": [
    {
     "name": "stdout",
     "output_type": "stream",
     "text": [
      "Mon  Tue  Wed  Thu  Fri  Sat  Sun \n",
      "  Mon     Tue     Wed     Thu     Fri     Sat     Sun  \n",
      "  Monday   Tuesday  Wednesday  Thursday   Friday   Saturday   Sunday \n",
      "      Monday            Tuesday           Wednesday           Thursday            Friday            Saturday            Sunday      \n"
     ]
    }
   ],
   "source": [
    "import calendar\n",
    "\n",
    "print(calendar.weekheader(4))\n",
    "print(calendar.weekheader(7))\n",
    "print(calendar.weekheader(9))\n",
    "print(calendar.weekheader(18))"
   ]
  },
  {
   "cell_type": "code",
   "execution_count": null,
   "id": "6adbacd5",
   "metadata": {},
   "outputs": [],
   "source": []
  }
 ],
 "metadata": {
  "kernelspec": {
   "display_name": "Python 3",
   "language": "python",
   "name": "python3"
  },
  "language_info": {
   "codemirror_mode": {
    "name": "ipython",
    "version": 3
   },
   "file_extension": ".py",
   "mimetype": "text/x-python",
   "name": "python",
   "nbconvert_exporter": "python",
   "pygments_lexer": "ipython3",
   "version": "3.9.4"
  }
 },
 "nbformat": 4,
 "nbformat_minor": 5
}
