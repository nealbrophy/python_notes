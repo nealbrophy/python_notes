{
 "cells": [
  {
   "cell_type": "markdown",
   "id": "early-stevens",
   "metadata": {},
   "source": [
    "# Binary files\n",
    "Before looking at how Python works with binary files, lets look at one of the specialized classes Python uses to store \"amorphous data\" (data which has no specific shape or form, just a series of bytes)."
   ]
  },
  {
   "cell_type": "markdown",
   "id": "mounted-wayne",
   "metadata": {},
   "source": [
    "## What is a bytearray\n",
    "Python has more that one container able to handle this type of data but the one we're going to look at is called a __bytearray__. As the name would suggest it's an array containing (amorphous) bytes.\n",
    "\n",
    "In order to have such a container with which to read in and process, for example, a bitmap image you have to create it explicitly:"
   ]
  },
  {
   "cell_type": "code",
   "execution_count": 3,
   "id": "unavailable-ebony",
   "metadata": {},
   "outputs": [
    {
     "name": "stdout",
     "output_type": "stream",
     "text": [
      "bytearray(b'\\x00\\x00\\x00\\x00\\x00\\x00\\x00\\x00\\x00\\x00')\n",
      "10\n"
     ]
    }
   ],
   "source": [
    "a_data = bytearray(10) # creates a bytearray able to store 10 bytes, this container will be filled with zeros\n",
    "print(a_data)\n",
    "print(len(a_data))"
   ]
  },
  {
   "cell_type": "markdown",
   "id": "statutory-retro",
   "metadata": {},
   "source": [
    "Bytearrays share some similiarities with standard Python lists. For example, they're __mutable__, the `len()` function recognises them, and you can access the array's elements using indexing."
   ]
  },
  {
   "cell_type": "code",
   "execution_count": 4,
   "id": "changing-funeral",
   "metadata": {},
   "outputs": [
    {
     "name": "stdout",
     "output_type": "stream",
     "text": [
      "0\n"
     ]
    }
   ],
   "source": [
    "print(a_data[3])"
   ]
  },
  {
   "cell_type": "markdown",
   "id": "uniform-transport",
   "metadata": {},
   "source": [
    "However, you cannot set any bytearray element to a non-integer value. If you try you'll get a `TypeError` exception. This integer value must be between 0 and 255 (inclusive), or you'll raise a `ValueError` exception."
   ]
  },
  {
   "cell_type": "markdown",
   "id": "creative-walter",
   "metadata": {},
   "source": [
    "## How to write a bytearray\n",
    "The first step is creating a bytearray of sufficient size. Then we can populate the array with data of some sort. Finally, we can use the same `open()` and `write()` functions in binary (`b`) mode to actually write the file."
   ]
  },
  {
   "cell_type": "code",
   "execution_count": 11,
   "id": "neutral-flight",
   "metadata": {},
   "outputs": [],
   "source": [
    "from os import strerror\n",
    "\n",
    "new_data = bytearray(10)\n",
    "\n",
    "for i in range(len(new_data)):\n",
    "    new_data[i] = 10 + i\n",
    "    \n",
    "try:\n",
    "    byte_file = open(\"file.bin\",\"wb\")\n",
    "    byte_file.write(new_data)\n",
    "    byte_file.close()\n",
    "except IOError as e:\n",
    "    print(\"I/O error occurred:\",strerror(e.errno))\n",
    "    \n"
   ]
  },
  {
   "cell_type": "markdown",
   "id": "bound-slide",
   "metadata": {},
   "source": [
    "## How to read from a bytearray\n",
    "### The `readinto()` method\n",
    "The first method to mention is the `readinto()` method which takes one argument, a bytearray to fill with the data being read."
   ]
  },
  {
   "cell_type": "code",
   "execution_count": 13,
   "id": "looking-crime",
   "metadata": {},
   "outputs": [
    {
     "name": "stdout",
     "output_type": "stream",
     "text": [
      "0xa 0xb 0xc 0xd 0xe 0xf 0x10 0x11 0x12 0x13 "
     ]
    }
   ],
   "source": [
    "read_data = bytearray(10)\n",
    "\n",
    "try:\n",
    "    byte_file = open(\"file.bin\",\"rb\")\n",
    "    byte_file.readinto(read_data)\n",
    "    for i in data:\n",
    "        print(hex(i),end=\" \")\n",
    "    byte_file.close()\n",
    "except IOError as e:\n",
    "    print(\"I/O error occurred:\",strerror(e.errno))"
   ]
  },
  {
   "cell_type": "markdown",
   "id": "comprehensive-familiar",
   "metadata": {},
   "source": [
    "### The `read()` method\n",
    "Alternatively, we can use the same `read()` method as for text but passed as an argument for the `bytearray()` function. Invoking the `read()` method without arguments will attempt to read the entire file into memory. __Only use this method if you know that the files contents will fit in the available memory__."
   ]
  },
  {
   "cell_type": "code",
   "execution_count": 14,
   "id": "about-assurance",
   "metadata": {},
   "outputs": [
    {
     "name": "stdout",
     "output_type": "stream",
     "text": [
      "0xa 0xb 0xc 0xd 0xe 0xf 0x10 0x11 0x12 0x13 "
     ]
    }
   ],
   "source": [
    "from os import strerror\n",
    "\n",
    "try:\n",
    "    bfile = open(\"file.bin\",\"rb\")\n",
    "    bfdata = bytearray(bfile.read())\n",
    "    bfile.close()\n",
    "    \n",
    "    for b in bfdata:\n",
    "        print(hex(b),end=\" \")\n",
    "        \n",
    "except IOError as e:\n",
    "    print(\"I/O Error occurred:\",strerror(e.errno))"
   ]
  },
  {
   "cell_type": "markdown",
   "id": "excited-sewing",
   "metadata": {},
   "source": [
    "If you pass an argument to the `read()` method, that argument specifies the maximum number of bytes to be read. In the following example we read 5 of the 10 bytes."
   ]
  },
  {
   "cell_type": "code",
   "execution_count": 16,
   "id": "other-chess",
   "metadata": {},
   "outputs": [
    {
     "name": "stdout",
     "output_type": "stream",
     "text": [
      "0xa 0xb 0xc 0xd 0xe "
     ]
    }
   ],
   "source": [
    "try:\n",
    "    bfile2 = open(\"file.bin\", \"rb\")\n",
    "    bf2data = bytearray(bfile2.read(5))\n",
    "    bfile2.close()\n",
    "    \n",
    "    for b in bf2data:\n",
    "        print(hex(b), end=\" \")\n",
    "        \n",
    "except IOError as e:\n",
    "    print(\"I/O Error occurred:\",strerror(e.errno))"
   ]
  },
  {
   "cell_type": "markdown",
   "id": "tracked-miniature",
   "metadata": {},
   "source": [
    "## Putting this knowledge to use\n",
    "Lets use the knowledge we've acquired with regard to reading & writing files to create a functional albeit unimpressive tool for copying files."
   ]
  },
  {
   "cell_type": "code",
   "execution_count": 18,
   "id": "present-librarian",
   "metadata": {},
   "outputs": [
    {
     "name": "stdout",
     "output_type": "stream",
     "text": [
      "Enter the name of the file you want to copyriker.txt\n",
      "Enter a name for the destination filenew_riker.txt\n"
     ]
    }
   ],
   "source": [
    "from os import strerror\n",
    "\n",
    "char_count = 0\n",
    "\n",
    "# prepare the file to copy\n",
    "src_file = input(\"Enter the name of the file you want to copy: \")\n",
    "\n",
    "try:\n",
    "    file_to_copy = open(src_file,\"rt\")\n",
    "except IOError as e:\n",
    "    print(\"Unable to open the source file:\",strerror(e.errno))\n",
    "    exit(e.errno)\n",
    "    \n",
    "# prepare the destination file\n",
    "dst_file = input(\"Enter a name for the destination file: \")\n",
    "\n",
    "try:\n",
    "    file_to_create = open(dst_file,\"wt\")\n",
    "except IOError as e:\n",
    "    print(\"Unable to create file:\",strerror(e.errno))\n",
    "    file_to_copy.close()\n",
    "    exit(e.errno)\n",
    "\n",
    "# do the copying    \n",
    "try:\n",
    "    incoming = file_to_copy.read(1)\n",
    "    while incoming != '':\n",
    "        for ch in incoming:\n",
    "            char_count += 1\n",
    "            file_to_create.write(ch)\n",
    "            incoming = file_to_copy.read(1)\n",
    "    file_to_copy.close()\n",
    "    file_to_create.close()\n",
    "except IOError as e:\n",
    "    print(\"Unable to complete transaction:\",strerror(e.errno))"
   ]
  }
 ],
 "metadata": {
  "kernelspec": {
   "display_name": "Python 3",
   "language": "python",
   "name": "python3"
  },
  "language_info": {
   "codemirror_mode": {
    "name": "ipython",
    "version": 3
   },
   "file_extension": ".py",
   "mimetype": "text/x-python",
   "name": "python",
   "nbconvert_exporter": "python",
   "pygments_lexer": "ipython3",
   "version": "3.9.4"
  }
 },
 "nbformat": 4,
 "nbformat_minor": 5
}
