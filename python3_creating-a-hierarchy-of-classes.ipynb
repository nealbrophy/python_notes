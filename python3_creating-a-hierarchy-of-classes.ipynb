{
 "cells": [
  {
   "cell_type": "markdown",
   "id": "integral-barrel",
   "metadata": {},
   "source": [
    "# Creating a hierarchy of classes"
   ]
  },
  {
   "cell_type": "markdown",
   "id": "agreed-variance",
   "metadata": {},
   "source": [
    "## Polymorphism\n",
    "Polymorphism in the context of Python classes & objects is __a subclass' ability to modify the behaviour of its superclass__. In the following example we can see that the `sing()` method, which is defined in `PolyClass1` and thus invokes class1's `my_song()` method, is automatically adjusted when invoked by `poly_obj2` to call `PolyClass2`'s `my_song()` method and change the song from *La La La* to *Fa Fa Fa*."
   ]
  },
  {
   "cell_type": "code",
   "execution_count": 1,
   "id": "experimental-punch",
   "metadata": {},
   "outputs": [
    {
     "name": "stdout",
     "output_type": "stream",
     "text": [
      "La La La\n",
      "Fa Fa Fa\n"
     ]
    }
   ],
   "source": [
    "class PolyClass1:\n",
    "    def my_song(self):\n",
    "        print(\"La La La\")\n",
    "        \n",
    "    def sing(self):\n",
    "        self.my_song()\n",
    "        \n",
    "class PolyClass2(PolyClass1):\n",
    "    def my_song(self):\n",
    "        print(\"Fa Fa Fa\")\n",
    "        \n",
    "poly_obj1 = PolyClass1()\n",
    "poly_obj2 = PolyClass2()\n",
    "\n",
    "poly_obj1.sing()\n",
    "poly_obj2.sing()"
   ]
  },
  {
   "cell_type": "markdown",
   "id": "pursuant-resource",
   "metadata": {},
   "source": [
    "## How to use polymorphism when building a hierarchy of classes\n",
    "The benefit of polymorphism manifests when creating a single method which is inherited and adjusted by subclasses. In the example below the `PlayMusic` class holds the actual `play()` funtion but doesn't have the specifics of *how* each instrument is played. The subclasses (`Guitar` and `Bass`) implement their specific concrete methods of play (plucking & strumming) and apply those to the shared `play()` function."
   ]
  },
  {
   "cell_type": "code",
   "execution_count": 10,
   "id": "religious-functionality",
   "metadata": {},
   "outputs": [
    {
     "name": "stdout",
     "output_type": "stream",
     "text": [
      "Strum Strum Strum \n",
      "Stopped Strum\n",
      "Pluck Pluck Pluck \n",
      "Stopped Pluck\n"
     ]
    }
   ],
   "source": [
    "import time\n",
    "\n",
    "class PlayMusic:\n",
    "    def play_instrument(self, method, play):\n",
    "        if play:\n",
    "            print((method+\" \")*3)\n",
    "        else:\n",
    "            print(\"Stopped\", method)\n",
    "\n",
    "    def play(self, method):\n",
    "        self.play_instrument(method, True)\n",
    "        time.sleep(0.25)\n",
    "        self.play_instrument(method, False)\n",
    "\n",
    "class Guitar(PlayMusic):\n",
    "    method=\"Strum\"\n",
    "    def strum_strings(self):\n",
    "        self.play(self.method)\n",
    "\n",
    "\n",
    "class Bass(PlayMusic):\n",
    "    method=\"Pluck\"\n",
    "    def pluck_strings(self):\n",
    "        self.play(self.method)\n",
    "        \n",
    "band_member1 = Guitar()\n",
    "band_member2 = Bass()\n",
    "\n",
    "band_member1.strum_strings()\n",
    "band_member2.pluck_strings()"
   ]
  },
  {
   "cell_type": "markdown",
   "id": "declared-inventory",
   "metadata": {},
   "source": [
    "## Using composition to achieve the same effect\n",
    "Composition is the process of composing an object using other different objects. It can be said that:\n",
    "- __inheritance__ extends a class' capabilities by adding new components and modifying existing ones\n",
    "- __composition__ uses a class as a container which holds and makes use of other classes and each object implements a part of the overall behaviour"
   ]
  },
  {
   "cell_type": "code",
   "execution_count": 14,
   "id": "christian-cleaner",
   "metadata": {},
   "outputs": [
    {
     "name": "stdout",
     "output_type": "stream",
     "text": [
      "Strumming 6 strings: True\n",
      "Strumming 6 strings: False\n",
      "Plucking 4 strings: True\n",
      "Plucking 4 strings: False\n"
     ]
    }
   ],
   "source": [
    "import time\n",
    "\n",
    "class PlayGuitar:\n",
    "    method=\"Strum\"\n",
    "    string_num=6\n",
    "    def perform(self, play):\n",
    "        print(f\"{self.method}ming {self.string_num} strings:\",play)\n",
    "\n",
    "\n",
    "class PlayBass:\n",
    "    method=\"Pluck\"\n",
    "    string_num=4\n",
    "    def perform(self, play):\n",
    "        print(f\"{self.method}ing {self.string_num} strings:\",play)\n",
    "        \n",
    "class BandPlay:\n",
    "    def __init__(self, instrument):\n",
    "        self.instrument = instrument\n",
    "        \n",
    "    def play(self):\n",
    "        self.instrument.perform(True)\n",
    "        time.sleep(0.25)\n",
    "        self.instrument.perform(False)\n",
    "        \n",
    "        \n",
    "guitarist = BandPlay(PlayGuitar())\n",
    "bassist = BandPlay(PlayBass())\n",
    "\n",
    "guitarist.play()\n",
    "bassist.play()"
   ]
  },
  {
   "cell_type": "code",
   "execution_count": null,
   "id": "strong-letters",
   "metadata": {},
   "outputs": [],
   "source": []
  }
 ],
 "metadata": {
  "kernelspec": {
   "display_name": "Python 3",
   "language": "python",
   "name": "python3"
  },
  "language_info": {
   "codemirror_mode": {
    "name": "ipython",
    "version": 3
   },
   "file_extension": ".py",
   "mimetype": "text/x-python",
   "name": "python",
   "nbconvert_exporter": "python",
   "pygments_lexer": "ipython3",
   "version": "3.9.4"
  }
 },
 "nbformat": 4,
 "nbformat_minor": 5
}
