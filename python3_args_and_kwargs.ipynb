{
 "cells": [
  {
   "cell_type": "markdown",
   "metadata": {},
   "source": [
    "## *args\n",
    "Adding `*` to the start of your function parameters means the function will accept any number of parameters (convention is to use `args` as the parameter name, so your function would look like `myfunc(*args):...`)"
   ]
  },
  {
   "cell_type": "code",
   "execution_count": 1,
   "metadata": {},
   "outputs": [
    {
     "data": {
      "text/plain": [
       "1546"
      ]
     },
     "execution_count": 1,
     "metadata": {},
     "output_type": "execute_result"
    }
   ],
   "source": [
    "def sum_up(*args):\n",
    "    return sum(args)\n",
    "sum_up(1, 47, 98, 1400)"
   ]
  },
  {
   "cell_type": "markdown",
   "metadata": {},
   "source": [
    "## \\*\\*kwargs\n",
    "Adding `**` to the start of your function parameters means it will accept an undefined number of keyword arguments (convention is to use `**kwargs` as the parameter)"
   ]
  },
  {
   "cell_type": "code",
   "execution_count": 5,
   "metadata": {},
   "outputs": [
    {
     "name": "stdout",
     "output_type": "stream",
     "text": [
      "I like eating apple!\n"
     ]
    }
   ],
   "source": [
    "def fruit_print(**kwargs):\n",
    "    if 'fruit' in kwargs:\n",
    "        print(f'I like eating {kwargs[\"fruit\"]}!')\n",
    "    else:\n",
    "        print('No fruit :\\(')\n",
    "fruit_print(fruit=\"apple\", veg=\"potato\", junk=\"snickers\")"
   ]
  },
  {
   "cell_type": "code",
   "execution_count": null,
   "metadata": {},
   "outputs": [],
   "source": []
  }
 ],
 "metadata": {
  "kernelspec": {
   "display_name": "Python 3",
   "language": "python",
   "name": "python3"
  },
  "language_info": {
   "codemirror_mode": {
    "name": "ipython",
    "version": 3
   },
   "file_extension": ".py",
   "mimetype": "text/x-python",
   "name": "python",
   "nbconvert_exporter": "python",
   "pygments_lexer": "ipython3",
   "version": "3.8.5"
  }
 },
 "nbformat": 4,
 "nbformat_minor": 4
}
