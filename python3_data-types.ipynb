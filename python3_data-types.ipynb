{
 "cells": [
  {
   "cell_type": "markdown",
   "metadata": {},
   "source": [
    "# <div align=\"center\">Data Types</div>\n",
    "\n",
    "|Type||Code||Description|\n",
    "|:--|---|---|---|:-:|\n",
    "Integers|/|`int`|/|Whole numbers e.g. `1`, `43`, `5000`\n",
    "Floating Points|/|`float`|/|Decimal numbers e.g. `2.4`, `341.007`\n",
    "Strings|/|`str`|/|One or more characters e.g. `Y`, `Hello`\n",
    "Lists|/|`list`:`[...]`|/|Holds an ordered sequence of objects e.g. `[5,'Hello',True]`\n",
    "Dictionaries|/|`dict`:`{...}`|/|Unordered KEY:VALUE pairs e.g. `{\"thing_name\":\"tname\", \"thing_age\":42}`\n",
    "Tuples|/|`tup`:`(...)`|/|Ordered AND immutable sequence of objects e.g. `(23,\"eternal shoe\",98.5)`\n",
    "Sets|/|`set`:`{...}`|/|Unordered sequence of UNIQUE objects e.g. `{\"a\",\"b\",\"f\"}`\n",
    "Booleans|/|`bool`:`True/False`|/|Logical value of either `True` or `False`\n"
   ]
  },
  {
   "cell_type": "markdown",
   "metadata": {},
   "source": [
    "\n",
    "***\n",
    "\n",
    "## Integers\n",
    "\n",
    "|Type||Code||Description|\n",
    "|:--|---|---|---|:-:|\n",
    "Integers|/|`int`|/|Whole numbers e.g. `1`, `43`, `5000`"
   ]
  },
  {
   "cell_type": "code",
   "execution_count": 18,
   "metadata": {},
   "outputs": [
    {
     "name": "stdout",
     "output_type": "stream",
     "text": [
      "1\n",
      "<class 'int'>\n"
     ]
    }
   ],
   "source": [
    "my_int = 1\n",
    "print(my_int)\n",
    "print(type(my_int))"
   ]
  },
  {
   "cell_type": "markdown",
   "metadata": {},
   "source": [
    "\n",
    "***\n",
    "\n",
    "## Floats\n",
    "|Type||Code||Description|\n",
    "|:--|---|---|---|:-:|\n",
    "Floating Points|/|`float`|/|Decimal numbers e.g. `2.4`, `341.007`"
   ]
  },
  {
   "cell_type": "code",
   "execution_count": 5,
   "metadata": {},
   "outputs": [
    {
     "name": "stdout",
     "output_type": "stream",
     "text": [
      "792.456\n",
      "<class 'float'>\n"
     ]
    }
   ],
   "source": [
    "my_float = 792.456\n",
    "print(my_float)\n",
    "print(type(my_float))"
   ]
  },
  {
   "cell_type": "markdown",
   "metadata": {},
   "source": [
    "\n",
    "***\n",
    "\n",
    "## Strings\n",
    "|Type||Code||Description|\n",
    "|:--|---|---|---|:-:|\n",
    "Strings|/|`str`|/|One or more characters e.g. `Y`, `Hello`\n"
   ]
  },
  {
   "cell_type": "code",
   "execution_count": 6,
   "metadata": {},
   "outputs": [
    {
     "name": "stdout",
     "output_type": "stream",
     "text": [
      "hello world!!\n",
      "<class 'str'>\n"
     ]
    }
   ],
   "source": [
    "my_string = \"hello world!!\"\n",
    "print(my_string)\n",
    "print(type(my_string))"
   ]
  },
  {
   "cell_type": "markdown",
   "metadata": {},
   "source": [
    "\n",
    "***\n",
    "\n",
    "## Lists\n",
    "|Type||Code||Description|\n",
    "|:--|---|---|---|:-:|\n",
    "Lists|/|`list`:`[...]`|/|Holds an ordered sequence of objects e.g. `[5,'Hello',True]`\n"
   ]
  },
  {
   "cell_type": "code",
   "execution_count": 7,
   "metadata": {},
   "outputs": [
    {
     "name": "stdout",
     "output_type": "stream",
     "text": [
      "[1, 'hello', False]\n",
      "<class 'list'>\n"
     ]
    }
   ],
   "source": [
    "my_list = [1,\"hello\", False]\n",
    "print(my_list)\n",
    "print(type(my_list))"
   ]
  },
  {
   "cell_type": "markdown",
   "metadata": {},
   "source": [
    "***\n",
    "## Dictionaries\n",
    "|Type||Code||Description|\n",
    "|:--|---|---|---|:-:|\n",
    "Dictionaries|/|`dict`:`{...}`|/|Unordered KEY:VALUE pairs e.g. `{\"thing_name\":\"tname\", \"thing_age\":42}`\n"
   ]
  },
  {
   "cell_type": "code",
   "execution_count": 9,
   "metadata": {},
   "outputs": [
    {
     "name": "stdout",
     "output_type": "stream",
     "text": [
      "{'name': 'John Carter', 'from': 'Earth', 'Of': 'Mars'}\n",
      "<class 'dict'>\n"
     ]
    }
   ],
   "source": [
    "my_dict = {\"name\":\"John Carter\", \"from\":\"Earth\", \"Of\": \"Mars\"}\n",
    "print(my_dict)\n",
    "print(type(my_dict))"
   ]
  },
  {
   "cell_type": "markdown",
   "metadata": {},
   "source": [
    "\n",
    "***\n",
    "\n",
    "## Tuples\n",
    "|Type||Code||Description|\n",
    "|:--|---|---|---|:-:|\n",
    "Tuples|/|`tup`:`(...)`|/|Ordered AND immutable sequence of objects e.g. `(23,\"eternal shoe\",98.5)`\n"
   ]
  },
  {
   "cell_type": "code",
   "execution_count": 13,
   "metadata": {},
   "outputs": [
    {
     "name": "stdout",
     "output_type": "stream",
     "text": [
      "('Purple', 'Monkey', 'Dishwasher')\n",
      "<class 'tuple'>\n"
     ]
    }
   ],
   "source": [
    "my_tuple = (\"Purple\", \"Monkey\", \"Dishwasher\")\n",
    "print(my_tuple)\n",
    "print(type(my_tuple))"
   ]
  },
  {
   "cell_type": "markdown",
   "metadata": {},
   "source": [
    "\n",
    "***\n",
    "\n",
    "## Sets\n",
    "|Type||Code||Description|\n",
    "|:--|---|---|---|:-:|\n",
    "Sets|/|`set`:`{...}`|/|Unordered sequence of UNIQUE objects e.g. `{\"a\",\"b\",\"f\"}`\n"
   ]
  },
  {
   "cell_type": "code",
   "execution_count": 20,
   "metadata": {},
   "outputs": [
    {
     "name": "stdout",
     "output_type": "stream",
     "text": [
      "{1, 2, 43, 788}\n",
      "<class 'set'>\n"
     ]
    }
   ],
   "source": [
    "my_set = {1,2,43,788}\n",
    "print(my_set)\n",
    "print(type(my_set))"
   ]
  },
  {
   "cell_type": "markdown",
   "metadata": {},
   "source": [
    "\n",
    "***\n",
    "\n",
    "## Booleans\n",
    "|Type||Code||Description|\n",
    "|:--|---|---|---|:-:|\n",
    "Booleans|/|`bool`:`True/False`|/|Logical value of either `True` or `False`\n"
   ]
  },
  {
   "cell_type": "code",
   "execution_count": 17,
   "metadata": {},
   "outputs": [
    {
     "name": "stdout",
     "output_type": "stream",
     "text": [
      "True\n",
      "<class 'bool'>\n"
     ]
    }
   ],
   "source": [
    "my_bool = True\n",
    "print(my_bool)\n",
    "print(type(my_bool))"
   ]
  }
 ],
 "metadata": {
  "kernelspec": {
   "display_name": "Python 3",
   "language": "python",
   "name": "python3"
  },
  "language_info": {
   "codemirror_mode": {
    "name": "ipython",
    "version": 3
   },
   "file_extension": ".py",
   "mimetype": "text/x-python",
   "name": "python",
   "nbconvert_exporter": "python",
   "pygments_lexer": "ipython3",
   "version": "3.8.5"
  }
 },
 "nbformat": 4,
 "nbformat_minor": 4
}
